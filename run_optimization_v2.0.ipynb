{
 "cells": [
  {
   "cell_type": "code",
   "execution_count": 1,
   "id": "a4c2aa46",
   "metadata": {},
   "outputs": [],
   "source": [
    "import os\n",
    "from pyomo.environ import *\n",
    "from pyomo.opt import SolverFactory\n",
    "import pandas as pd \n",
    "\n",
    "import warnings\n",
    "warnings.filterwarnings('ignore')\n",
    "from datetime import datetime\n",
    "import matplotlib.pyplot as plt\n",
    "\n",
    "import sys \n",
    "from pathlib import Path\n",
    "import plotly.express as px\n",
    "\n",
    "module_path = \"\"\n",
    "# file=os.path.join(module_path,\"utils.py\")\n",
    "sys.path.append(module_path)\n",
    "import utils as utils"
   ]
  },
  {
   "cell_type": "code",
   "execution_count": 2,
   "id": "012792ba",
   "metadata": {},
   "outputs": [],
   "source": [
    "pipeline_tasks= {\n",
    "    ('Project1','Task1_1') : \n",
    "        {'start_date':'1 JAN 2022','end_date':'31 JAN 2022',\n",
    "         'skillset':'AI_architect','uf':0.5} ,\n",
    "    \n",
    "    ('Project1','Task2_1') : \n",
    "        {'start_date':'1 FEB 2022','end_date':'28 FEB 2022',\n",
    "         'skillset':'BI','uf':1},\n",
    "    \n",
    "    ('Project2','Task1_2') : \n",
    "        {'start_date':'1 MAR 2022','end_date':'30 MAR 2022',\n",
    "         'skillset':'DS','uf':0.5} ,  # --- > For Kareem\n",
    "    \n",
    "    ('Project2','Task2_2') : \n",
    "        {'start_date':'1 MAR 2022','end_date':'31 MAR 2022',\n",
    "         'skillset':'DS','uf':1} ,\n",
    "    \n",
    "    ('Project2','Task3_2') : \n",
    "        {'start_date':'1 MAR 2022','end_date':'30 MAR 2022',\n",
    "         'skillset':'DS','uf':0.5} ,\n",
    "    ('Project3','Task1_3') : \n",
    "        {'start_date':'5 MAR 2023','end_date':'7 MAR 2023',\n",
    "         'skillset':'BI','uf':1}  ,\n",
    "    \n",
    "     ('Project3','Task2_3') : \n",
    "        {'start_date':'1 JAN 2022','end_date':'5 JAN 2022',\n",
    "         'skillset':'DS','uf':0.5} , # --- > For Kareem\n",
    "\n",
    "}\n",
    "\n",
    "\n",
    "RESOURCES= {\n",
    "    'Amr' : \n",
    "        {'skillset':'AI_architect','seniority': 'LEAD 2C','slots':1,\n",
    "        'current_load':{\n",
    "            'ong_1':{'project':'SWCC','start_date':'1 JAN 2022','end_date':'30 JUN 2022' ,'uf':0.5} ,\n",
    "            'ong_2':{'project':'MEWA','start_date':'1 JAN 2022','end_date':'31 MAR 2022' ,'uf':0.5}\n",
    "        }},\n",
    "    \n",
    "    'Reem' : \n",
    "        {'skillset':['BI','VIS'],\"avail_start\":'1 FEB 2022',\"avail_end\": '28 FEB 2022','slots':1,\n",
    "        'current_load':{\n",
    "            'ong_3':{'project':'SWCC','start_date':'1 JAN 2022','end_date':'30 JUN 2022' ,'uf':1} ,\n",
    "        }},\n",
    "    \n",
    "    'Kareem' : \n",
    "        {'skillset':'DS',\"avail_start\":'2 FEB 2022',\"avail_end\": '30 MAR 2023','slots':1,\n",
    "        'current_load':{\n",
    "            'ong_4':{'project':'SWCC','start_date':'1 JAN 2022','end_date':'30 JUN 2022' ,'uf':1} ,\n",
    "        }},\n",
    "    \n",
    "    'Mohamed' : \n",
    "        {'skillset':'BI',\"avail_start\":'1 MAR 2022',\"avail_end\": '30 MAR 2022','slots':1,\n",
    "        'current_load':{\n",
    "            'ong_5':{'project':'SWCC','start_date':'1 JAN 2022','end_date':'30 JUN 2022' ,'uf':1} ,\n",
    "        }},\n",
    "    \n",
    "    'other1' :\n",
    "        {'skillset':'Devops',\"avail_start\":'1 JAN 2022',\"avail_end\": '31 JAN 2022','slots':1,\n",
    "        'current_load':{\n",
    "            'ong_6':{'project':'SWCC','start_date':'1 JAN 2022','end_date':'30 JUN 2022' ,'uf':1} ,\n",
    "        }}\n",
    " \n",
    "}"
   ]
  },
  {
   "cell_type": "code",
   "execution_count": 3,
   "id": "cbb7fa10",
   "metadata": {},
   "outputs": [
    {
     "data": {
      "application/vnd.plotly.v1+json": {
       "config": {
        "plotlyServerURL": "https://plot.ly"
       },
       "data": [
        {
         "alignmentgroup": "True",
         "base": [
          "2022-01-01T00:00:00"
         ],
         "hovertemplate": "Role=AI_architect<br>Start=%{base}<br>End=%{x}<br>Task=%{y}<extra></extra>",
         "legendgroup": "AI_architect",
         "marker": {
          "color": "#636efa",
          "pattern": {
           "shape": ""
          }
         },
         "name": "AI_architect",
         "offsetgroup": "AI_architect",
         "orientation": "h",
         "showlegend": true,
         "textposition": "auto",
         "type": "bar",
         "x": [
          2592000000
         ],
         "xaxis": "x",
         "y": [
          "Task1_1"
         ],
         "yaxis": "y"
        },
        {
         "alignmentgroup": "True",
         "base": [
          "2022-02-01T00:00:00",
          "2023-03-05T00:00:00"
         ],
         "hovertemplate": "Role=BI<br>Start=%{base}<br>End=%{x}<br>Task=%{y}<extra></extra>",
         "legendgroup": "BI",
         "marker": {
          "color": "#EF553B",
          "pattern": {
           "shape": ""
          }
         },
         "name": "BI",
         "offsetgroup": "BI",
         "orientation": "h",
         "showlegend": true,
         "textposition": "auto",
         "type": "bar",
         "x": [
          2332800000,
          172800000
         ],
         "xaxis": "x",
         "y": [
          "Task2_1",
          "Task1_3"
         ],
         "yaxis": "y"
        },
        {
         "alignmentgroup": "True",
         "base": [
          "2022-03-01T00:00:00",
          "2022-03-01T00:00:00",
          "2022-03-01T00:00:00",
          "2022-01-01T00:00:00"
         ],
         "hovertemplate": "Role=DS<br>Start=%{base}<br>End=%{x}<br>Task=%{y}<extra></extra>",
         "legendgroup": "DS",
         "marker": {
          "color": "#00cc96",
          "pattern": {
           "shape": ""
          }
         },
         "name": "DS",
         "offsetgroup": "DS",
         "orientation": "h",
         "showlegend": true,
         "textposition": "auto",
         "type": "bar",
         "x": [
          2505600000,
          2592000000,
          2505600000,
          345600000
         ],
         "xaxis": "x",
         "y": [
          "Task1_2",
          "Task2_2",
          "Task3_2",
          "Task2_3"
         ],
         "yaxis": "y"
        }
       ],
       "layout": {
        "barmode": "overlay",
        "legend": {
         "title": {
          "text": "Role"
         },
         "tracegroupgap": 0
        },
        "margin": {
         "t": 60
        },
        "template": {
         "data": {
          "bar": [
           {
            "error_x": {
             "color": "#2a3f5f"
            },
            "error_y": {
             "color": "#2a3f5f"
            },
            "marker": {
             "line": {
              "color": "#E5ECF6",
              "width": 0.5
             },
             "pattern": {
              "fillmode": "overlay",
              "size": 10,
              "solidity": 0.2
             }
            },
            "type": "bar"
           }
          ],
          "barpolar": [
           {
            "marker": {
             "line": {
              "color": "#E5ECF6",
              "width": 0.5
             },
             "pattern": {
              "fillmode": "overlay",
              "size": 10,
              "solidity": 0.2
             }
            },
            "type": "barpolar"
           }
          ],
          "carpet": [
           {
            "aaxis": {
             "endlinecolor": "#2a3f5f",
             "gridcolor": "white",
             "linecolor": "white",
             "minorgridcolor": "white",
             "startlinecolor": "#2a3f5f"
            },
            "baxis": {
             "endlinecolor": "#2a3f5f",
             "gridcolor": "white",
             "linecolor": "white",
             "minorgridcolor": "white",
             "startlinecolor": "#2a3f5f"
            },
            "type": "carpet"
           }
          ],
          "choropleth": [
           {
            "colorbar": {
             "outlinewidth": 0,
             "ticks": ""
            },
            "type": "choropleth"
           }
          ],
          "contour": [
           {
            "colorbar": {
             "outlinewidth": 0,
             "ticks": ""
            },
            "colorscale": [
             [
              0,
              "#0d0887"
             ],
             [
              0.1111111111111111,
              "#46039f"
             ],
             [
              0.2222222222222222,
              "#7201a8"
             ],
             [
              0.3333333333333333,
              "#9c179e"
             ],
             [
              0.4444444444444444,
              "#bd3786"
             ],
             [
              0.5555555555555556,
              "#d8576b"
             ],
             [
              0.6666666666666666,
              "#ed7953"
             ],
             [
              0.7777777777777778,
              "#fb9f3a"
             ],
             [
              0.8888888888888888,
              "#fdca26"
             ],
             [
              1,
              "#f0f921"
             ]
            ],
            "type": "contour"
           }
          ],
          "contourcarpet": [
           {
            "colorbar": {
             "outlinewidth": 0,
             "ticks": ""
            },
            "type": "contourcarpet"
           }
          ],
          "heatmap": [
           {
            "colorbar": {
             "outlinewidth": 0,
             "ticks": ""
            },
            "colorscale": [
             [
              0,
              "#0d0887"
             ],
             [
              0.1111111111111111,
              "#46039f"
             ],
             [
              0.2222222222222222,
              "#7201a8"
             ],
             [
              0.3333333333333333,
              "#9c179e"
             ],
             [
              0.4444444444444444,
              "#bd3786"
             ],
             [
              0.5555555555555556,
              "#d8576b"
             ],
             [
              0.6666666666666666,
              "#ed7953"
             ],
             [
              0.7777777777777778,
              "#fb9f3a"
             ],
             [
              0.8888888888888888,
              "#fdca26"
             ],
             [
              1,
              "#f0f921"
             ]
            ],
            "type": "heatmap"
           }
          ],
          "heatmapgl": [
           {
            "colorbar": {
             "outlinewidth": 0,
             "ticks": ""
            },
            "colorscale": [
             [
              0,
              "#0d0887"
             ],
             [
              0.1111111111111111,
              "#46039f"
             ],
             [
              0.2222222222222222,
              "#7201a8"
             ],
             [
              0.3333333333333333,
              "#9c179e"
             ],
             [
              0.4444444444444444,
              "#bd3786"
             ],
             [
              0.5555555555555556,
              "#d8576b"
             ],
             [
              0.6666666666666666,
              "#ed7953"
             ],
             [
              0.7777777777777778,
              "#fb9f3a"
             ],
             [
              0.8888888888888888,
              "#fdca26"
             ],
             [
              1,
              "#f0f921"
             ]
            ],
            "type": "heatmapgl"
           }
          ],
          "histogram": [
           {
            "marker": {
             "pattern": {
              "fillmode": "overlay",
              "size": 10,
              "solidity": 0.2
             }
            },
            "type": "histogram"
           }
          ],
          "histogram2d": [
           {
            "colorbar": {
             "outlinewidth": 0,
             "ticks": ""
            },
            "colorscale": [
             [
              0,
              "#0d0887"
             ],
             [
              0.1111111111111111,
              "#46039f"
             ],
             [
              0.2222222222222222,
              "#7201a8"
             ],
             [
              0.3333333333333333,
              "#9c179e"
             ],
             [
              0.4444444444444444,
              "#bd3786"
             ],
             [
              0.5555555555555556,
              "#d8576b"
             ],
             [
              0.6666666666666666,
              "#ed7953"
             ],
             [
              0.7777777777777778,
              "#fb9f3a"
             ],
             [
              0.8888888888888888,
              "#fdca26"
             ],
             [
              1,
              "#f0f921"
             ]
            ],
            "type": "histogram2d"
           }
          ],
          "histogram2dcontour": [
           {
            "colorbar": {
             "outlinewidth": 0,
             "ticks": ""
            },
            "colorscale": [
             [
              0,
              "#0d0887"
             ],
             [
              0.1111111111111111,
              "#46039f"
             ],
             [
              0.2222222222222222,
              "#7201a8"
             ],
             [
              0.3333333333333333,
              "#9c179e"
             ],
             [
              0.4444444444444444,
              "#bd3786"
             ],
             [
              0.5555555555555556,
              "#d8576b"
             ],
             [
              0.6666666666666666,
              "#ed7953"
             ],
             [
              0.7777777777777778,
              "#fb9f3a"
             ],
             [
              0.8888888888888888,
              "#fdca26"
             ],
             [
              1,
              "#f0f921"
             ]
            ],
            "type": "histogram2dcontour"
           }
          ],
          "mesh3d": [
           {
            "colorbar": {
             "outlinewidth": 0,
             "ticks": ""
            },
            "type": "mesh3d"
           }
          ],
          "parcoords": [
           {
            "line": {
             "colorbar": {
              "outlinewidth": 0,
              "ticks": ""
             }
            },
            "type": "parcoords"
           }
          ],
          "pie": [
           {
            "automargin": true,
            "type": "pie"
           }
          ],
          "scatter": [
           {
            "fillpattern": {
             "fillmode": "overlay",
             "size": 10,
             "solidity": 0.2
            },
            "type": "scatter"
           }
          ],
          "scatter3d": [
           {
            "line": {
             "colorbar": {
              "outlinewidth": 0,
              "ticks": ""
             }
            },
            "marker": {
             "colorbar": {
              "outlinewidth": 0,
              "ticks": ""
             }
            },
            "type": "scatter3d"
           }
          ],
          "scattercarpet": [
           {
            "marker": {
             "colorbar": {
              "outlinewidth": 0,
              "ticks": ""
             }
            },
            "type": "scattercarpet"
           }
          ],
          "scattergeo": [
           {
            "marker": {
             "colorbar": {
              "outlinewidth": 0,
              "ticks": ""
             }
            },
            "type": "scattergeo"
           }
          ],
          "scattergl": [
           {
            "marker": {
             "colorbar": {
              "outlinewidth": 0,
              "ticks": ""
             }
            },
            "type": "scattergl"
           }
          ],
          "scattermapbox": [
           {
            "marker": {
             "colorbar": {
              "outlinewidth": 0,
              "ticks": ""
             }
            },
            "type": "scattermapbox"
           }
          ],
          "scatterpolar": [
           {
            "marker": {
             "colorbar": {
              "outlinewidth": 0,
              "ticks": ""
             }
            },
            "type": "scatterpolar"
           }
          ],
          "scatterpolargl": [
           {
            "marker": {
             "colorbar": {
              "outlinewidth": 0,
              "ticks": ""
             }
            },
            "type": "scatterpolargl"
           }
          ],
          "scatterternary": [
           {
            "marker": {
             "colorbar": {
              "outlinewidth": 0,
              "ticks": ""
             }
            },
            "type": "scatterternary"
           }
          ],
          "surface": [
           {
            "colorbar": {
             "outlinewidth": 0,
             "ticks": ""
            },
            "colorscale": [
             [
              0,
              "#0d0887"
             ],
             [
              0.1111111111111111,
              "#46039f"
             ],
             [
              0.2222222222222222,
              "#7201a8"
             ],
             [
              0.3333333333333333,
              "#9c179e"
             ],
             [
              0.4444444444444444,
              "#bd3786"
             ],
             [
              0.5555555555555556,
              "#d8576b"
             ],
             [
              0.6666666666666666,
              "#ed7953"
             ],
             [
              0.7777777777777778,
              "#fb9f3a"
             ],
             [
              0.8888888888888888,
              "#fdca26"
             ],
             [
              1,
              "#f0f921"
             ]
            ],
            "type": "surface"
           }
          ],
          "table": [
           {
            "cells": {
             "fill": {
              "color": "#EBF0F8"
             },
             "line": {
              "color": "white"
             }
            },
            "header": {
             "fill": {
              "color": "#C8D4E3"
             },
             "line": {
              "color": "white"
             }
            },
            "type": "table"
           }
          ]
         },
         "layout": {
          "annotationdefaults": {
           "arrowcolor": "#2a3f5f",
           "arrowhead": 0,
           "arrowwidth": 1
          },
          "autotypenumbers": "strict",
          "coloraxis": {
           "colorbar": {
            "outlinewidth": 0,
            "ticks": ""
           }
          },
          "colorscale": {
           "diverging": [
            [
             0,
             "#8e0152"
            ],
            [
             0.1,
             "#c51b7d"
            ],
            [
             0.2,
             "#de77ae"
            ],
            [
             0.3,
             "#f1b6da"
            ],
            [
             0.4,
             "#fde0ef"
            ],
            [
             0.5,
             "#f7f7f7"
            ],
            [
             0.6,
             "#e6f5d0"
            ],
            [
             0.7,
             "#b8e186"
            ],
            [
             0.8,
             "#7fbc41"
            ],
            [
             0.9,
             "#4d9221"
            ],
            [
             1,
             "#276419"
            ]
           ],
           "sequential": [
            [
             0,
             "#0d0887"
            ],
            [
             0.1111111111111111,
             "#46039f"
            ],
            [
             0.2222222222222222,
             "#7201a8"
            ],
            [
             0.3333333333333333,
             "#9c179e"
            ],
            [
             0.4444444444444444,
             "#bd3786"
            ],
            [
             0.5555555555555556,
             "#d8576b"
            ],
            [
             0.6666666666666666,
             "#ed7953"
            ],
            [
             0.7777777777777778,
             "#fb9f3a"
            ],
            [
             0.8888888888888888,
             "#fdca26"
            ],
            [
             1,
             "#f0f921"
            ]
           ],
           "sequentialminus": [
            [
             0,
             "#0d0887"
            ],
            [
             0.1111111111111111,
             "#46039f"
            ],
            [
             0.2222222222222222,
             "#7201a8"
            ],
            [
             0.3333333333333333,
             "#9c179e"
            ],
            [
             0.4444444444444444,
             "#bd3786"
            ],
            [
             0.5555555555555556,
             "#d8576b"
            ],
            [
             0.6666666666666666,
             "#ed7953"
            ],
            [
             0.7777777777777778,
             "#fb9f3a"
            ],
            [
             0.8888888888888888,
             "#fdca26"
            ],
            [
             1,
             "#f0f921"
            ]
           ]
          },
          "colorway": [
           "#636efa",
           "#EF553B",
           "#00cc96",
           "#ab63fa",
           "#FFA15A",
           "#19d3f3",
           "#FF6692",
           "#B6E880",
           "#FF97FF",
           "#FECB52"
          ],
          "font": {
           "color": "#2a3f5f"
          },
          "geo": {
           "bgcolor": "white",
           "lakecolor": "white",
           "landcolor": "#E5ECF6",
           "showlakes": true,
           "showland": true,
           "subunitcolor": "white"
          },
          "hoverlabel": {
           "align": "left"
          },
          "hovermode": "closest",
          "mapbox": {
           "style": "light"
          },
          "paper_bgcolor": "white",
          "plot_bgcolor": "#E5ECF6",
          "polar": {
           "angularaxis": {
            "gridcolor": "white",
            "linecolor": "white",
            "ticks": ""
           },
           "bgcolor": "#E5ECF6",
           "radialaxis": {
            "gridcolor": "white",
            "linecolor": "white",
            "ticks": ""
           }
          },
          "scene": {
           "xaxis": {
            "backgroundcolor": "#E5ECF6",
            "gridcolor": "white",
            "gridwidth": 2,
            "linecolor": "white",
            "showbackground": true,
            "ticks": "",
            "zerolinecolor": "white"
           },
           "yaxis": {
            "backgroundcolor": "#E5ECF6",
            "gridcolor": "white",
            "gridwidth": 2,
            "linecolor": "white",
            "showbackground": true,
            "ticks": "",
            "zerolinecolor": "white"
           },
           "zaxis": {
            "backgroundcolor": "#E5ECF6",
            "gridcolor": "white",
            "gridwidth": 2,
            "linecolor": "white",
            "showbackground": true,
            "ticks": "",
            "zerolinecolor": "white"
           }
          },
          "shapedefaults": {
           "line": {
            "color": "#2a3f5f"
           }
          },
          "ternary": {
           "aaxis": {
            "gridcolor": "white",
            "linecolor": "white",
            "ticks": ""
           },
           "baxis": {
            "gridcolor": "white",
            "linecolor": "white",
            "ticks": ""
           },
           "bgcolor": "#E5ECF6",
           "caxis": {
            "gridcolor": "white",
            "linecolor": "white",
            "ticks": ""
           }
          },
          "title": {
           "x": 0.05
          },
          "xaxis": {
           "automargin": true,
           "gridcolor": "white",
           "linecolor": "white",
           "ticks": "",
           "title": {
            "standoff": 15
           },
           "zerolinecolor": "white",
           "zerolinewidth": 2
          },
          "yaxis": {
           "automargin": true,
           "gridcolor": "white",
           "linecolor": "white",
           "ticks": "",
           "title": {
            "standoff": 15
           },
           "zerolinecolor": "white",
           "zerolinewidth": 2
          }
         }
        },
        "xaxis": {
         "anchor": "y",
         "domain": [
          0,
          1
         ],
         "type": "date"
        },
        "yaxis": {
         "anchor": "x",
         "autorange": "reversed",
         "domain": [
          0,
          1
         ],
         "title": {
          "text": "Task"
         }
        }
       }
      }
     },
     "metadata": {},
     "output_type": "display_data"
    }
   ],
   "source": [
    "pd_1=utils.convert_to_pd(pipeline_tasks)\n",
    "utils.plot_gantt_chart(pd_1)"
   ]
  },
  {
   "cell_type": "code",
   "execution_count": 4,
   "id": "cf9d6e4b",
   "metadata": {},
   "outputs": [],
   "source": [
    "ongoing_tasks=utils.resource_tasks(RESOURCES)\n",
    "pipeline_tasks=utils.add_pipeline_type(pipeline_tasks)\n",
    "TASKS=utils.merge_ongoing_pipeline(pipeline_tasks,ongoing_tasks)\n",
    "\n",
    "all_tasks_overlap_tuples=utils.get_over_lap_tasks(TASKS)\n",
    "all_task_overlap=utils.task_overlap_combination(all_tasks_overlap_tuples)"
   ]
  },
  {
   "cell_type": "code",
   "execution_count": 5,
   "id": "7e936249",
   "metadata": {},
   "outputs": [
    {
     "data": {
      "text/plain": [
       "[[('Project1', 'Task1_1'), ('SWCC', 'SWCC_0')],\n",
       " [('Project1', 'Task1_1'), ('MEWA', 'MEWA_1')],\n",
       " [('SWCC', 'SWCC_0'), ('MEWA', 'MEWA_1')],\n",
       " [('Project1', 'Task2_1'), ('SWCC', 'SWCC_4')],\n",
       " [('Project2', 'Task1_2'), ('Project2', 'Task2_2')],\n",
       " [('Project2', 'Task1_2'), ('Project2', 'Task3_2')],\n",
       " [('Project2', 'Task1_2'), ('SWCC', 'SWCC_3')],\n",
       " [('Project2', 'Task2_2'), ('Project2', 'Task3_2')],\n",
       " [('Project2', 'Task2_2'), ('SWCC', 'SWCC_3')],\n",
       " [('Project2', 'Task3_2'), ('SWCC', 'SWCC_3')],\n",
       " [('SWCC', 'SWCC_3'), ('Project3', 'Task2_3')],\n",
       " [('Project1', 'Task1_1'), ('SWCC', 'SWCC_0'), ('MEWA', 'MEWA_1')],\n",
       " [('Project2', 'Task1_2'), ('Project2', 'Task2_2'), ('Project2', 'Task3_2')],\n",
       " [('Project2', 'Task1_2'), ('Project2', 'Task2_2'), ('SWCC', 'SWCC_3')],\n",
       " [('Project2', 'Task1_2'), ('Project2', 'Task3_2'), ('SWCC', 'SWCC_3')],\n",
       " [('Project2', 'Task2_2'), ('Project2', 'Task3_2'), ('SWCC', 'SWCC_3')],\n",
       " [('Project2', 'Task1_2'),\n",
       "  ('Project2', 'Task2_2'),\n",
       "  ('Project2', 'Task3_2'),\n",
       "  ('SWCC', 'SWCC_3')]]"
      ]
     },
     "execution_count": 5,
     "metadata": {},
     "output_type": "execute_result"
    }
   ],
   "source": [
    "all_task_overlap"
   ]
  },
  {
   "cell_type": "code",
   "execution_count": 8,
   "id": "1dbbc7cc",
   "metadata": {},
   "outputs": [],
   "source": [
    "pipline_constraints,resource_constraints=utils.constraints_uf(all_task_overlap,TASKS)"
   ]
  },
  {
   "cell_type": "code",
   "execution_count": 9,
   "id": "fc00dca5",
   "metadata": {},
   "outputs": [],
   "source": [
    "new_resource_constraint=utils.reformulate_resource_constraints(resource_constraints,TASKS)"
   ]
  },
  {
   "cell_type": "code",
   "execution_count": 10,
   "id": "c82f5863",
   "metadata": {},
   "outputs": [
    {
     "data": {
      "text/plain": [
       "[[('Project2', 'Task1_2'), ('Project2', 'Task2_2')],\n",
       " [('Project2', 'Task1_2'), ('Project2', 'Task3_2')],\n",
       " [('Project2', 'Task2_2'), ('Project2', 'Task3_2')],\n",
       " [('Project2', 'Task1_2'), ('Project2', 'Task2_2'), ('Project2', 'Task3_2')]]"
      ]
     },
     "execution_count": 10,
     "metadata": {},
     "output_type": "execute_result"
    }
   ],
   "source": [
    "pipline_constraints"
   ]
  },
  {
   "cell_type": "code",
   "execution_count": 11,
   "id": "4ccdf07c",
   "metadata": {},
   "outputs": [
    {
     "name": "stdout",
     "output_type": "stream",
     "text": [
      "{'Project1': ['Task1_1', 'Task2_1'], 'Project2': ['Task1_2', 'Task2_2', 'Task3_2'], 'Project3': ['Task1_3', 'Task2_3']}\n",
      "\n",
      "\n",
      "{'Task1_1': ['Project1'], 'Task2_1': ['Project1'], 'Task1_2': ['Project2'], 'Task2_2': ['Project2'], 'Task3_2': ['Project2'], 'Task1_3': ['Project3'], 'Task2_3': ['Project3']}\n"
     ]
    }
   ],
   "source": [
    "pipeline_project_tasks={}\n",
    "for p,t in pipeline_tasks.keys():\n",
    "    list_1=pipeline_project_tasks.get(p,[])\n",
    "    list_1.append(t)\n",
    "    pipeline_project_tasks[p]=list_1\n",
    "print(pipeline_project_tasks)\n",
    "print(\"\\n\")\n",
    "\n",
    "pipeline_task_projects={}\n",
    "for p,t in pipeline_tasks.keys():\n",
    "    list_1=pipeline_project_tasks.get(t,[])\n",
    "    list_1.append(p)\n",
    "    pipeline_task_projects[t]=list_1\n",
    "print(pipeline_task_projects)"
   ]
  },
  {
   "cell_type": "code",
   "execution_count": 12,
   "id": "3178cc94",
   "metadata": {},
   "outputs": [
    {
     "name": "stdout",
     "output_type": "stream",
     "text": [
      "\n",
      "\n",
      "WARNING: DEPRECATED: The 'value_list' attribute is deprecated.  Use\n",
      "    .ordered_data() to retrieve the values from a finite set in a\n",
      "    deterministic order.  (deprecated in 5.7) (called from\n",
      "    C:\\jupyter\\Anaconda3\\envs\\mo\\lib\\site-\n",
      "    packages\\IPython\\core\\interactiveshell.py:3398)\n",
      "[('Project1', 'Task1_1', 'Amr'), ('Project1', 'Task1_1', 'Reem'), ('Project1', 'Task1_1', 'Kareem'), ('Project1', 'Task1_1', 'Mohamed'), ('Project1', 'Task1_1', 'other1'), ('Project1', 'Task2_1', 'Amr'), ('Project1', 'Task2_1', 'Reem'), ('Project1', 'Task2_1', 'Kareem'), ('Project1', 'Task2_1', 'Mohamed'), ('Project1', 'Task2_1', 'other1'), ('Project2', 'Task1_2', 'Amr'), ('Project2', 'Task1_2', 'Reem'), ('Project2', 'Task1_2', 'Kareem'), ('Project2', 'Task1_2', 'Mohamed'), ('Project2', 'Task1_2', 'other1'), ('Project2', 'Task2_2', 'Amr'), ('Project2', 'Task2_2', 'Reem'), ('Project2', 'Task2_2', 'Kareem'), ('Project2', 'Task2_2', 'Mohamed'), ('Project2', 'Task2_2', 'other1'), ('Project2', 'Task3_2', 'Amr'), ('Project2', 'Task3_2', 'Reem'), ('Project2', 'Task3_2', 'Kareem'), ('Project2', 'Task3_2', 'Mohamed'), ('Project2', 'Task3_2', 'other1'), ('Project3', 'Task1_3', 'Amr'), ('Project3', 'Task1_3', 'Reem'), ('Project3', 'Task1_3', 'Kareem'), ('Project3', 'Task1_3', 'Mohamed'), ('Project3', 'Task1_3', 'other1'), ('Project3', 'Task2_3', 'Amr'), ('Project3', 'Task2_3', 'Reem'), ('Project3', 'Task2_3', 'Kareem'), ('Project3', 'Task2_3', 'Mohamed'), ('Project3', 'Task2_3', 'other1')]\n"
     ]
    }
   ],
   "source": [
    "model = ConcreteModel()\n",
    "model.pipeline_tasks = Set(initialize = pipeline_tasks.keys(), dimen=2)\n",
    "model.pipeline_taskids_only=Set(initialize=list(map(lambda x : x[1],pipeline_tasks.keys())),dimen=1)\n",
    "\n",
    "model.pipeline_projects = Set(initialize = list(set([j for (j,m) in model.pipeline_tasks])))\n",
    "\n",
    "model.RESOURCES =  Set(initialize = RESOURCES.keys(), dimen=1)\n",
    "\n",
    "model.Resource_assignment=Set(initialize=model.pipeline_tasks * model.RESOURCES, dimen=3)\n",
    "\n",
    "# model.Resource_assignment_proper=     Set(\n",
    "#         initialize=model.pipeline_tasks * model.RESOURCES, dimen=3 ,\n",
    "#        filter = lambda model,p,t,r : TASKS[(p,t)]['skillset'] in RESOURCES[r]['skillset']\n",
    "#                 )\n",
    "print(\"\\n\")\n",
    "print(model.Resource_assignment.value_list)"
   ]
  },
  {
   "cell_type": "code",
   "execution_count": 13,
   "id": "6cc357c4",
   "metadata": {},
   "outputs": [],
   "source": [
    "model.prt_improper_var=Var(model.Resource_assignment,within=Binary, initialize=0)\n",
    "\n",
    "model.ra_var=Var(model.RESOURCES,within=NonNegativeReals, initialize=0)\n",
    "\n",
    "\n",
    "model.ta_var=Var(model.pipeline_taskids_only,within=Binary, initialize=0)"
   ]
  },
  {
   "cell_type": "code",
   "execution_count": 14,
   "id": "a7cbb548",
   "metadata": {},
   "outputs": [
    {
     "data": {
      "text/plain": [
       "{'Project1': ['Task1_1', 'Task2_1'],\n",
       " 'Project2': ['Task1_2', 'Task2_2', 'Task3_2'],\n",
       " 'Project3': ['Task1_3', 'Task2_3']}"
      ]
     },
     "execution_count": 14,
     "metadata": {},
     "output_type": "execute_result"
    }
   ],
   "source": [
    "pipeline_project_tasks"
   ]
  },
  {
   "cell_type": "code",
   "execution_count": 15,
   "id": "e91e4b77",
   "metadata": {},
   "outputs": [],
   "source": [
    "#CONSTRAINT FOR MAPPING TWO vars together (resources & Resource assignment)\n",
    "\n",
    "model.cons = ConstraintList()\n",
    "for resource in model.RESOURCES :\n",
    "#     print(resource)\n",
    "    model.cons.add(\n",
    "    sum(model.prt_improper_var[p,t,resource] for p in model.pipeline_projects for t in pipeline_project_tasks[p]  ) ==\n",
    "    model.ra_var[resource] \n",
    "    )\n",
    "\n",
    "for task in model.pipeline_taskids_only:\n",
    "    model.cons.add(\n",
    "    sum(model.prt_improper_var[p,task,r] for p in pipeline_task_projects[task] for r in model.RESOURCES  ) ==\n",
    "    model.ta_var[task] \n",
    "    )"
   ]
  },
  {
   "cell_type": "code",
   "execution_count": 16,
   "id": "3dd99083",
   "metadata": {},
   "outputs": [],
   "source": [
    "#Any given task should have one or zero assignment\n",
    "for t in model.pipeline_taskids_only:  \n",
    "        model.cons.add(\n",
    "                1 >= sum(  model.prt_improper_var[p,t,r] \n",
    "                         for r in model.RESOURCES \n",
    "                         for p in pipeline_task_projects[t])\n",
    "            )"
   ]
  },
  {
   "cell_type": "code",
   "execution_count": 17,
   "id": "ad248853",
   "metadata": {},
   "outputs": [
    {
     "data": {
      "text/plain": [
       "[[('Project2', 'Task1_2'), ('SWCC', 'SWCC_3')],\n",
       " [('Project2', 'Task2_2'), ('SWCC', 'SWCC_3')],\n",
       " [('Project2', 'Task3_2'), ('SWCC', 'SWCC_3')],\n",
       " [('SWCC', 'SWCC_3'), ('Project3', 'Task2_3')],\n",
       " [('Project2', 'Task1_2'), ('Project2', 'Task2_2'), ('SWCC', 'SWCC_3')],\n",
       " [('Project2', 'Task1_2'), ('Project2', 'Task3_2'), ('SWCC', 'SWCC_3')],\n",
       " [('Project2', 'Task2_2'), ('Project2', 'Task3_2'), ('SWCC', 'SWCC_3')],\n",
       " [('Project2', 'Task1_2'),\n",
       "  ('Project2', 'Task2_2'),\n",
       "  ('Project2', 'Task3_2'),\n",
       "  ('SWCC', 'SWCC_3')]]"
      ]
     },
     "execution_count": 17,
     "metadata": {},
     "output_type": "execute_result"
    }
   ],
   "source": [
    "resource_constraints['Kareem']"
   ]
  },
  {
   "cell_type": "code",
   "execution_count": 18,
   "id": "27f35a0b",
   "metadata": {},
   "outputs": [
    {
     "data": {
      "text/plain": [
       "{'Amr': [[('Project1', 'Task1_1'), ('SWCC', 'SWCC_0')],\n",
       "  [('Project1', 'Task1_1'), ('MEWA', 'MEWA_1')],\n",
       "  [('Project1', 'Task1_1'), ('SWCC', 'SWCC_0'), ('MEWA', 'MEWA_1')]],\n",
       " 'Mohamed': [[('Project1', 'Task2_1'), ('SWCC', 'SWCC_4')]],\n",
       " 'Kareem': [[('Project2', 'Task1_2'), ('SWCC', 'SWCC_3')],\n",
       "  [('Project2', 'Task2_2'), ('SWCC', 'SWCC_3')],\n",
       "  [('Project2', 'Task3_2'), ('SWCC', 'SWCC_3')],\n",
       "  [('SWCC', 'SWCC_3'), ('Project3', 'Task2_3')],\n",
       "  [('Project2', 'Task1_2'), ('Project2', 'Task2_2'), ('SWCC', 'SWCC_3')],\n",
       "  [('Project2', 'Task1_2'), ('Project2', 'Task3_2'), ('SWCC', 'SWCC_3')],\n",
       "  [('Project2', 'Task2_2'), ('Project2', 'Task3_2'), ('SWCC', 'SWCC_3')],\n",
       "  [('Project2', 'Task1_2'),\n",
       "   ('Project2', 'Task2_2'),\n",
       "   ('Project2', 'Task3_2'),\n",
       "   ('SWCC', 'SWCC_3')]]}"
      ]
     },
     "execution_count": 18,
     "metadata": {},
     "output_type": "execute_result"
    }
   ],
   "source": [
    "resource_constraints"
   ]
  },
  {
   "cell_type": "code",
   "execution_count": 19,
   "id": "53435f37",
   "metadata": {},
   "outputs": [
    {
     "data": {
      "text/plain": [
       "{'Amr': [{'ongoing': [('SWCC', 'SWCC_0')],\n",
       "   'pipeline': [('Project1', 'Task1_1')]},\n",
       "  {'ongoing': [('MEWA', 'MEWA_1')], 'pipeline': [('Project1', 'Task1_1')]},\n",
       "  {'ongoing': [('SWCC', 'SWCC_0'), ('MEWA', 'MEWA_1')],\n",
       "   'pipeline': [('Project1', 'Task1_1')]}],\n",
       " 'Mohamed': [{'ongoing': [('SWCC', 'SWCC_4')],\n",
       "   'pipeline': [('Project1', 'Task2_1')]}],\n",
       " 'Kareem': [{'ongoing': [('SWCC', 'SWCC_3')],\n",
       "   'pipeline': [('Project2', 'Task1_2')]},\n",
       "  {'ongoing': [('SWCC', 'SWCC_3')], 'pipeline': [('Project2', 'Task2_2')]},\n",
       "  {'ongoing': [('SWCC', 'SWCC_3')], 'pipeline': [('Project2', 'Task3_2')]},\n",
       "  {'ongoing': [('SWCC', 'SWCC_3')], 'pipeline': [('Project3', 'Task2_3')]},\n",
       "  {'ongoing': [('SWCC', 'SWCC_3')],\n",
       "   'pipeline': [('Project2', 'Task1_2'), ('Project2', 'Task2_2')]},\n",
       "  {'ongoing': [('SWCC', 'SWCC_3')],\n",
       "   'pipeline': [('Project2', 'Task1_2'), ('Project2', 'Task3_2')]},\n",
       "  {'ongoing': [('SWCC', 'SWCC_3')],\n",
       "   'pipeline': [('Project2', 'Task2_2'), ('Project2', 'Task3_2')]},\n",
       "  {'ongoing': [('SWCC', 'SWCC_3')],\n",
       "   'pipeline': [('Project2', 'Task1_2'),\n",
       "    ('Project2', 'Task2_2'),\n",
       "    ('Project2', 'Task3_2')]}]}"
      ]
     },
     "execution_count": 19,
     "metadata": {},
     "output_type": "execute_result"
    }
   ],
   "source": [
    "new_resource_constraint"
   ]
  },
  {
   "cell_type": "code",
   "execution_count": 20,
   "id": "a013658a",
   "metadata": {},
   "outputs": [
    {
     "data": {
      "text/plain": [
       "{'Project1': ['Task1_1', 'Task2_1'],\n",
       " 'Project2': ['Task1_2', 'Task2_2', 'Task3_2'],\n",
       " 'Project3': ['Task1_3', 'Task2_3']}"
      ]
     },
     "execution_count": 20,
     "metadata": {},
     "output_type": "execute_result"
    }
   ],
   "source": [
    "pipeline_project_tasks"
   ]
  },
  {
   "cell_type": "code",
   "execution_count": 21,
   "id": "a21acec9",
   "metadata": {},
   "outputs": [],
   "source": [
    "for p in model.pipeline_projects:\n",
    "    for t in pipeline_project_tasks[p]:\n",
    "        for r in model.RESOURCES :            \n",
    "            if  TASKS[(p,t)]['skillset'] not in RESOURCES[r]['skillset']:\n",
    "                model.cons.add(\n",
    "                        0== model.prt_improper_var[p,t,r]\n",
    "                        )"
   ]
  },
  {
   "cell_type": "code",
   "execution_count": 22,
   "id": "368f8d6a",
   "metadata": {},
   "outputs": [],
   "source": [
    "#For any overlap tasks the sum of utiliztion factor should be less than or equal \n",
    "for r in model.RESOURCES:\n",
    "        \n",
    "\n",
    "    # pipleine constraints (can apply to any resource of the specific skillset)       \n",
    "    for pipline_constraint in pipline_constraints :        \n",
    "        if RESOURCES[r]['skillset']==TASKS[pipline_constraint[0]]['skillset'] :           \n",
    "            \n",
    "            \n",
    "            model.cons.add(\n",
    "                 1 >= sum( TASKS[proj_task]['uf'] * model.prt_improper_var[proj_task[0],proj_task[1],r] \n",
    "                     for proj_task in pipline_constraint )\n",
    "            )\n",
    "            \n",
    "            \n",
    "    # resource constraints (specific to this resource)  \n",
    "        \n",
    "    for resource_constraint in new_resource_constraint.get(r,[]) : \n",
    "        \n",
    "        model.cons.add(        \n",
    "             1 >= sum( TASKS[proj_task]['uf'] * model.prt_improper_var[proj_task[0],proj_task[1],r] \n",
    "                     for proj_task in resource_constraint['pipeline'])\n",
    "            \n",
    "                  + sum(TASKS[proj_task]['uf'] for proj_task in resource_constraint['ongoing'])\n",
    "                    )\n"
   ]
  },
  {
   "cell_type": "code",
   "execution_count": 23,
   "id": "556bc8e0",
   "metadata": {},
   "outputs": [],
   "source": [
    "expr=6 * sum(model.ra_var[r] for r in model.RESOURCES) + 4 * sum(model.ta_var[t] for t in model.pipeline_taskids_only)\n",
    "model.objective=Objective(expr=expr,sense=maximize)"
   ]
  },
  {
   "cell_type": "code",
   "execution_count": 24,
   "id": "0c51c59f",
   "metadata": {},
   "outputs": [],
   "source": [
    "os.environ['NEOS_EMAIL'] = 'amr.mansour@devoteam.com'\n",
    "opt = SolverFactory('cbc')  # Select solver\n",
    "solver_manager = SolverManagerFactory('neos')  # Solve in neos server\n",
    "results = solver_manager.solve(model, opt=opt)"
   ]
  },
  {
   "cell_type": "code",
   "execution_count": 25,
   "id": "7947f1bf",
   "metadata": {
    "scrolled": true
   },
   "outputs": [
    {
     "data": {
      "text/plain": [
       "{'Project2': {'Task1_2': [], 'Task2_2': [], 'Task3_2': []},\n",
       " 'Project3': {'Task1_3': ['Mohamed'], 'Task2_3': []},\n",
       " 'Project1': {'Task1_1': [], 'Task2_1': ['Reem']}}"
      ]
     },
     "execution_count": 25,
     "metadata": {},
     "output_type": "execute_result"
    }
   ],
   "source": [
    "def get_resource_assignment(resource_assignment):\n",
    "    resource_table = {\n",
    "        p: {t: [] for t in pipeline_project_tasks[p]} \n",
    "        for p in model.pipeline_projects}\n",
    "    \n",
    "    \n",
    "    for p in model.pipeline_projects:\n",
    "        for t in pipeline_project_tasks[p]:\n",
    "            for r in model.RESOURCES :\n",
    "                    if model.prt_improper_var[p, t, r].value == 1:\n",
    "                        resource_table[p][t].append(r)\n",
    "    return resource_table\n",
    "\n",
    "get_resource_assignment(model.prt_improper_var)"
   ]
  },
  {
   "cell_type": "code",
   "execution_count": null,
   "id": "fdda4993",
   "metadata": {},
   "outputs": [],
   "source": []
  }
 ],
 "metadata": {
  "kernelspec": {
   "display_name": "Python 3 (ipykernel)",
   "language": "python",
   "name": "python3"
  },
  "language_info": {
   "codemirror_mode": {
    "name": "ipython",
    "version": 3
   },
   "file_extension": ".py",
   "mimetype": "text/x-python",
   "name": "python",
   "nbconvert_exporter": "python",
   "pygments_lexer": "ipython3",
   "version": "3.10.5"
  },
  "vscode": {
   "interpreter": {
    "hash": "947daf0431bb87ca8bb675fb7e6d22d7371c54ed17c7aa34b93b48f515ac9831"
   }
  }
 },
 "nbformat": 4,
 "nbformat_minor": 5
}
