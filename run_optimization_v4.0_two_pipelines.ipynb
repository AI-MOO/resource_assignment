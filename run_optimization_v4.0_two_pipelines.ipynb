{
 "cells": [
  {
   "cell_type": "code",
   "execution_count": 1,
   "id": "a4c2aa46",
   "metadata": {},
   "outputs": [],
   "source": [
    "import os\n",
    "from pyomo.environ import *\n",
    "from pyomo.opt import SolverFactory\n",
    "import pandas as pd \n",
    "import copy\n",
    "\n",
    "\n",
    "import warnings\n",
    "warnings.filterwarnings('ignore')\n",
    "from datetime import datetime\n",
    "import matplotlib.pyplot as plt\n",
    "\n",
    "import sys \n",
    "from pathlib import Path\n",
    "import plotly.express as px\n",
    "\n",
    "module_path = \"\"\n",
    "# file=os.path.join(module_path,\"utils.py\")\n",
    "sys.path.append(module_path)\n",
    "import utils as utils\n",
    "\n",
    "import parse_effort_sizing as parse_effort\n",
    "import parse_ongoing_resources as parse_ong\n",
    "import resources_KPIs as res_kpis\n",
    "from generic_resource_kpis import compute_utilization\n",
    "\n",
    "# pipeline_tasks= {\n",
    "#     ('Project1','Task1_1') : \n",
    "#         {'start_date':'1 JAN 2022','end_date':'31 JAN 2022',\n",
    "#          'skillset':'AI_architect','uf':0.5} ,\n",
    "    \n",
    "#     ('Project1','Task2_1') : \n",
    "#         {'start_date':'1 FEB 2022','end_date':'28 FEB 2022',\n",
    "#          'skillset':'BI','uf':1},\n",
    "    \n",
    "#     ('Project2','Task1_2') : \n",
    "#         {'start_date':'1 MAR 2022','end_date':'30 MAR 2022',\n",
    "#          'skillset':'DS','uf':0.5} ,  # --- > For Kareem\n",
    "    \n",
    "#     ('Project2','Task2_2') : \n",
    "#         {'start_date':'1 MAR 2022','end_date':'31 MAR 2022',\n",
    "#          'skillset':'DS','uf':1} ,\n",
    "    \n",
    "#     ('Project2','Task3_2') : \n",
    "#         {'start_date':'1 MAR 2022','end_date':'30 MAR 2022',\n",
    "#          'skillset':'DS','uf':0.5} ,\n",
    "#     ('Project3','Task1_3') : \n",
    "#         {'start_date':'5 MAR 2023','end_date':'7 MAR 2023',\n",
    "#          'skillset':'BI','uf':1}  ,\n",
    "    \n",
    "#      ('Project3','Task2_3') : \n",
    "#         {'start_date':'1 JAN 2022','end_date':'5 JAN 2022',\n",
    "#          'skillset':'DS','uf':0.5} , # --- > For Kareem\n",
    "\n",
    "# }\n",
    "\n",
    "\n",
    "# RESOURCES= {\n",
    "#     'Amr' : \n",
    "#         {'skillset':'AI_architect','seniority': 'LEAD 2C','slots':1,\n",
    "#         'current_load':{\n",
    "#             'ong_1':{'project':'SWCC','start_date':'1 JAN 2022','end_date':'30 JUN 2022' ,'uf':0.5} ,\n",
    "#             'ong_2':{'project':'MEWA','start_date':'1 JAN 2022','end_date':'31 MAR 2022' ,'uf':0.5}\n",
    "#         }},\n",
    "    \n",
    "#     'Reem' : \n",
    "#         {'skillset':['BI','VIS'],\"avail_start\":'1 FEB 2022',\"avail_end\": '28 FEB 2022','slots':1,\n",
    "#         'current_load':{\n",
    "#             'ong_3':{'project':'SWCC','start_date':'1 JAN 2022','end_date':'30 JUN 2022' ,'uf':1} ,\n",
    "#         }},\n",
    "    \n",
    "#     'Kareem' : \n",
    "#         {'skillset':'DS',\"avail_start\":'2 FEB 2022',\"avail_end\": '30 MAR 2023','slots':1,\n",
    "#         'current_load':{\n",
    "#             'ong_4':{'project':'SWCC','start_date':'1 JAN 2022','end_date':'30 JUN 2022' ,'uf':1} ,\n",
    "#         }},\n",
    "    \n",
    "#     'Mohamed' : \n",
    "#         {'skillset':'BI',\"avail_start\":'1 MAR 2022',\"avail_end\": '30 MAR 2022','slots':1,\n",
    "#         'current_load':{\n",
    "#             'ong_5':{'project':'SWCC','start_date':'1 JAN 2022','end_date':'30 JUN 2022' ,'uf':1} ,\n",
    "#         }},\n",
    "    \n",
    "#     'other1' :\n",
    "#         {'skillset':'Devops',\"avail_start\":'1 JAN 2022',\"avail_end\": '31 JAN 2022','slots':1,\n",
    "#         'current_load':{\n",
    "#             'ong_6':{'project':'SWCC','start_date':'1 JAN 2022','end_date':'30 JUN 2022' ,'uf':1} ,\n",
    "#         }}\n",
    " \n",
    "# }\n"
   ]
  },
  {
   "cell_type": "code",
   "execution_count": 2,
   "id": "1e411fd7",
   "metadata": {},
   "outputs": [
    {
     "name": "stdout",
     "output_type": "stream",
     "text": [
      "['STC_effort_sizing.xlsx', 'TAKA_effort_sizing.xlsx', '~$TAKA_effort_sizing.xlsx']\n",
      "['STC', 'TAKA', '~$TAKA']\n"
     ]
    }
   ],
   "source": [
    "##Function to get the effort files in a list \n",
    "effort_sizing_list=[file for file in os.listdir(\"data\") if \"effort_sizing\" in file ]\n",
    "input_pipeline_list=[filename.split(\"_\")[0] for filename in effort_sizing_list ]\n",
    "print(effort_sizing_list)\n",
    "print(input_pipeline_list)\n"
   ]
  },
  {
   "cell_type": "code",
   "execution_count": 3,
   "id": "0704762c",
   "metadata": {},
   "outputs": [
    {
     "name": "stdout",
     "output_type": "stream",
     "text": [
      "{('STC', 'STC_P1_RHU_BDM'): {'start_date': '01 Jan 2023', 'end_date': '11 Feb 2023', 'skillset': 'BDM'}, ('STC', 'STC_SC2_RHU_DRM'): {'start_date': '01 Jan 2023', 'end_date': '11 Feb 2023', 'skillset': 'DRM'}, ('STC', 'STC_L1_RHU_AI Lead'): {'start_date': '07 Jan 2023', 'end_date': '19 Jan 2023', 'skillset': 'AI Lead'}, ('STC', 'STC_L1_RHU_DG Lead'): {'start_date': '07 Jan 2023', 'end_date': '19 Jan 2023', 'skillset': 'DG Lead'}, ('STC', 'STC_L1_RHU_DM Lead'): {'start_date': '07 Jan 2023', 'end_date': '19 Jan 2023', 'skillset': 'DM Lead'}, ('STC', 'STC_C1_RHU_DM'): {'start_date': '19 Jan 2023', 'end_date': '08 Feb 2023', 'skillset': 'DM'}, ('STC', 'STC_C1_AMM_DM'): {'start_date': '19 Jan 2023', 'end_date': '08 Feb 2023', 'skillset': 'DM'}, ('STC', 'STC_C1_RHU_Coordinator'): {'start_date': '19 Jan 2023', 'end_date': '11 Feb 2023', 'skillset': 'Coordinator'}, ('TAKA', 'TAKA_P1_RHU_BDM'): {'start_date': '15 Mar 2023', 'end_date': '22 Oct 2023', 'skillset': 'BDM'}, ('TAKA', 'TAKA_SC2_RHU_DRM'): {'start_date': '15 Mar 2023', 'end_date': '22 Oct 2023', 'skillset': 'DRM'}, ('TAKA', 'TAKA_L1_RHU_AI Lead'): {'start_date': '21 Mar 2023', 'end_date': '02 Apr 2023', 'skillset': 'AI Lead'}, ('TAKA', 'TAKA_L1_RHU_DG Lead'): {'start_date': '21 Mar 2023', 'end_date': '02 Apr 2023', 'skillset': 'DG Lead'}, ('TAKA', 'TAKA_L1_RHU_DM Lead'): {'start_date': '21 Mar 2023', 'end_date': '02 Apr 2023', 'skillset': 'DM Lead'}, ('TAKA', 'TAKA_C1_RHU_AI'): {'start_date': '02 Apr 2023', 'end_date': '19 Oct 2023', 'skillset': 'AI'}, ('TAKA', 'TAKA_C1_AMM_AI'): {'start_date': '02 Apr 2023', 'end_date': '19 Oct 2023', 'skillset': 'AI'}, ('TAKA', 'TAKA_C1_RHU_Coordinator'): {'start_date': '02 Apr 2023', 'end_date': '22 Oct 2023', 'skillset': 'Coordinator'}}\n",
      "\n",
      "\n",
      "{'skillset': ['AI', 'DQ', 'DM', 'Coordinator'], 'seniority': 'L2', 'slots': 3, 'hire_date': Timestamp('2021-01-01 00:00:00'), 'num_ongoing_projects': 1, 'current_load': {'ong_9': {'project': 'SWCC', 'start_date': '01 Jan 2022', 'end_date': '01 Jan 2024', 'uf': 1}}}\n"
     ]
    }
   ],
   "source": [
    "##Take this as input \n",
    "parse_pipeline=[\"STC\",\"TAKA\"]   #This should be triggered by the GUI clicks\n",
    "\n",
    "project_start_date_dict={\"STC\":\"1 JAN 2023\" , \"TAKA\":\"15 MAR 2023\"}\n",
    "\n",
    "list_pipeline=[]\n",
    "for project in parse_pipeline:\n",
    "    # project_name=\"STC\"\n",
    "    # project_start_date=\"1 JAN 2023\"\n",
    "    path=f\"data/{project}_effort_sizing.xlsx\"\n",
    "    project_start_date=project_start_date_dict[project]\n",
    "    single_pipeline_tasks=parse_effort.main(project,project_start_date,path)\n",
    "    list_pipeline.append(single_pipeline_tasks)\n",
    "\n",
    "pipeline_tasks = {}\n",
    "for d in list_pipeline:\n",
    "    pipeline_tasks.update(d)\n",
    "\n",
    "RESOURCES=parse_ong.main(\"data\")\n",
    "print(pipeline_tasks)\n",
    "print(\"\\n\")\n",
    "print(RESOURCES['Ibrahim Kareem'])"
   ]
  },
  {
   "cell_type": "code",
   "execution_count": 4,
   "id": "a113b3f3",
   "metadata": {},
   "outputs": [
    {
     "name": "stdout",
     "output_type": "stream",
     "text": [
      "You have 13 Resources\n",
      "Currently there are 1 on bench \n",
      "The people on bench are ['Mohamed unassigned']\n",
      "The overall utilization till year end is  88.25\n"
     ]
    }
   ],
   "source": [
    "num_resources,bench_count,bench_list,resource_utilization_dict=res_kpis.main(RESOURCES)\n",
    "overall_current_utilization=sum(resource_utilization_dict.values()) / len(resource_utilization_dict.keys())\n",
    "print(f\"You have {num_resources} Resources\")\n",
    "print(f\"Currently there are {bench_count} on bench \")\n",
    "print(f\"The people on bench are {bench_list}\")\n",
    "# print(\"The resources utilization are \",resource_utilization_dict)\n",
    "print(\"The overall utilization till year end is \",overall_current_utilization)"
   ]
  },
  {
   "cell_type": "code",
   "execution_count": 5,
   "id": "cbb7fa10",
   "metadata": {},
   "outputs": [
    {
     "data": {
      "application/vnd.plotly.v1+json": {
       "config": {
        "plotlyServerURL": "https://plot.ly"
       },
       "data": [
        {
         "alignmentgroup": "True",
         "base": [
          "2023-01-01T00:00:00",
          "2023-03-15T00:00:00"
         ],
         "hovertemplate": "Role=BDM<br>Start=%{base}<br>End=%{x}<br>Task=%{y}<extra></extra>",
         "legendgroup": "BDM",
         "marker": {
          "color": "#636efa",
          "pattern": {
           "shape": ""
          }
         },
         "name": "BDM",
         "offsetgroup": "BDM",
         "orientation": "h",
         "showlegend": true,
         "textposition": "auto",
         "type": "bar",
         "x": [
          3542400000,
          19094400000
         ],
         "xaxis": "x",
         "y": [
          "STC_P1_RHU_BDM",
          "TAKA_P1_RHU_BDM"
         ],
         "yaxis": "y"
        },
        {
         "alignmentgroup": "True",
         "base": [
          "2023-01-01T00:00:00",
          "2023-03-15T00:00:00"
         ],
         "hovertemplate": "Role=DRM<br>Start=%{base}<br>End=%{x}<br>Task=%{y}<extra></extra>",
         "legendgroup": "DRM",
         "marker": {
          "color": "#EF553B",
          "pattern": {
           "shape": ""
          }
         },
         "name": "DRM",
         "offsetgroup": "DRM",
         "orientation": "h",
         "showlegend": true,
         "textposition": "auto",
         "type": "bar",
         "x": [
          3542400000,
          19094400000
         ],
         "xaxis": "x",
         "y": [
          "STC_SC2_RHU_DRM",
          "TAKA_SC2_RHU_DRM"
         ],
         "yaxis": "y"
        },
        {
         "alignmentgroup": "True",
         "base": [
          "2023-01-07T00:00:00",
          "2023-03-21T00:00:00"
         ],
         "hovertemplate": "Role=AI Lead<br>Start=%{base}<br>End=%{x}<br>Task=%{y}<extra></extra>",
         "legendgroup": "AI Lead",
         "marker": {
          "color": "#00cc96",
          "pattern": {
           "shape": ""
          }
         },
         "name": "AI Lead",
         "offsetgroup": "AI Lead",
         "orientation": "h",
         "showlegend": true,
         "textposition": "auto",
         "type": "bar",
         "x": [
          1036800000,
          1036800000
         ],
         "xaxis": "x",
         "y": [
          "STC_L1_RHU_AI Lead",
          "TAKA_L1_RHU_AI Lead"
         ],
         "yaxis": "y"
        },
        {
         "alignmentgroup": "True",
         "base": [
          "2023-01-07T00:00:00",
          "2023-03-21T00:00:00"
         ],
         "hovertemplate": "Role=DG Lead<br>Start=%{base}<br>End=%{x}<br>Task=%{y}<extra></extra>",
         "legendgroup": "DG Lead",
         "marker": {
          "color": "#ab63fa",
          "pattern": {
           "shape": ""
          }
         },
         "name": "DG Lead",
         "offsetgroup": "DG Lead",
         "orientation": "h",
         "showlegend": true,
         "textposition": "auto",
         "type": "bar",
         "x": [
          1036800000,
          1036800000
         ],
         "xaxis": "x",
         "y": [
          "STC_L1_RHU_DG Lead",
          "TAKA_L1_RHU_DG Lead"
         ],
         "yaxis": "y"
        },
        {
         "alignmentgroup": "True",
         "base": [
          "2023-01-07T00:00:00",
          "2023-03-21T00:00:00"
         ],
         "hovertemplate": "Role=DM Lead<br>Start=%{base}<br>End=%{x}<br>Task=%{y}<extra></extra>",
         "legendgroup": "DM Lead",
         "marker": {
          "color": "#FFA15A",
          "pattern": {
           "shape": ""
          }
         },
         "name": "DM Lead",
         "offsetgroup": "DM Lead",
         "orientation": "h",
         "showlegend": true,
         "textposition": "auto",
         "type": "bar",
         "x": [
          1036800000,
          1036800000
         ],
         "xaxis": "x",
         "y": [
          "STC_L1_RHU_DM Lead",
          "TAKA_L1_RHU_DM Lead"
         ],
         "yaxis": "y"
        },
        {
         "alignmentgroup": "True",
         "base": [
          "2023-01-19T00:00:00",
          "2023-01-19T00:00:00"
         ],
         "hovertemplate": "Role=DM<br>Start=%{base}<br>End=%{x}<br>Task=%{y}<extra></extra>",
         "legendgroup": "DM",
         "marker": {
          "color": "#19d3f3",
          "pattern": {
           "shape": ""
          }
         },
         "name": "DM",
         "offsetgroup": "DM",
         "orientation": "h",
         "showlegend": true,
         "textposition": "auto",
         "type": "bar",
         "x": [
          1728000000,
          1728000000
         ],
         "xaxis": "x",
         "y": [
          "STC_C1_RHU_DM",
          "STC_C1_AMM_DM"
         ],
         "yaxis": "y"
        },
        {
         "alignmentgroup": "True",
         "base": [
          "2023-01-19T00:00:00",
          "2023-04-02T00:00:00"
         ],
         "hovertemplate": "Role=Coordinator<br>Start=%{base}<br>End=%{x}<br>Task=%{y}<extra></extra>",
         "legendgroup": "Coordinator",
         "marker": {
          "color": "#FF6692",
          "pattern": {
           "shape": ""
          }
         },
         "name": "Coordinator",
         "offsetgroup": "Coordinator",
         "orientation": "h",
         "showlegend": true,
         "textposition": "auto",
         "type": "bar",
         "x": [
          1987200000,
          17539200000
         ],
         "xaxis": "x",
         "y": [
          "STC_C1_RHU_Coordinator",
          "TAKA_C1_RHU_Coordinator"
         ],
         "yaxis": "y"
        },
        {
         "alignmentgroup": "True",
         "base": [
          "2023-04-02T00:00:00",
          "2023-04-02T00:00:00"
         ],
         "hovertemplate": "Role=AI<br>Start=%{base}<br>End=%{x}<br>Task=%{y}<extra></extra>",
         "legendgroup": "AI",
         "marker": {
          "color": "#B6E880",
          "pattern": {
           "shape": ""
          }
         },
         "name": "AI",
         "offsetgroup": "AI",
         "orientation": "h",
         "showlegend": true,
         "textposition": "auto",
         "type": "bar",
         "x": [
          17280000000,
          17280000000
         ],
         "xaxis": "x",
         "y": [
          "TAKA_C1_RHU_AI",
          "TAKA_C1_AMM_AI"
         ],
         "yaxis": "y"
        }
       ],
       "layout": {
        "barmode": "overlay",
        "legend": {
         "title": {
          "text": "Role"
         },
         "tracegroupgap": 0
        },
        "margin": {
         "t": 60
        },
        "template": {
         "data": {
          "bar": [
           {
            "error_x": {
             "color": "#2a3f5f"
            },
            "error_y": {
             "color": "#2a3f5f"
            },
            "marker": {
             "line": {
              "color": "#E5ECF6",
              "width": 0.5
             },
             "pattern": {
              "fillmode": "overlay",
              "size": 10,
              "solidity": 0.2
             }
            },
            "type": "bar"
           }
          ],
          "barpolar": [
           {
            "marker": {
             "line": {
              "color": "#E5ECF6",
              "width": 0.5
             },
             "pattern": {
              "fillmode": "overlay",
              "size": 10,
              "solidity": 0.2
             }
            },
            "type": "barpolar"
           }
          ],
          "carpet": [
           {
            "aaxis": {
             "endlinecolor": "#2a3f5f",
             "gridcolor": "white",
             "linecolor": "white",
             "minorgridcolor": "white",
             "startlinecolor": "#2a3f5f"
            },
            "baxis": {
             "endlinecolor": "#2a3f5f",
             "gridcolor": "white",
             "linecolor": "white",
             "minorgridcolor": "white",
             "startlinecolor": "#2a3f5f"
            },
            "type": "carpet"
           }
          ],
          "choropleth": [
           {
            "colorbar": {
             "outlinewidth": 0,
             "ticks": ""
            },
            "type": "choropleth"
           }
          ],
          "contour": [
           {
            "colorbar": {
             "outlinewidth": 0,
             "ticks": ""
            },
            "colorscale": [
             [
              0,
              "#0d0887"
             ],
             [
              0.1111111111111111,
              "#46039f"
             ],
             [
              0.2222222222222222,
              "#7201a8"
             ],
             [
              0.3333333333333333,
              "#9c179e"
             ],
             [
              0.4444444444444444,
              "#bd3786"
             ],
             [
              0.5555555555555556,
              "#d8576b"
             ],
             [
              0.6666666666666666,
              "#ed7953"
             ],
             [
              0.7777777777777778,
              "#fb9f3a"
             ],
             [
              0.8888888888888888,
              "#fdca26"
             ],
             [
              1,
              "#f0f921"
             ]
            ],
            "type": "contour"
           }
          ],
          "contourcarpet": [
           {
            "colorbar": {
             "outlinewidth": 0,
             "ticks": ""
            },
            "type": "contourcarpet"
           }
          ],
          "heatmap": [
           {
            "colorbar": {
             "outlinewidth": 0,
             "ticks": ""
            },
            "colorscale": [
             [
              0,
              "#0d0887"
             ],
             [
              0.1111111111111111,
              "#46039f"
             ],
             [
              0.2222222222222222,
              "#7201a8"
             ],
             [
              0.3333333333333333,
              "#9c179e"
             ],
             [
              0.4444444444444444,
              "#bd3786"
             ],
             [
              0.5555555555555556,
              "#d8576b"
             ],
             [
              0.6666666666666666,
              "#ed7953"
             ],
             [
              0.7777777777777778,
              "#fb9f3a"
             ],
             [
              0.8888888888888888,
              "#fdca26"
             ],
             [
              1,
              "#f0f921"
             ]
            ],
            "type": "heatmap"
           }
          ],
          "heatmapgl": [
           {
            "colorbar": {
             "outlinewidth": 0,
             "ticks": ""
            },
            "colorscale": [
             [
              0,
              "#0d0887"
             ],
             [
              0.1111111111111111,
              "#46039f"
             ],
             [
              0.2222222222222222,
              "#7201a8"
             ],
             [
              0.3333333333333333,
              "#9c179e"
             ],
             [
              0.4444444444444444,
              "#bd3786"
             ],
             [
              0.5555555555555556,
              "#d8576b"
             ],
             [
              0.6666666666666666,
              "#ed7953"
             ],
             [
              0.7777777777777778,
              "#fb9f3a"
             ],
             [
              0.8888888888888888,
              "#fdca26"
             ],
             [
              1,
              "#f0f921"
             ]
            ],
            "type": "heatmapgl"
           }
          ],
          "histogram": [
           {
            "marker": {
             "pattern": {
              "fillmode": "overlay",
              "size": 10,
              "solidity": 0.2
             }
            },
            "type": "histogram"
           }
          ],
          "histogram2d": [
           {
            "colorbar": {
             "outlinewidth": 0,
             "ticks": ""
            },
            "colorscale": [
             [
              0,
              "#0d0887"
             ],
             [
              0.1111111111111111,
              "#46039f"
             ],
             [
              0.2222222222222222,
              "#7201a8"
             ],
             [
              0.3333333333333333,
              "#9c179e"
             ],
             [
              0.4444444444444444,
              "#bd3786"
             ],
             [
              0.5555555555555556,
              "#d8576b"
             ],
             [
              0.6666666666666666,
              "#ed7953"
             ],
             [
              0.7777777777777778,
              "#fb9f3a"
             ],
             [
              0.8888888888888888,
              "#fdca26"
             ],
             [
              1,
              "#f0f921"
             ]
            ],
            "type": "histogram2d"
           }
          ],
          "histogram2dcontour": [
           {
            "colorbar": {
             "outlinewidth": 0,
             "ticks": ""
            },
            "colorscale": [
             [
              0,
              "#0d0887"
             ],
             [
              0.1111111111111111,
              "#46039f"
             ],
             [
              0.2222222222222222,
              "#7201a8"
             ],
             [
              0.3333333333333333,
              "#9c179e"
             ],
             [
              0.4444444444444444,
              "#bd3786"
             ],
             [
              0.5555555555555556,
              "#d8576b"
             ],
             [
              0.6666666666666666,
              "#ed7953"
             ],
             [
              0.7777777777777778,
              "#fb9f3a"
             ],
             [
              0.8888888888888888,
              "#fdca26"
             ],
             [
              1,
              "#f0f921"
             ]
            ],
            "type": "histogram2dcontour"
           }
          ],
          "mesh3d": [
           {
            "colorbar": {
             "outlinewidth": 0,
             "ticks": ""
            },
            "type": "mesh3d"
           }
          ],
          "parcoords": [
           {
            "line": {
             "colorbar": {
              "outlinewidth": 0,
              "ticks": ""
             }
            },
            "type": "parcoords"
           }
          ],
          "pie": [
           {
            "automargin": true,
            "type": "pie"
           }
          ],
          "scatter": [
           {
            "fillpattern": {
             "fillmode": "overlay",
             "size": 10,
             "solidity": 0.2
            },
            "type": "scatter"
           }
          ],
          "scatter3d": [
           {
            "line": {
             "colorbar": {
              "outlinewidth": 0,
              "ticks": ""
             }
            },
            "marker": {
             "colorbar": {
              "outlinewidth": 0,
              "ticks": ""
             }
            },
            "type": "scatter3d"
           }
          ],
          "scattercarpet": [
           {
            "marker": {
             "colorbar": {
              "outlinewidth": 0,
              "ticks": ""
             }
            },
            "type": "scattercarpet"
           }
          ],
          "scattergeo": [
           {
            "marker": {
             "colorbar": {
              "outlinewidth": 0,
              "ticks": ""
             }
            },
            "type": "scattergeo"
           }
          ],
          "scattergl": [
           {
            "marker": {
             "colorbar": {
              "outlinewidth": 0,
              "ticks": ""
             }
            },
            "type": "scattergl"
           }
          ],
          "scattermapbox": [
           {
            "marker": {
             "colorbar": {
              "outlinewidth": 0,
              "ticks": ""
             }
            },
            "type": "scattermapbox"
           }
          ],
          "scatterpolar": [
           {
            "marker": {
             "colorbar": {
              "outlinewidth": 0,
              "ticks": ""
             }
            },
            "type": "scatterpolar"
           }
          ],
          "scatterpolargl": [
           {
            "marker": {
             "colorbar": {
              "outlinewidth": 0,
              "ticks": ""
             }
            },
            "type": "scatterpolargl"
           }
          ],
          "scatterternary": [
           {
            "marker": {
             "colorbar": {
              "outlinewidth": 0,
              "ticks": ""
             }
            },
            "type": "scatterternary"
           }
          ],
          "surface": [
           {
            "colorbar": {
             "outlinewidth": 0,
             "ticks": ""
            },
            "colorscale": [
             [
              0,
              "#0d0887"
             ],
             [
              0.1111111111111111,
              "#46039f"
             ],
             [
              0.2222222222222222,
              "#7201a8"
             ],
             [
              0.3333333333333333,
              "#9c179e"
             ],
             [
              0.4444444444444444,
              "#bd3786"
             ],
             [
              0.5555555555555556,
              "#d8576b"
             ],
             [
              0.6666666666666666,
              "#ed7953"
             ],
             [
              0.7777777777777778,
              "#fb9f3a"
             ],
             [
              0.8888888888888888,
              "#fdca26"
             ],
             [
              1,
              "#f0f921"
             ]
            ],
            "type": "surface"
           }
          ],
          "table": [
           {
            "cells": {
             "fill": {
              "color": "#EBF0F8"
             },
             "line": {
              "color": "white"
             }
            },
            "header": {
             "fill": {
              "color": "#C8D4E3"
             },
             "line": {
              "color": "white"
             }
            },
            "type": "table"
           }
          ]
         },
         "layout": {
          "annotationdefaults": {
           "arrowcolor": "#2a3f5f",
           "arrowhead": 0,
           "arrowwidth": 1
          },
          "autotypenumbers": "strict",
          "coloraxis": {
           "colorbar": {
            "outlinewidth": 0,
            "ticks": ""
           }
          },
          "colorscale": {
           "diverging": [
            [
             0,
             "#8e0152"
            ],
            [
             0.1,
             "#c51b7d"
            ],
            [
             0.2,
             "#de77ae"
            ],
            [
             0.3,
             "#f1b6da"
            ],
            [
             0.4,
             "#fde0ef"
            ],
            [
             0.5,
             "#f7f7f7"
            ],
            [
             0.6,
             "#e6f5d0"
            ],
            [
             0.7,
             "#b8e186"
            ],
            [
             0.8,
             "#7fbc41"
            ],
            [
             0.9,
             "#4d9221"
            ],
            [
             1,
             "#276419"
            ]
           ],
           "sequential": [
            [
             0,
             "#0d0887"
            ],
            [
             0.1111111111111111,
             "#46039f"
            ],
            [
             0.2222222222222222,
             "#7201a8"
            ],
            [
             0.3333333333333333,
             "#9c179e"
            ],
            [
             0.4444444444444444,
             "#bd3786"
            ],
            [
             0.5555555555555556,
             "#d8576b"
            ],
            [
             0.6666666666666666,
             "#ed7953"
            ],
            [
             0.7777777777777778,
             "#fb9f3a"
            ],
            [
             0.8888888888888888,
             "#fdca26"
            ],
            [
             1,
             "#f0f921"
            ]
           ],
           "sequentialminus": [
            [
             0,
             "#0d0887"
            ],
            [
             0.1111111111111111,
             "#46039f"
            ],
            [
             0.2222222222222222,
             "#7201a8"
            ],
            [
             0.3333333333333333,
             "#9c179e"
            ],
            [
             0.4444444444444444,
             "#bd3786"
            ],
            [
             0.5555555555555556,
             "#d8576b"
            ],
            [
             0.6666666666666666,
             "#ed7953"
            ],
            [
             0.7777777777777778,
             "#fb9f3a"
            ],
            [
             0.8888888888888888,
             "#fdca26"
            ],
            [
             1,
             "#f0f921"
            ]
           ]
          },
          "colorway": [
           "#636efa",
           "#EF553B",
           "#00cc96",
           "#ab63fa",
           "#FFA15A",
           "#19d3f3",
           "#FF6692",
           "#B6E880",
           "#FF97FF",
           "#FECB52"
          ],
          "font": {
           "color": "#2a3f5f"
          },
          "geo": {
           "bgcolor": "white",
           "lakecolor": "white",
           "landcolor": "#E5ECF6",
           "showlakes": true,
           "showland": true,
           "subunitcolor": "white"
          },
          "hoverlabel": {
           "align": "left"
          },
          "hovermode": "closest",
          "mapbox": {
           "style": "light"
          },
          "paper_bgcolor": "white",
          "plot_bgcolor": "#E5ECF6",
          "polar": {
           "angularaxis": {
            "gridcolor": "white",
            "linecolor": "white",
            "ticks": ""
           },
           "bgcolor": "#E5ECF6",
           "radialaxis": {
            "gridcolor": "white",
            "linecolor": "white",
            "ticks": ""
           }
          },
          "scene": {
           "xaxis": {
            "backgroundcolor": "#E5ECF6",
            "gridcolor": "white",
            "gridwidth": 2,
            "linecolor": "white",
            "showbackground": true,
            "ticks": "",
            "zerolinecolor": "white"
           },
           "yaxis": {
            "backgroundcolor": "#E5ECF6",
            "gridcolor": "white",
            "gridwidth": 2,
            "linecolor": "white",
            "showbackground": true,
            "ticks": "",
            "zerolinecolor": "white"
           },
           "zaxis": {
            "backgroundcolor": "#E5ECF6",
            "gridcolor": "white",
            "gridwidth": 2,
            "linecolor": "white",
            "showbackground": true,
            "ticks": "",
            "zerolinecolor": "white"
           }
          },
          "shapedefaults": {
           "line": {
            "color": "#2a3f5f"
           }
          },
          "ternary": {
           "aaxis": {
            "gridcolor": "white",
            "linecolor": "white",
            "ticks": ""
           },
           "baxis": {
            "gridcolor": "white",
            "linecolor": "white",
            "ticks": ""
           },
           "bgcolor": "#E5ECF6",
           "caxis": {
            "gridcolor": "white",
            "linecolor": "white",
            "ticks": ""
           }
          },
          "title": {
           "x": 0.05
          },
          "xaxis": {
           "automargin": true,
           "gridcolor": "white",
           "linecolor": "white",
           "ticks": "",
           "title": {
            "standoff": 15
           },
           "zerolinecolor": "white",
           "zerolinewidth": 2
          },
          "yaxis": {
           "automargin": true,
           "gridcolor": "white",
           "linecolor": "white",
           "ticks": "",
           "title": {
            "standoff": 15
           },
           "zerolinecolor": "white",
           "zerolinewidth": 2
          }
         }
        },
        "xaxis": {
         "anchor": "y",
         "domain": [
          0,
          1
         ],
         "type": "date"
        },
        "yaxis": {
         "anchor": "x",
         "autorange": "reversed",
         "domain": [
          0,
          1
         ],
         "title": {
          "text": "Task"
         }
        }
       }
      }
     },
     "metadata": {},
     "output_type": "display_data"
    }
   ],
   "source": [
    "pd_1=utils.convert_to_pd(pipeline_tasks)\n",
    "utils.plot_gantt_chart(pd_1)"
   ]
  },
  {
   "cell_type": "code",
   "execution_count": 6,
   "id": "cf9d6e4b",
   "metadata": {},
   "outputs": [],
   "source": [
    "ongoing_tasks=utils.resource_tasks(RESOURCES)\n",
    "pipeline_tasks=utils.add_pipeline_type(pipeline_tasks)\n",
    "TASKS=utils.merge_ongoing_pipeline(pipeline_tasks,ongoing_tasks)\n",
    "\n",
    "all_tasks_overlap_tuples=utils.get_over_lap_tasks(TASKS)\n",
    "all_task_overlap=utils.task_overlap_combination(all_tasks_overlap_tuples)\n",
    "\n",
    "pipline_constraints,resource_constraints=utils.constraints_uf(all_task_overlap,TASKS)\n",
    "\n",
    "new_resource_constraint=utils.reformulate_resource_constraints(resource_constraints,TASKS)"
   ]
  },
  {
   "cell_type": "code",
   "execution_count": 7,
   "id": "4ccdf07c",
   "metadata": {},
   "outputs": [
    {
     "name": "stdout",
     "output_type": "stream",
     "text": [
      "{'STC': ['STC_P1_RHU_BDM', 'STC_SC2_RHU_DRM', 'STC_L1_RHU_AI Lead', 'STC_L1_RHU_DG Lead', 'STC_L1_RHU_DM Lead', 'STC_C1_RHU_DM', 'STC_C1_AMM_DM', 'STC_C1_RHU_Coordinator'], 'TAKA': ['TAKA_P1_RHU_BDM', 'TAKA_SC2_RHU_DRM', 'TAKA_L1_RHU_AI Lead', 'TAKA_L1_RHU_DG Lead', 'TAKA_L1_RHU_DM Lead', 'TAKA_C1_RHU_AI', 'TAKA_C1_AMM_AI', 'TAKA_C1_RHU_Coordinator']}\n",
      "\n",
      "\n",
      "{'STC_P1_RHU_BDM': ['STC'], 'STC_SC2_RHU_DRM': ['STC'], 'STC_L1_RHU_AI Lead': ['STC'], 'STC_L1_RHU_DG Lead': ['STC'], 'STC_L1_RHU_DM Lead': ['STC'], 'STC_C1_RHU_DM': ['STC'], 'STC_C1_AMM_DM': ['STC'], 'STC_C1_RHU_Coordinator': ['STC'], 'TAKA_P1_RHU_BDM': ['TAKA'], 'TAKA_SC2_RHU_DRM': ['TAKA'], 'TAKA_L1_RHU_AI Lead': ['TAKA'], 'TAKA_L1_RHU_DG Lead': ['TAKA'], 'TAKA_L1_RHU_DM Lead': ['TAKA'], 'TAKA_C1_RHU_AI': ['TAKA'], 'TAKA_C1_AMM_AI': ['TAKA'], 'TAKA_C1_RHU_Coordinator': ['TAKA']}\n"
     ]
    }
   ],
   "source": [
    "pipeline_project_tasks={}\n",
    "for p,t in pipeline_tasks.keys():\n",
    "    list_1=pipeline_project_tasks.get(p,[])\n",
    "    list_1.append(t)\n",
    "    pipeline_project_tasks[p]=list_1\n",
    "print(pipeline_project_tasks)\n",
    "print(\"\\n\")\n",
    "\n",
    "pipeline_task_projects={}\n",
    "for p,t in pipeline_tasks.keys():\n",
    "    list_1=pipeline_project_tasks.get(t,[])\n",
    "    list_1.append(p)\n",
    "    pipeline_task_projects[t]=list_1\n",
    "print(pipeline_task_projects)"
   ]
  },
  {
   "cell_type": "code",
   "execution_count": 8,
   "id": "3178cc94",
   "metadata": {},
   "outputs": [],
   "source": [
    "model = ConcreteModel()\n",
    "model.pipeline_tasks = Set(initialize = pipeline_tasks.keys(), dimen=2)\n",
    "model.pipeline_taskids_only=Set(initialize=list(map(lambda x : x[1],pipeline_tasks.keys())),dimen=1)\n",
    "# model.pipeline_taskids_only=Set(initialize=pipeline_task_projects.keys(),dimen=1)\n",
    "\n",
    "\n",
    "model.pipeline_projects = Set(initialize = list(set([j for (j,m) in model.pipeline_tasks])))\n",
    "\n",
    "model.RESOURCES =  Set(initialize = RESOURCES.keys(), dimen=1)\n",
    "\n",
    "model.Resource_assignment=Set(initialize=model.pipeline_tasks * model.RESOURCES, dimen=3)\n",
    "\n",
    "# model.Resource_assignment_proper=     Set(\n",
    "#         initialize=model.pipeline_tasks * model.RESOURCES, dimen=3 ,\n",
    "#        filter = lambda model,p,t,r : TASKS[(p,t)]['skillset'] in RESOURCES[r]['skillset']\n",
    "#                 )\n",
    "# print(\"\\n\")\n",
    "# print(model.Resource_assignment.value_list)"
   ]
  },
  {
   "cell_type": "code",
   "execution_count": 9,
   "id": "6cc357c4",
   "metadata": {},
   "outputs": [],
   "source": [
    "model.prt_improper_var=Var(model.Resource_assignment,within=Binary, initialize=0)\n",
    "\n",
    "model.ra_var=Var(model.RESOURCES,within=Binary, initialize=0)\n",
    "\n",
    "\n",
    "# model.ta_var=Var(model.pipeline_taskids_only,within=NonNegativeReals, initialize=0)"
   ]
  },
  {
   "cell_type": "code",
   "execution_count": 10,
   "id": "a92b1f6e",
   "metadata": {},
   "outputs": [],
   "source": [
    "model.cons = ConstraintList()\n",
    "for resource in model.RESOURCES :\n",
    "    for p in model.pipeline_projects:\n",
    "        for t in pipeline_project_tasks[p]:\n",
    "            if model.prt_improper_var[p,t,resource].value==1:\n",
    "                model.cons.add(1==model.ra_var[resource])\n"
   ]
  },
  {
   "cell_type": "code",
   "execution_count": null,
   "id": "ddfb333a",
   "metadata": {},
   "outputs": [],
   "source": []
  },
  {
   "cell_type": "code",
   "execution_count": 10,
   "id": "e91e4b77",
   "metadata": {},
   "outputs": [],
   "source": [
    "#CONSTRAINT FOR MAPPING TWO vars together (resources & Resource assignment)\n",
    "\n",
    "for resource in model.RESOURCES :\n",
    "#     print(resource)\n",
    "    model.cons.add(\n",
    "    sum(model.prt_improper_var[p,t,resource] for p in model.pipeline_projects for t in pipeline_project_tasks[p]  ) ==\n",
    "    model.ra_var[resource] \n",
    "    )\n",
    "\n",
    "# for task in model.pipeline_taskids_only:\n",
    "#     model.cons.add(\n",
    "#     sum(model.prt_improper_var[p,task,r] for p in pipeline_task_projects[task] for r in model.RESOURCES  ) ==\n",
    "#     model.ta_var[task] \n",
    "#     )"
   ]
  },
  {
   "cell_type": "code",
   "execution_count": 11,
   "id": "e6975624",
   "metadata": {},
   "outputs": [],
   "source": [
    "# model.cons = ConstraintList()\n",
    "# for resource in model.RESOURCES :\n",
    "#     if sum(model.prt_improper_var[p,t,resource] for p in model.pipeline_projects for t in pipeline_project_tasks[p]  ) >=1:\n",
    "#         model.cons.add(\n",
    "#                         1== model.ra_var[resource]\n",
    "#                         )\n",
    "#     else :     \n",
    "#         model.cons.add(\n",
    "#                         0== model.ra_var[resource]\n",
    "#                         )\n",
    "# for task in model.pipeline_taskids_only:\n",
    "#     if sum(model.prt_improper_var[p,task,r] for p in pipeline_task_projects[task] for r in model.RESOURCES  ) >=1:\n",
    "#         model.cons.add(\n",
    "#                         1== model.ta_var[task]\n",
    "#                         )\n",
    "#     else :     \n",
    "#         model.cons.add(\n",
    "#                         0== model.ta_var[task]\n",
    "#                         )\n"
   ]
  },
  {
   "cell_type": "code",
   "execution_count": 12,
   "id": "3dd99083",
   "metadata": {},
   "outputs": [],
   "source": [
    "#Any given task should have one or zero assignment\n",
    "for t in model.pipeline_taskids_only:  \n",
    "        model.cons.add(\n",
    "                1 >= sum(  model.prt_improper_var[p,t,r] \n",
    "                         for r in model.RESOURCES \n",
    "                         for p in pipeline_task_projects[t])\n",
    "            )\n",
    "\n",
    "#The role required skillset must be in the resources skillset \n",
    "for p in model.pipeline_projects:\n",
    "    for t in pipeline_project_tasks[p]:\n",
    "        for r in model.RESOURCES :                         \n",
    "            if  pipeline_tasks[(p,t)]['skillset'] not in RESOURCES[r]['skillset']:\n",
    "                model.cons.add(\n",
    "                        0== model.prt_improper_var[p,t,r]\n",
    "                        )"
   ]
  },
  {
   "cell_type": "code",
   "execution_count": 13,
   "id": "368f8d6a",
   "metadata": {},
   "outputs": [],
   "source": [
    "#For any overlap tasks the sum of utiliztion factor should be less than or equal \n",
    "for r in model.RESOURCES:\n",
    "        \n",
    "\n",
    "    # pipleine constraints (can apply to any resource of the specific skillset)       \n",
    "    for pipline_constraint in pipline_constraints :        \n",
    "        #if RESOURCES[r]['skillset']==TASKS[pipline_constraint[0]]['skillset'] :   \n",
    "        # if TASKS[pipline_constraint[0]]['skillset'] in RESOURCES[r]['skillset']  :         \n",
    "            \n",
    "        \n",
    "        model.cons.add(\n",
    "                RESOURCES[r]['slots'] >= sum( TASKS[proj_task].get('uf',1) * model.prt_improper_var[proj_task[0],proj_task[1],r] \n",
    "                    for proj_task in pipline_constraint )\n",
    "        )\n",
    "            \n",
    "            \n",
    "    # resource constraints (specific to this resource)  \n",
    "        \n",
    "    for resource_constraint in new_resource_constraint.get(r,[]) : \n",
    "        \n",
    "        model.cons.add(        \n",
    "             RESOURCES[r]['slots'] >= sum( TASKS[proj_task].get('uf',1) * model.prt_improper_var[proj_task[0],proj_task[1],r] \n",
    "                     for proj_task in resource_constraint['pipeline'])\n",
    "            \n",
    "                  + sum(TASKS[proj_task].get('uf',1) for proj_task in resource_constraint['ongoing'])\n",
    "                    )\n"
   ]
  },
  {
   "cell_type": "code",
   "execution_count": 14,
   "id": "556bc8e0",
   "metadata": {},
   "outputs": [],
   "source": [
    "# expr=sum(10 * model.ra_var[r] for r in model.RESOURCES) + sum(10 * model.ta_var[t] for t in model.pipeline_taskids_only)\n",
    "expr=  (sum(10 * model.ra_var[r] for r in model.RESOURCES) + \n",
    "        sum(model.prt_improper_var[p,t,r] for p in model.pipeline_projects\n",
    "    for t in pipeline_project_tasks[p]\n",
    "        for r in model.RESOURCES)\n",
    "        )\n",
    "\n",
    "\n",
    "model.objective=Objective(expr=expr,sense=maximize)"
   ]
  },
  {
   "cell_type": "code",
   "execution_count": 15,
   "id": "0c51c59f",
   "metadata": {},
   "outputs": [],
   "source": [
    "os.environ['NEOS_EMAIL'] = 'amr.mansour@devoteam.com'\n",
    "opt = SolverFactory('cbc')  # Select solver\n",
    "solver_manager = SolverManagerFactory('neos')  # Solve in neos server\n",
    "results = solver_manager.solve(model, opt=opt)"
   ]
  },
  {
   "cell_type": "code",
   "execution_count": 16,
   "id": "7947f1bf",
   "metadata": {
    "scrolled": true
   },
   "outputs": [
    {
     "data": {
      "text/plain": [
       "{'TAKA': {'TAKA_P1_RHU_BDM': ['Saleh Samaneh'],\n",
       "  'TAKA_SC2_RHU_DRM': ['Waleed Abaas'],\n",
       "  'TAKA_L1_RHU_AI Lead': ['Amr Mansour'],\n",
       "  'TAKA_L1_RHU_DG Lead': [],\n",
       "  'TAKA_L1_RHU_DM Lead': ['Saleh Samaneh'],\n",
       "  'TAKA_C1_RHU_AI': ['Mohamed Abo Saad'],\n",
       "  'TAKA_C1_AMM_AI': ['Ibrahim Kareem'],\n",
       "  'TAKA_C1_RHU_Coordinator': ['Ibrahim Kareem']},\n",
       " 'STC': {'STC_P1_RHU_BDM': ['Saleh Samaneh'],\n",
       "  'STC_SC2_RHU_DRM': ['Waleed Abaas'],\n",
       "  'STC_L1_RHU_AI Lead': ['Amr Mansour'],\n",
       "  'STC_L1_RHU_DG Lead': [],\n",
       "  'STC_L1_RHU_DM Lead': ['Saleh Samaneh'],\n",
       "  'STC_C1_RHU_DM': ['Ibrahim Kareem'],\n",
       "  'STC_C1_AMM_DM': ['Mohamed Hatab'],\n",
       "  'STC_C1_RHU_Coordinator': ['Ibrahim Kareem']}}"
      ]
     },
     "execution_count": 16,
     "metadata": {},
     "output_type": "execute_result"
    }
   ],
   "source": [
    "def get_resource_assignment(resource_assignment):\n",
    "    resource_table = {\n",
    "        p: {t: [] for t in pipeline_project_tasks[p]} \n",
    "        for p in model.pipeline_projects}\n",
    "    \n",
    "    \n",
    "    for p in model.pipeline_projects:\n",
    "        for t in pipeline_project_tasks[p]:\n",
    "            for r in model.RESOURCES :\n",
    "                    if model.prt_improper_var[p, t, r].value == 1:\n",
    "                        resource_table[p][t].append(r)\n",
    "    return resource_table\n",
    "\n",
    "ra_dict=get_resource_assignment(model.prt_improper_var)\n",
    "ra_dict"
   ]
  },
  {
   "cell_type": "code",
   "execution_count": 19,
   "id": "79338b89",
   "metadata": {},
   "outputs": [
    {
     "data": {
      "application/vnd.plotly.v1+json": {
       "config": {
        "plotlyServerURL": "https://plot.ly"
       },
       "data": [
        {
         "alignmentgroup": "True",
         "base": [
          "2023-03-15T00:00:00",
          "2023-03-21T00:00:00",
          "2023-03-21T00:00:00",
          "2023-03-21T00:00:00",
          "2023-04-02T00:00:00"
         ],
         "hovertemplate": "assignment_status=To be Hired<br>Start=%{base}<br>End=%{x}<br>Task=%{y}<extra></extra>",
         "legendgroup": "To be Hired",
         "marker": {
          "color": "#636efa",
          "pattern": {
           "shape": ""
          }
         },
         "name": "To be Hired",
         "offsetgroup": "To be Hired",
         "orientation": "h",
         "showlegend": true,
         "textposition": "auto",
         "type": "bar",
         "x": [
          19094400000,
          1036800000,
          1036800000,
          1036800000,
          17539200000
         ],
         "xaxis": "x",
         "y": [
          "TAKA_P1_RHU_BDM",
          "TAKA_L1_RHU_AI Lead",
          "TAKA_L1_RHU_DG Lead",
          "TAKA_L1_RHU_DM Lead",
          "TAKA_C1_RHU_Coordinator"
         ],
         "yaxis": "y"
        },
        {
         "alignmentgroup": "True",
         "base": [
          "2023-03-15T00:00:00"
         ],
         "hovertemplate": "assignment_status=Waleed Abaas<br>Start=%{base}<br>End=%{x}<br>Task=%{y}<extra></extra>",
         "legendgroup": "Waleed Abaas",
         "marker": {
          "color": "#EF553B",
          "pattern": {
           "shape": ""
          }
         },
         "name": "Waleed Abaas",
         "offsetgroup": "Waleed Abaas",
         "orientation": "h",
         "showlegend": true,
         "textposition": "auto",
         "type": "bar",
         "x": [
          19094400000
         ],
         "xaxis": "x",
         "y": [
          "TAKA_SC2_RHU_DRM"
         ],
         "yaxis": "y"
        },
        {
         "alignmentgroup": "True",
         "base": [
          "2023-04-02T00:00:00"
         ],
         "hovertemplate": "assignment_status=Hawraa<br>Start=%{base}<br>End=%{x}<br>Task=%{y}<extra></extra>",
         "legendgroup": "Hawraa",
         "marker": {
          "color": "#00cc96",
          "pattern": {
           "shape": ""
          }
         },
         "name": "Hawraa",
         "offsetgroup": "Hawraa",
         "orientation": "h",
         "showlegend": true,
         "textposition": "auto",
         "type": "bar",
         "x": [
          17280000000
         ],
         "xaxis": "x",
         "y": [
          "TAKA_C1_RHU_AI"
         ],
         "yaxis": "y"
        },
        {
         "alignmentgroup": "True",
         "base": [
          "2023-04-02T00:00:00"
         ],
         "hovertemplate": "assignment_status=Mohamed Abo Saad<br>Start=%{base}<br>End=%{x}<br>Task=%{y}<extra></extra>",
         "legendgroup": "Mohamed Abo Saad",
         "marker": {
          "color": "#ab63fa",
          "pattern": {
           "shape": ""
          }
         },
         "name": "Mohamed Abo Saad",
         "offsetgroup": "Mohamed Abo Saad",
         "orientation": "h",
         "showlegend": true,
         "textposition": "auto",
         "type": "bar",
         "x": [
          17280000000
         ],
         "xaxis": "x",
         "y": [
          "TAKA_C1_AMM_AI"
         ],
         "yaxis": "y"
        }
       ],
       "layout": {
        "barmode": "overlay",
        "legend": {
         "title": {
          "text": "assignment_status"
         },
         "tracegroupgap": 0
        },
        "margin": {
         "t": 60
        },
        "template": {
         "data": {
          "bar": [
           {
            "error_x": {
             "color": "#2a3f5f"
            },
            "error_y": {
             "color": "#2a3f5f"
            },
            "marker": {
             "line": {
              "color": "#E5ECF6",
              "width": 0.5
             },
             "pattern": {
              "fillmode": "overlay",
              "size": 10,
              "solidity": 0.2
             }
            },
            "type": "bar"
           }
          ],
          "barpolar": [
           {
            "marker": {
             "line": {
              "color": "#E5ECF6",
              "width": 0.5
             },
             "pattern": {
              "fillmode": "overlay",
              "size": 10,
              "solidity": 0.2
             }
            },
            "type": "barpolar"
           }
          ],
          "carpet": [
           {
            "aaxis": {
             "endlinecolor": "#2a3f5f",
             "gridcolor": "white",
             "linecolor": "white",
             "minorgridcolor": "white",
             "startlinecolor": "#2a3f5f"
            },
            "baxis": {
             "endlinecolor": "#2a3f5f",
             "gridcolor": "white",
             "linecolor": "white",
             "minorgridcolor": "white",
             "startlinecolor": "#2a3f5f"
            },
            "type": "carpet"
           }
          ],
          "choropleth": [
           {
            "colorbar": {
             "outlinewidth": 0,
             "ticks": ""
            },
            "type": "choropleth"
           }
          ],
          "contour": [
           {
            "colorbar": {
             "outlinewidth": 0,
             "ticks": ""
            },
            "colorscale": [
             [
              0,
              "#0d0887"
             ],
             [
              0.1111111111111111,
              "#46039f"
             ],
             [
              0.2222222222222222,
              "#7201a8"
             ],
             [
              0.3333333333333333,
              "#9c179e"
             ],
             [
              0.4444444444444444,
              "#bd3786"
             ],
             [
              0.5555555555555556,
              "#d8576b"
             ],
             [
              0.6666666666666666,
              "#ed7953"
             ],
             [
              0.7777777777777778,
              "#fb9f3a"
             ],
             [
              0.8888888888888888,
              "#fdca26"
             ],
             [
              1,
              "#f0f921"
             ]
            ],
            "type": "contour"
           }
          ],
          "contourcarpet": [
           {
            "colorbar": {
             "outlinewidth": 0,
             "ticks": ""
            },
            "type": "contourcarpet"
           }
          ],
          "heatmap": [
           {
            "colorbar": {
             "outlinewidth": 0,
             "ticks": ""
            },
            "colorscale": [
             [
              0,
              "#0d0887"
             ],
             [
              0.1111111111111111,
              "#46039f"
             ],
             [
              0.2222222222222222,
              "#7201a8"
             ],
             [
              0.3333333333333333,
              "#9c179e"
             ],
             [
              0.4444444444444444,
              "#bd3786"
             ],
             [
              0.5555555555555556,
              "#d8576b"
             ],
             [
              0.6666666666666666,
              "#ed7953"
             ],
             [
              0.7777777777777778,
              "#fb9f3a"
             ],
             [
              0.8888888888888888,
              "#fdca26"
             ],
             [
              1,
              "#f0f921"
             ]
            ],
            "type": "heatmap"
           }
          ],
          "heatmapgl": [
           {
            "colorbar": {
             "outlinewidth": 0,
             "ticks": ""
            },
            "colorscale": [
             [
              0,
              "#0d0887"
             ],
             [
              0.1111111111111111,
              "#46039f"
             ],
             [
              0.2222222222222222,
              "#7201a8"
             ],
             [
              0.3333333333333333,
              "#9c179e"
             ],
             [
              0.4444444444444444,
              "#bd3786"
             ],
             [
              0.5555555555555556,
              "#d8576b"
             ],
             [
              0.6666666666666666,
              "#ed7953"
             ],
             [
              0.7777777777777778,
              "#fb9f3a"
             ],
             [
              0.8888888888888888,
              "#fdca26"
             ],
             [
              1,
              "#f0f921"
             ]
            ],
            "type": "heatmapgl"
           }
          ],
          "histogram": [
           {
            "marker": {
             "pattern": {
              "fillmode": "overlay",
              "size": 10,
              "solidity": 0.2
             }
            },
            "type": "histogram"
           }
          ],
          "histogram2d": [
           {
            "colorbar": {
             "outlinewidth": 0,
             "ticks": ""
            },
            "colorscale": [
             [
              0,
              "#0d0887"
             ],
             [
              0.1111111111111111,
              "#46039f"
             ],
             [
              0.2222222222222222,
              "#7201a8"
             ],
             [
              0.3333333333333333,
              "#9c179e"
             ],
             [
              0.4444444444444444,
              "#bd3786"
             ],
             [
              0.5555555555555556,
              "#d8576b"
             ],
             [
              0.6666666666666666,
              "#ed7953"
             ],
             [
              0.7777777777777778,
              "#fb9f3a"
             ],
             [
              0.8888888888888888,
              "#fdca26"
             ],
             [
              1,
              "#f0f921"
             ]
            ],
            "type": "histogram2d"
           }
          ],
          "histogram2dcontour": [
           {
            "colorbar": {
             "outlinewidth": 0,
             "ticks": ""
            },
            "colorscale": [
             [
              0,
              "#0d0887"
             ],
             [
              0.1111111111111111,
              "#46039f"
             ],
             [
              0.2222222222222222,
              "#7201a8"
             ],
             [
              0.3333333333333333,
              "#9c179e"
             ],
             [
              0.4444444444444444,
              "#bd3786"
             ],
             [
              0.5555555555555556,
              "#d8576b"
             ],
             [
              0.6666666666666666,
              "#ed7953"
             ],
             [
              0.7777777777777778,
              "#fb9f3a"
             ],
             [
              0.8888888888888888,
              "#fdca26"
             ],
             [
              1,
              "#f0f921"
             ]
            ],
            "type": "histogram2dcontour"
           }
          ],
          "mesh3d": [
           {
            "colorbar": {
             "outlinewidth": 0,
             "ticks": ""
            },
            "type": "mesh3d"
           }
          ],
          "parcoords": [
           {
            "line": {
             "colorbar": {
              "outlinewidth": 0,
              "ticks": ""
             }
            },
            "type": "parcoords"
           }
          ],
          "pie": [
           {
            "automargin": true,
            "type": "pie"
           }
          ],
          "scatter": [
           {
            "fillpattern": {
             "fillmode": "overlay",
             "size": 10,
             "solidity": 0.2
            },
            "type": "scatter"
           }
          ],
          "scatter3d": [
           {
            "line": {
             "colorbar": {
              "outlinewidth": 0,
              "ticks": ""
             }
            },
            "marker": {
             "colorbar": {
              "outlinewidth": 0,
              "ticks": ""
             }
            },
            "type": "scatter3d"
           }
          ],
          "scattercarpet": [
           {
            "marker": {
             "colorbar": {
              "outlinewidth": 0,
              "ticks": ""
             }
            },
            "type": "scattercarpet"
           }
          ],
          "scattergeo": [
           {
            "marker": {
             "colorbar": {
              "outlinewidth": 0,
              "ticks": ""
             }
            },
            "type": "scattergeo"
           }
          ],
          "scattergl": [
           {
            "marker": {
             "colorbar": {
              "outlinewidth": 0,
              "ticks": ""
             }
            },
            "type": "scattergl"
           }
          ],
          "scattermapbox": [
           {
            "marker": {
             "colorbar": {
              "outlinewidth": 0,
              "ticks": ""
             }
            },
            "type": "scattermapbox"
           }
          ],
          "scatterpolar": [
           {
            "marker": {
             "colorbar": {
              "outlinewidth": 0,
              "ticks": ""
             }
            },
            "type": "scatterpolar"
           }
          ],
          "scatterpolargl": [
           {
            "marker": {
             "colorbar": {
              "outlinewidth": 0,
              "ticks": ""
             }
            },
            "type": "scatterpolargl"
           }
          ],
          "scatterternary": [
           {
            "marker": {
             "colorbar": {
              "outlinewidth": 0,
              "ticks": ""
             }
            },
            "type": "scatterternary"
           }
          ],
          "surface": [
           {
            "colorbar": {
             "outlinewidth": 0,
             "ticks": ""
            },
            "colorscale": [
             [
              0,
              "#0d0887"
             ],
             [
              0.1111111111111111,
              "#46039f"
             ],
             [
              0.2222222222222222,
              "#7201a8"
             ],
             [
              0.3333333333333333,
              "#9c179e"
             ],
             [
              0.4444444444444444,
              "#bd3786"
             ],
             [
              0.5555555555555556,
              "#d8576b"
             ],
             [
              0.6666666666666666,
              "#ed7953"
             ],
             [
              0.7777777777777778,
              "#fb9f3a"
             ],
             [
              0.8888888888888888,
              "#fdca26"
             ],
             [
              1,
              "#f0f921"
             ]
            ],
            "type": "surface"
           }
          ],
          "table": [
           {
            "cells": {
             "fill": {
              "color": "#EBF0F8"
             },
             "line": {
              "color": "white"
             }
            },
            "header": {
             "fill": {
              "color": "#C8D4E3"
             },
             "line": {
              "color": "white"
             }
            },
            "type": "table"
           }
          ]
         },
         "layout": {
          "annotationdefaults": {
           "arrowcolor": "#2a3f5f",
           "arrowhead": 0,
           "arrowwidth": 1
          },
          "autotypenumbers": "strict",
          "coloraxis": {
           "colorbar": {
            "outlinewidth": 0,
            "ticks": ""
           }
          },
          "colorscale": {
           "diverging": [
            [
             0,
             "#8e0152"
            ],
            [
             0.1,
             "#c51b7d"
            ],
            [
             0.2,
             "#de77ae"
            ],
            [
             0.3,
             "#f1b6da"
            ],
            [
             0.4,
             "#fde0ef"
            ],
            [
             0.5,
             "#f7f7f7"
            ],
            [
             0.6,
             "#e6f5d0"
            ],
            [
             0.7,
             "#b8e186"
            ],
            [
             0.8,
             "#7fbc41"
            ],
            [
             0.9,
             "#4d9221"
            ],
            [
             1,
             "#276419"
            ]
           ],
           "sequential": [
            [
             0,
             "#0d0887"
            ],
            [
             0.1111111111111111,
             "#46039f"
            ],
            [
             0.2222222222222222,
             "#7201a8"
            ],
            [
             0.3333333333333333,
             "#9c179e"
            ],
            [
             0.4444444444444444,
             "#bd3786"
            ],
            [
             0.5555555555555556,
             "#d8576b"
            ],
            [
             0.6666666666666666,
             "#ed7953"
            ],
            [
             0.7777777777777778,
             "#fb9f3a"
            ],
            [
             0.8888888888888888,
             "#fdca26"
            ],
            [
             1,
             "#f0f921"
            ]
           ],
           "sequentialminus": [
            [
             0,
             "#0d0887"
            ],
            [
             0.1111111111111111,
             "#46039f"
            ],
            [
             0.2222222222222222,
             "#7201a8"
            ],
            [
             0.3333333333333333,
             "#9c179e"
            ],
            [
             0.4444444444444444,
             "#bd3786"
            ],
            [
             0.5555555555555556,
             "#d8576b"
            ],
            [
             0.6666666666666666,
             "#ed7953"
            ],
            [
             0.7777777777777778,
             "#fb9f3a"
            ],
            [
             0.8888888888888888,
             "#fdca26"
            ],
            [
             1,
             "#f0f921"
            ]
           ]
          },
          "colorway": [
           "#636efa",
           "#EF553B",
           "#00cc96",
           "#ab63fa",
           "#FFA15A",
           "#19d3f3",
           "#FF6692",
           "#B6E880",
           "#FF97FF",
           "#FECB52"
          ],
          "font": {
           "color": "#2a3f5f"
          },
          "geo": {
           "bgcolor": "white",
           "lakecolor": "white",
           "landcolor": "#E5ECF6",
           "showlakes": true,
           "showland": true,
           "subunitcolor": "white"
          },
          "hoverlabel": {
           "align": "left"
          },
          "hovermode": "closest",
          "mapbox": {
           "style": "light"
          },
          "paper_bgcolor": "white",
          "plot_bgcolor": "#E5ECF6",
          "polar": {
           "angularaxis": {
            "gridcolor": "white",
            "linecolor": "white",
            "ticks": ""
           },
           "bgcolor": "#E5ECF6",
           "radialaxis": {
            "gridcolor": "white",
            "linecolor": "white",
            "ticks": ""
           }
          },
          "scene": {
           "xaxis": {
            "backgroundcolor": "#E5ECF6",
            "gridcolor": "white",
            "gridwidth": 2,
            "linecolor": "white",
            "showbackground": true,
            "ticks": "",
            "zerolinecolor": "white"
           },
           "yaxis": {
            "backgroundcolor": "#E5ECF6",
            "gridcolor": "white",
            "gridwidth": 2,
            "linecolor": "white",
            "showbackground": true,
            "ticks": "",
            "zerolinecolor": "white"
           },
           "zaxis": {
            "backgroundcolor": "#E5ECF6",
            "gridcolor": "white",
            "gridwidth": 2,
            "linecolor": "white",
            "showbackground": true,
            "ticks": "",
            "zerolinecolor": "white"
           }
          },
          "shapedefaults": {
           "line": {
            "color": "#2a3f5f"
           }
          },
          "ternary": {
           "aaxis": {
            "gridcolor": "white",
            "linecolor": "white",
            "ticks": ""
           },
           "baxis": {
            "gridcolor": "white",
            "linecolor": "white",
            "ticks": ""
           },
           "bgcolor": "#E5ECF6",
           "caxis": {
            "gridcolor": "white",
            "linecolor": "white",
            "ticks": ""
           }
          },
          "title": {
           "x": 0.05
          },
          "xaxis": {
           "automargin": true,
           "gridcolor": "white",
           "linecolor": "white",
           "ticks": "",
           "title": {
            "standoff": 15
           },
           "zerolinecolor": "white",
           "zerolinewidth": 2
          },
          "yaxis": {
           "automargin": true,
           "gridcolor": "white",
           "linecolor": "white",
           "ticks": "",
           "title": {
            "standoff": 15
           },
           "zerolinecolor": "white",
           "zerolinewidth": 2
          }
         }
        },
        "xaxis": {
         "anchor": "y",
         "domain": [
          0,
          1
         ],
         "type": "date"
        },
        "yaxis": {
         "anchor": "x",
         "autorange": "reversed",
         "domain": [
          0,
          1
         ],
         "title": {
          "text": "Task"
         }
        }
       }
      }
     },
     "metadata": {},
     "output_type": "display_data"
    }
   ],
   "source": [
    "def assignment_fullfilment(project,task):\n",
    "    dict_1=ra_dict[project]\n",
    "    try :\n",
    "        assignment=dict_1[task][0]\n",
    "    except: \n",
    "        assignment=\"To be Hired\"\n",
    "    return assignment\n",
    "\n",
    "pd_2=utils.convert_to_pd(pipeline_tasks)\n",
    "pd_2['assignment_status']=pd_2[[\"Project\",\"Task\"]].apply(lambda x:assignment_fullfilment(*x),axis=1)\n",
    "\n",
    "utils.plot_assignment_gantt_chart(pd_2)"
   ]
  },
  {
   "cell_type": "code",
   "execution_count": 20,
   "id": "ff6e782b",
   "metadata": {},
   "outputs": [],
   "source": [
    "RESOURCES_future=copy.deepcopy(RESOURCES)\n",
    "\n",
    "i=0\n",
    "for resource in RESOURCES_future.keys():\n",
    "    # RESOURCES_future[resource]['num_ongoing_and_future_projects']=RESOURCES_future[resource]['num_ongoing_projects']\n",
    "    # RESOURCES_future[resource]['current_and_future_load']=RESOURCES_future[resource]['current_load']\n",
    "\n",
    "    for p in model.pipeline_projects:\n",
    "            for t in pipeline_project_tasks[p]:\n",
    "                if model.prt_improper_var[p, t, resource].value == 1:\n",
    "                    i=i+1\n",
    "                    start_date=pipeline_tasks[(p,t)]['start_date']\n",
    "                    end_date=pipeline_tasks[(p,t)]['end_date']\n",
    "                    RESOURCES_future[resource]['num_ongoing_projects']=RESOURCES_future[resource]['num_ongoing_projects']+1\n",
    "                    RESOURCES_future[resource]['current_load'][f'fut_{i}']={\n",
    "                            'project': (p,t), 'start_date': start_date, 'end_date':end_date,'uf':1}                    \n",
    "\n",
    "    "
   ]
  },
  {
   "cell_type": "code",
   "execution_count": 21,
   "id": "3c0b9318",
   "metadata": {},
   "outputs": [
    {
     "data": {
      "text/plain": [
       "{'Saleh Samaneh': 3,\n",
       " 'Mohamed Hatab': 100,\n",
       " 'Mohamed Qasim': 5,\n",
       " 'Amr Mansour': 3,\n",
       " 'Gayda Mtuhar': 100,\n",
       " 'Ahmad Cheble': 0,\n",
       " 'Mohamed Abo Saad': 55,\n",
       " 'Ibrahim Kareem': 100,\n",
       " 'Hawraa': 55,\n",
       " 'Waleed Abaas': 60,\n",
       " 'Amr Ramadan': 100,\n",
       " 'Akram': 100,\n",
       " 'Mohamed unassigned': 0}"
      ]
     },
     "execution_count": 21,
     "metadata": {},
     "output_type": "execute_result"
    }
   ],
   "source": [
    "dict_assignment_resource_util=compute_utilization(\"1 JAN 2023\",\"31 DEC 2023\",RESOURCES_future)\n",
    "dict_assignment_resource_util"
   ]
  },
  {
   "cell_type": "code",
   "execution_count": 22,
   "id": "18dfb94e",
   "metadata": {},
   "outputs": [
    {
     "name": "stdout",
     "output_type": "stream",
     "text": [
      "The forseen utilization is  52.38461538461539\n"
     ]
    }
   ],
   "source": [
    "overall_future_utilization=sum(dict_assignment_resource_util.values()) / len(dict_assignment_resource_util.keys())\n",
    "# print(f\"You have {num_resources} Resources\")\n",
    "# print(f\"Currently there are {bench_count} on bench \")\n",
    "# print(f\"The people on bench are {bench_list}\")\n",
    "# print(\"The resources utilization are \",resource_utilization_dict)\n",
    "print(\"The forseen utilization is \",overall_future_utilization)"
   ]
  },
  {
   "cell_type": "code",
   "execution_count": 23,
   "id": "6e58e559",
   "metadata": {},
   "outputs": [
    {
     "data": {
      "text/html": [
       "<div>\n",
       "<style scoped>\n",
       "    .dataframe tbody tr th:only-of-type {\n",
       "        vertical-align: middle;\n",
       "    }\n",
       "\n",
       "    .dataframe tbody tr th {\n",
       "        vertical-align: top;\n",
       "    }\n",
       "\n",
       "    .dataframe thead th {\n",
       "        text-align: right;\n",
       "    }\n",
       "</style>\n",
       "<table border=\"1\" class=\"dataframe\">\n",
       "  <thead>\n",
       "    <tr style=\"text-align: right;\">\n",
       "      <th></th>\n",
       "      <th>Project</th>\n",
       "      <th>Task</th>\n",
       "      <th>Start</th>\n",
       "      <th>End</th>\n",
       "      <th>Role</th>\n",
       "      <th>Type</th>\n",
       "      <th>assignment_status</th>\n",
       "    </tr>\n",
       "  </thead>\n",
       "  <tbody>\n",
       "    <tr>\n",
       "      <th>0</th>\n",
       "      <td>STC</td>\n",
       "      <td>STC_P1_RHU_BDM</td>\n",
       "      <td>2023-01-01</td>\n",
       "      <td>2023-02-11</td>\n",
       "      <td>BDM</td>\n",
       "      <td>pipeline</td>\n",
       "      <td>To be Hired</td>\n",
       "    </tr>\n",
       "    <tr>\n",
       "      <th>1</th>\n",
       "      <td>STC</td>\n",
       "      <td>STC_SC2_RHU_DRM</td>\n",
       "      <td>2023-01-01</td>\n",
       "      <td>2023-02-11</td>\n",
       "      <td>DRM</td>\n",
       "      <td>pipeline</td>\n",
       "      <td>To be Hired</td>\n",
       "    </tr>\n",
       "    <tr>\n",
       "      <th>2</th>\n",
       "      <td>STC</td>\n",
       "      <td>STC_L1_RHU_AI Lead</td>\n",
       "      <td>2023-01-07</td>\n",
       "      <td>2023-01-19</td>\n",
       "      <td>AI Lead</td>\n",
       "      <td>pipeline</td>\n",
       "      <td>Amr Mansour</td>\n",
       "    </tr>\n",
       "    <tr>\n",
       "      <th>3</th>\n",
       "      <td>STC</td>\n",
       "      <td>STC_L1_RHU_DG Lead</td>\n",
       "      <td>2023-01-07</td>\n",
       "      <td>2023-01-19</td>\n",
       "      <td>DG Lead</td>\n",
       "      <td>pipeline</td>\n",
       "      <td>To be Hired</td>\n",
       "    </tr>\n",
       "    <tr>\n",
       "      <th>4</th>\n",
       "      <td>STC</td>\n",
       "      <td>STC_L1_RHU_DM Lead</td>\n",
       "      <td>2023-01-07</td>\n",
       "      <td>2023-01-19</td>\n",
       "      <td>DM Lead</td>\n",
       "      <td>pipeline</td>\n",
       "      <td>Saleh Samaneh</td>\n",
       "    </tr>\n",
       "    <tr>\n",
       "      <th>5</th>\n",
       "      <td>STC</td>\n",
       "      <td>STC_C1_RHU_DM</td>\n",
       "      <td>2023-01-19</td>\n",
       "      <td>2023-02-08</td>\n",
       "      <td>DM</td>\n",
       "      <td>pipeline</td>\n",
       "      <td>Mohamed Qasim</td>\n",
       "    </tr>\n",
       "    <tr>\n",
       "      <th>6</th>\n",
       "      <td>STC</td>\n",
       "      <td>STC_C1_AMM_DM</td>\n",
       "      <td>2023-01-19</td>\n",
       "      <td>2023-02-08</td>\n",
       "      <td>DM</td>\n",
       "      <td>pipeline</td>\n",
       "      <td>Mohamed Hatab</td>\n",
       "    </tr>\n",
       "    <tr>\n",
       "      <th>7</th>\n",
       "      <td>STC</td>\n",
       "      <td>STC_C1_RHU_Coordinator</td>\n",
       "      <td>2023-01-19</td>\n",
       "      <td>2023-02-11</td>\n",
       "      <td>Coordinator</td>\n",
       "      <td>pipeline</td>\n",
       "      <td>Ibrahim Kareem</td>\n",
       "    </tr>\n",
       "    <tr>\n",
       "      <th>8</th>\n",
       "      <td>TAKA</td>\n",
       "      <td>TAKA_P1_RHU_BDM</td>\n",
       "      <td>2023-03-15</td>\n",
       "      <td>2023-10-22</td>\n",
       "      <td>BDM</td>\n",
       "      <td>pipeline</td>\n",
       "      <td>To be Hired</td>\n",
       "    </tr>\n",
       "    <tr>\n",
       "      <th>9</th>\n",
       "      <td>TAKA</td>\n",
       "      <td>TAKA_SC2_RHU_DRM</td>\n",
       "      <td>2023-03-15</td>\n",
       "      <td>2023-10-22</td>\n",
       "      <td>DRM</td>\n",
       "      <td>pipeline</td>\n",
       "      <td>Waleed Abaas</td>\n",
       "    </tr>\n",
       "    <tr>\n",
       "      <th>10</th>\n",
       "      <td>TAKA</td>\n",
       "      <td>TAKA_L1_RHU_AI Lead</td>\n",
       "      <td>2023-03-21</td>\n",
       "      <td>2023-04-02</td>\n",
       "      <td>AI Lead</td>\n",
       "      <td>pipeline</td>\n",
       "      <td>To be Hired</td>\n",
       "    </tr>\n",
       "    <tr>\n",
       "      <th>11</th>\n",
       "      <td>TAKA</td>\n",
       "      <td>TAKA_L1_RHU_DG Lead</td>\n",
       "      <td>2023-03-21</td>\n",
       "      <td>2023-04-02</td>\n",
       "      <td>DG Lead</td>\n",
       "      <td>pipeline</td>\n",
       "      <td>To be Hired</td>\n",
       "    </tr>\n",
       "    <tr>\n",
       "      <th>12</th>\n",
       "      <td>TAKA</td>\n",
       "      <td>TAKA_L1_RHU_DM Lead</td>\n",
       "      <td>2023-03-21</td>\n",
       "      <td>2023-04-02</td>\n",
       "      <td>DM Lead</td>\n",
       "      <td>pipeline</td>\n",
       "      <td>To be Hired</td>\n",
       "    </tr>\n",
       "    <tr>\n",
       "      <th>13</th>\n",
       "      <td>TAKA</td>\n",
       "      <td>TAKA_C1_RHU_AI</td>\n",
       "      <td>2023-04-02</td>\n",
       "      <td>2023-10-19</td>\n",
       "      <td>AI</td>\n",
       "      <td>pipeline</td>\n",
       "      <td>Hawraa</td>\n",
       "    </tr>\n",
       "    <tr>\n",
       "      <th>14</th>\n",
       "      <td>TAKA</td>\n",
       "      <td>TAKA_C1_AMM_AI</td>\n",
       "      <td>2023-04-02</td>\n",
       "      <td>2023-10-19</td>\n",
       "      <td>AI</td>\n",
       "      <td>pipeline</td>\n",
       "      <td>Mohamed Abo Saad</td>\n",
       "    </tr>\n",
       "    <tr>\n",
       "      <th>15</th>\n",
       "      <td>TAKA</td>\n",
       "      <td>TAKA_C1_RHU_Coordinator</td>\n",
       "      <td>2023-04-02</td>\n",
       "      <td>2023-10-22</td>\n",
       "      <td>Coordinator</td>\n",
       "      <td>pipeline</td>\n",
       "      <td>To be Hired</td>\n",
       "    </tr>\n",
       "  </tbody>\n",
       "</table>\n",
       "</div>"
      ],
      "text/plain": [
       "   Project                     Task      Start        End         Role  \\\n",
       "0      STC           STC_P1_RHU_BDM 2023-01-01 2023-02-11          BDM   \n",
       "1      STC          STC_SC2_RHU_DRM 2023-01-01 2023-02-11          DRM   \n",
       "2      STC       STC_L1_RHU_AI Lead 2023-01-07 2023-01-19      AI Lead   \n",
       "3      STC       STC_L1_RHU_DG Lead 2023-01-07 2023-01-19      DG Lead   \n",
       "4      STC       STC_L1_RHU_DM Lead 2023-01-07 2023-01-19      DM Lead   \n",
       "5      STC            STC_C1_RHU_DM 2023-01-19 2023-02-08           DM   \n",
       "6      STC            STC_C1_AMM_DM 2023-01-19 2023-02-08           DM   \n",
       "7      STC   STC_C1_RHU_Coordinator 2023-01-19 2023-02-11  Coordinator   \n",
       "8     TAKA          TAKA_P1_RHU_BDM 2023-03-15 2023-10-22          BDM   \n",
       "9     TAKA         TAKA_SC2_RHU_DRM 2023-03-15 2023-10-22          DRM   \n",
       "10    TAKA      TAKA_L1_RHU_AI Lead 2023-03-21 2023-04-02      AI Lead   \n",
       "11    TAKA      TAKA_L1_RHU_DG Lead 2023-03-21 2023-04-02      DG Lead   \n",
       "12    TAKA      TAKA_L1_RHU_DM Lead 2023-03-21 2023-04-02      DM Lead   \n",
       "13    TAKA           TAKA_C1_RHU_AI 2023-04-02 2023-10-19           AI   \n",
       "14    TAKA           TAKA_C1_AMM_AI 2023-04-02 2023-10-19           AI   \n",
       "15    TAKA  TAKA_C1_RHU_Coordinator 2023-04-02 2023-10-22  Coordinator   \n",
       "\n",
       "        Type assignment_status  \n",
       "0   pipeline       To be Hired  \n",
       "1   pipeline       To be Hired  \n",
       "2   pipeline       Amr Mansour  \n",
       "3   pipeline       To be Hired  \n",
       "4   pipeline     Saleh Samaneh  \n",
       "5   pipeline     Mohamed Qasim  \n",
       "6   pipeline     Mohamed Hatab  \n",
       "7   pipeline    Ibrahim Kareem  \n",
       "8   pipeline       To be Hired  \n",
       "9   pipeline      Waleed Abaas  \n",
       "10  pipeline       To be Hired  \n",
       "11  pipeline       To be Hired  \n",
       "12  pipeline       To be Hired  \n",
       "13  pipeline            Hawraa  \n",
       "14  pipeline  Mohamed Abo Saad  \n",
       "15  pipeline       To be Hired  "
      ]
     },
     "execution_count": 23,
     "metadata": {},
     "output_type": "execute_result"
    }
   ],
   "source": [
    "pd_2"
   ]
  },
  {
   "cell_type": "code",
   "execution_count": 24,
   "id": "59ad3dbe",
   "metadata": {},
   "outputs": [
    {
     "name": "stdout",
     "output_type": "stream",
     "text": [
      "You need to hire the following : \n"
     ]
    },
    {
     "data": {
      "text/plain": [
       "'BDM and DRM and DG Lead and AI Lead and DM Lead and Coordinator'"
      ]
     },
     "execution_count": 24,
     "metadata": {},
     "output_type": "execute_result"
    }
   ],
   "source": [
    "#Hiring Status \n",
    "# You need to hire the following\n",
    "print(\"You need to hire the following : \")\n",
    "\" and \".join (pd_2[pd_2['assignment_status']==\"To be Hired\"]['Role'].unique())"
   ]
  },
  {
   "cell_type": "code",
   "execution_count": null,
   "id": "c5fd6ffd",
   "metadata": {},
   "outputs": [],
   "source": []
  },
  {
   "cell_type": "markdown",
   "id": "352af5bf",
   "metadata": {},
   "source": [
    "WorkSpace"
   ]
  },
  {
   "cell_type": "code",
   "execution_count": 25,
   "id": "f400de92",
   "metadata": {},
   "outputs": [
    {
     "data": {
      "text/plain": [
       "{'skillset': ['DQ Lead', 'DM Lead', 'BDM'],\n",
       " 'seniority': 'P1',\n",
       " 'slots': 3,\n",
       " 'hire_date': Timestamp('2021-01-01 00:00:00'),\n",
       " 'num_ongoing_projects': 3,\n",
       " 'current_load': {'ong_0': {'project': 'MOJ',\n",
       "   'start_date': '01 Jan 2022',\n",
       "   'end_date': '31 Dec 2022',\n",
       "   'uf': 1},\n",
       "  'ong_1': {'project': 'MOE',\n",
       "   'start_date': '01 Jan 2022',\n",
       "   'end_date': '31 Dec 2022',\n",
       "   'uf': 1},\n",
       "  'fut_1': {'project': ('STC', 'STC_L1_RHU_DM Lead'),\n",
       "   'start_date': '07 Jan 2023',\n",
       "   'end_date': '19 Jan 2023',\n",
       "   'uf': 1}}}"
      ]
     },
     "execution_count": 25,
     "metadata": {},
     "output_type": "execute_result"
    }
   ],
   "source": [
    "RESOURCES_future['Saleh Samaneh']"
   ]
  },
  {
   "cell_type": "code",
   "execution_count": 26,
   "id": "fbea05e3",
   "metadata": {},
   "outputs": [
    {
     "data": {
      "text/plain": [
       "{'ong_12': {'project': 'idle',\n",
       "  'start_date': '01 JAN 1900',\n",
       "  'end_date': '02 JAN 1900',\n",
       "  'uf': 0}}"
      ]
     },
     "execution_count": 26,
     "metadata": {},
     "output_type": "execute_result"
    }
   ],
   "source": [
    "all_projects_dictionary=RESOURCES_future['Mohamed unassigned']['current_load']\n",
    "all_projects_dictionary"
   ]
  },
  {
   "cell_type": "code",
   "execution_count": 27,
   "id": "f8acd80a",
   "metadata": {},
   "outputs": [
    {
     "data": {
      "text/plain": [
       "'idle'"
      ]
     },
     "execution_count": 27,
     "metadata": {},
     "output_type": "execute_result"
    }
   ],
   "source": [
    "all_projects_dictionary['ong_12']['project']"
   ]
  },
  {
   "cell_type": "code",
   "execution_count": 28,
   "id": "04f775fe",
   "metadata": {},
   "outputs": [
    {
     "data": {
      "text/plain": [
       "{'TAKA': {'TAKA_P1_RHU_BDM': [],\n",
       "  'TAKA_SC2_RHU_DRM': ['Waleed Abaas'],\n",
       "  'TAKA_L1_RHU_AI Lead': [],\n",
       "  'TAKA_L1_RHU_DG Lead': [],\n",
       "  'TAKA_L1_RHU_DM Lead': [],\n",
       "  'TAKA_C1_RHU_AI': ['Hawraa'],\n",
       "  'TAKA_C1_AMM_AI': ['Mohamed Abo Saad'],\n",
       "  'TAKA_C1_RHU_Coordinator': []},\n",
       " 'STC': {'STC_P1_RHU_BDM': [],\n",
       "  'STC_SC2_RHU_DRM': [],\n",
       "  'STC_L1_RHU_AI Lead': ['Amr Mansour'],\n",
       "  'STC_L1_RHU_DG Lead': [],\n",
       "  'STC_L1_RHU_DM Lead': ['Saleh Samaneh'],\n",
       "  'STC_C1_RHU_DM': ['Mohamed Qasim'],\n",
       "  'STC_C1_AMM_DM': ['Mohamed Hatab'],\n",
       "  'STC_C1_RHU_Coordinator': ['Ibrahim Kareem']}}"
      ]
     },
     "execution_count": 28,
     "metadata": {},
     "output_type": "execute_result"
    }
   ],
   "source": [
    "def get_resource_assignment(resource_assignment):\n",
    "    resource_table = {\n",
    "        \n",
    "        p: {t: [] for t in pipeline_project_tasks[p]} \n",
    "        for p in model.pipeline_projects}   \n",
    "    \n",
    "    \n",
    "    for r in model.RESOURCES :\n",
    "        for p in model.pipeline_projects:\n",
    "            for t in pipeline_project_tasks[p]:\n",
    "                if model.prt_improper_var[p, t, r].value == 1:\n",
    "                    resource_table[p][t].append(r)\n",
    "    return resource_table\n",
    "\n",
    "get_resource_assignment(model.prt_improper_var)"
   ]
  },
  {
   "cell_type": "code",
   "execution_count": 29,
   "id": "0465d1cd",
   "metadata": {},
   "outputs": [
    {
     "data": {
      "text/plain": [
       "{'skillset': ['DQ Lead', 'DM Lead', 'BDM'],\n",
       " 'seniority': 'P1',\n",
       " 'slots': 3,\n",
       " 'hire_date': Timestamp('2021-01-01 00:00:00'),\n",
       " 'num_ongoing_projects': 2,\n",
       " 'current_load': {'ong_0': {'project': 'MOJ',\n",
       "   'start_date': '01 Jan 2022',\n",
       "   'end_date': '31 Dec 2022',\n",
       "   'uf': 1},\n",
       "  'ong_1': {'project': 'MOE',\n",
       "   'start_date': '01 Jan 2022',\n",
       "   'end_date': '31 Dec 2022',\n",
       "   'uf': 1}}}"
      ]
     },
     "execution_count": 29,
     "metadata": {},
     "output_type": "execute_result"
    }
   ],
   "source": [
    "RESOURCES['Saleh Samaneh']"
   ]
  },
  {
   "cell_type": "code",
   "execution_count": 30,
   "id": "18ee32e9",
   "metadata": {},
   "outputs": [
    {
     "data": {
      "text/plain": [
       "{'Saleh Samaneh': {'skillset': ['DQ Lead', 'DM Lead', 'BDM'],\n",
       "  'seniority': 'P1',\n",
       "  'slots': 3,\n",
       "  'hire_date': Timestamp('2021-01-01 00:00:00'),\n",
       "  'num_ongoing_projects': 2,\n",
       "  'current_load': {'ong_0': {'project': 'MOJ',\n",
       "    'start_date': '01 Jan 2022',\n",
       "    'end_date': '31 Dec 2022',\n",
       "    'uf': 1},\n",
       "   'ong_1': {'project': 'MOE',\n",
       "    'start_date': '01 Jan 2022',\n",
       "    'end_date': '31 Dec 2022',\n",
       "    'uf': 1}}},\n",
       " 'Mohamed Hatab': {'skillset': ['DM', 'DQ'],\n",
       "  'seniority': 'SC2',\n",
       "  'slots': 2,\n",
       "  'hire_date': Timestamp('2021-01-01 00:00:00'),\n",
       "  'num_ongoing_projects': 1,\n",
       "  'current_load': {'ong_2': {'project': 'HRSD',\n",
       "    'start_date': '01 Jan 2022',\n",
       "    'end_date': '01 Jan 2024',\n",
       "    'uf': 1}}},\n",
       " 'Mohamed Qasim': {'skillset': ['DM', 'DQ'],\n",
       "  'seniority': 'C1',\n",
       "  'slots': 1,\n",
       "  'hire_date': Timestamp('2021-01-01 00:00:00'),\n",
       "  'num_ongoing_projects': 1,\n",
       "  'current_load': {'ong_3': {'project': 'MEWA',\n",
       "    'start_date': '01 Jan 2022',\n",
       "    'end_date': '31 Dec 2022',\n",
       "    'uf': 1}}},\n",
       " 'Amr Mansour': {'skillset': ['AI Lead'],\n",
       "  'seniority': 'L1',\n",
       "  'slots': 3,\n",
       "  'hire_date': Timestamp('2021-01-01 00:00:00'),\n",
       "  'num_ongoing_projects': 2,\n",
       "  'current_load': {'ong_4': {'project': 'SWCC',\n",
       "    'start_date': '01 Sep 2022',\n",
       "    'end_date': '01 Oct 2022',\n",
       "    'uf': 1},\n",
       "   'ong_5': {'project': 'MEWA',\n",
       "    'start_date': '01 Aug 2022',\n",
       "    'end_date': '01 Aug 2022',\n",
       "    'uf': 1}}},\n",
       " 'Gayda Mtuhar': {'skillset': ['AI'],\n",
       "  'seniority': 'C1',\n",
       "  'slots': 1,\n",
       "  'hire_date': Timestamp('2021-01-01 00:00:00'),\n",
       "  'num_ongoing_projects': 1,\n",
       "  'current_load': {'ong_6': {'project': 'SWCC',\n",
       "    'start_date': '01 Jan 2022',\n",
       "    'end_date': '01 Jan 2024',\n",
       "    'uf': 1}}},\n",
       " 'Ahmad Cheble': {'skillset': ['AI'],\n",
       "  'seniority': 'C1',\n",
       "  'slots': 1,\n",
       "  'hire_date': Timestamp('2021-01-01 00:00:00'),\n",
       "  'num_ongoing_projects': 1,\n",
       "  'current_load': {'ong_7': {'project': 'MEWA',\n",
       "    'start_date': '01 Jan 2022',\n",
       "    'end_date': '01 Nov 2022',\n",
       "    'uf': 1}}},\n",
       " 'Mohamed Abo Saad': {'skillset': ['AI'],\n",
       "  'seniority': 'C1',\n",
       "  'slots': 1,\n",
       "  'hire_date': Timestamp('2021-01-01 00:00:00'),\n",
       "  'num_ongoing_projects': 1,\n",
       "  'current_load': {'ong_8': {'project': 'SWCC',\n",
       "    'start_date': '01 Jul 2022',\n",
       "    'end_date': '31 Dec 2022',\n",
       "    'uf': 1}}},\n",
       " 'Ibrahim Kareem': {'skillset': ['AI', 'DQ', 'DM', 'Coordinator'],\n",
       "  'seniority': 'L2',\n",
       "  'slots': 3,\n",
       "  'hire_date': Timestamp('2021-01-01 00:00:00'),\n",
       "  'num_ongoing_projects': 1,\n",
       "  'current_load': {'ong_9': {'project': 'SWCC',\n",
       "    'start_date': '01 Jan 2022',\n",
       "    'end_date': '01 Jan 2024',\n",
       "    'uf': 1}}},\n",
       " 'Hawraa': {'skillset': ['AI'],\n",
       "  'seniority': 'C1',\n",
       "  'slots': 1,\n",
       "  'hire_date': Timestamp('2021-01-01 00:00:00'),\n",
       "  'num_ongoing_projects': 1,\n",
       "  'current_load': {'ong_10': {'project': 'SWCC',\n",
       "    'start_date': '01 Jul 2022',\n",
       "    'end_date': '31 Dec 2022',\n",
       "    'uf': 1}}},\n",
       " 'Waleed Abaas': {'skillset': ['DG', 'DRM'],\n",
       "  'seniority': 'SC2',\n",
       "  'slots': 2,\n",
       "  'hire_date': Timestamp('2021-01-01 00:00:00'),\n",
       "  'num_ongoing_projects': 1,\n",
       "  'current_load': {'ong_11': {'project': 'MOJ',\n",
       "    'start_date': '01 Jul 2022',\n",
       "    'end_date': '15 Feb 2023',\n",
       "    'uf': 1}}},\n",
       " 'Amr Ramadan': {'skillset': ['DG', 'DQ'],\n",
       "  'seniority': 'SC2',\n",
       "  'slots': 2,\n",
       "  'hire_date': Timestamp('2021-01-01 00:00:00'),\n",
       "  'num_ongoing_projects': 1,\n",
       "  'current_load': {'ong_12': {'project': 'HRSD',\n",
       "    'start_date': '01 Jun 2022',\n",
       "    'end_date': '01 Jan 2024',\n",
       "    'uf': 1}}},\n",
       " 'Akram': {'skillset': ['DG', 'DQ'],\n",
       "  'seniority': 'L1',\n",
       "  'slots': 3,\n",
       "  'hire_date': Timestamp('2021-01-01 00:00:00'),\n",
       "  'num_ongoing_projects': 1,\n",
       "  'current_load': {'ong_13': {'project': 'HRSD',\n",
       "    'start_date': '01 Jun 2022',\n",
       "    'end_date': '01 Jan 2024',\n",
       "    'uf': 1}}},\n",
       " 'Mohamed unassigned': {'skillset': ['DM', 'DQ'],\n",
       "  'seniority': 'C1',\n",
       "  'slots': 1,\n",
       "  'hire_date': Timestamp('2021-01-01 00:00:00'),\n",
       "  'num_ongoing_projects': 0,\n",
       "  'current_load': {'ong_12': {'project': 'idle',\n",
       "    'start_date': '01 JAN 1900',\n",
       "    'end_date': '02 JAN 1900',\n",
       "    'uf': 0}}}}"
      ]
     },
     "execution_count": 30,
     "metadata": {},
     "output_type": "execute_result"
    }
   ],
   "source": [
    "RESOURCES"
   ]
  },
  {
   "cell_type": "code",
   "execution_count": 31,
   "id": "5489afe3",
   "metadata": {},
   "outputs": [
    {
     "data": {
      "text/plain": [
       "{('STC', 'STC_P1_RHU_BDM'): {'start_date': '01 Jan 2023',\n",
       "  'end_date': '11 Feb 2023',\n",
       "  'skillset': 'BDM',\n",
       "  'type': 'pipeline'},\n",
       " ('STC', 'STC_SC2_RHU_DRM'): {'start_date': '01 Jan 2023',\n",
       "  'end_date': '11 Feb 2023',\n",
       "  'skillset': 'DRM',\n",
       "  'type': 'pipeline'},\n",
       " ('STC', 'STC_L1_RHU_AI Lead'): {'start_date': '07 Jan 2023',\n",
       "  'end_date': '19 Jan 2023',\n",
       "  'skillset': 'AI Lead',\n",
       "  'type': 'pipeline'},\n",
       " ('STC', 'STC_L1_RHU_DG Lead'): {'start_date': '07 Jan 2023',\n",
       "  'end_date': '19 Jan 2023',\n",
       "  'skillset': 'DG Lead',\n",
       "  'type': 'pipeline'},\n",
       " ('STC', 'STC_L1_RHU_DM Lead'): {'start_date': '07 Jan 2023',\n",
       "  'end_date': '19 Jan 2023',\n",
       "  'skillset': 'DM Lead',\n",
       "  'type': 'pipeline'},\n",
       " ('STC', 'STC_C1_RHU_DM'): {'start_date': '19 Jan 2023',\n",
       "  'end_date': '08 Feb 2023',\n",
       "  'skillset': 'DM',\n",
       "  'type': 'pipeline'},\n",
       " ('STC', 'STC_C1_AMM_DM'): {'start_date': '19 Jan 2023',\n",
       "  'end_date': '08 Feb 2023',\n",
       "  'skillset': 'DM',\n",
       "  'type': 'pipeline'},\n",
       " ('STC', 'STC_C1_RHU_Coordinator'): {'start_date': '19 Jan 2023',\n",
       "  'end_date': '11 Feb 2023',\n",
       "  'skillset': 'Coordinator',\n",
       "  'type': 'pipeline'},\n",
       " ('TAKA', 'TAKA_P1_RHU_BDM'): {'start_date': '15 Mar 2023',\n",
       "  'end_date': '22 Oct 2023',\n",
       "  'skillset': 'BDM',\n",
       "  'type': 'pipeline'},\n",
       " ('TAKA', 'TAKA_SC2_RHU_DRM'): {'start_date': '15 Mar 2023',\n",
       "  'end_date': '22 Oct 2023',\n",
       "  'skillset': 'DRM',\n",
       "  'type': 'pipeline'},\n",
       " ('TAKA', 'TAKA_L1_RHU_AI Lead'): {'start_date': '21 Mar 2023',\n",
       "  'end_date': '02 Apr 2023',\n",
       "  'skillset': 'AI Lead',\n",
       "  'type': 'pipeline'},\n",
       " ('TAKA', 'TAKA_L1_RHU_DG Lead'): {'start_date': '21 Mar 2023',\n",
       "  'end_date': '02 Apr 2023',\n",
       "  'skillset': 'DG Lead',\n",
       "  'type': 'pipeline'},\n",
       " ('TAKA', 'TAKA_L1_RHU_DM Lead'): {'start_date': '21 Mar 2023',\n",
       "  'end_date': '02 Apr 2023',\n",
       "  'skillset': 'DM Lead',\n",
       "  'type': 'pipeline'},\n",
       " ('TAKA', 'TAKA_C1_RHU_AI'): {'start_date': '02 Apr 2023',\n",
       "  'end_date': '19 Oct 2023',\n",
       "  'skillset': 'AI',\n",
       "  'type': 'pipeline'},\n",
       " ('TAKA', 'TAKA_C1_AMM_AI'): {'start_date': '02 Apr 2023',\n",
       "  'end_date': '19 Oct 2023',\n",
       "  'skillset': 'AI',\n",
       "  'type': 'pipeline'},\n",
       " ('TAKA', 'TAKA_C1_RHU_Coordinator'): {'start_date': '02 Apr 2023',\n",
       "  'end_date': '22 Oct 2023',\n",
       "  'skillset': 'Coordinator',\n",
       "  'type': 'pipeline'}}"
      ]
     },
     "execution_count": 31,
     "metadata": {},
     "output_type": "execute_result"
    }
   ],
   "source": [
    "pipeline_tasks"
   ]
  },
  {
   "cell_type": "code",
   "execution_count": 32,
   "id": "6ccdc417",
   "metadata": {},
   "outputs": [
    {
     "name": "stdout",
     "output_type": "stream",
     "text": [
      "STC\n",
      "STC\n",
      "STC\n",
      "STC\n",
      "STC\n",
      "STC\n",
      "STC\n",
      "STC\n",
      "TAKA\n",
      "TAKA\n",
      "TAKA\n",
      "TAKA\n",
      "TAKA\n",
      "TAKA\n",
      "TAKA\n",
      "TAKA\n"
     ]
    },
    {
     "data": {
      "text/html": [
       "<div>\n",
       "<style scoped>\n",
       "    .dataframe tbody tr th:only-of-type {\n",
       "        vertical-align: middle;\n",
       "    }\n",
       "\n",
       "    .dataframe tbody tr th {\n",
       "        vertical-align: top;\n",
       "    }\n",
       "\n",
       "    .dataframe thead th {\n",
       "        text-align: right;\n",
       "    }\n",
       "</style>\n",
       "<table border=\"1\" class=\"dataframe\">\n",
       "  <thead>\n",
       "    <tr style=\"text-align: right;\">\n",
       "      <th></th>\n",
       "      <th>Project</th>\n",
       "      <th>Task</th>\n",
       "      <th>Start</th>\n",
       "      <th>End</th>\n",
       "      <th>Role</th>\n",
       "      <th>Type</th>\n",
       "    </tr>\n",
       "  </thead>\n",
       "  <tbody>\n",
       "    <tr>\n",
       "      <th>0</th>\n",
       "      <td>STC</td>\n",
       "      <td>STC_P1_RHU_BDM</td>\n",
       "      <td>2023-01-01</td>\n",
       "      <td>2023-02-11</td>\n",
       "      <td>BDM</td>\n",
       "      <td>pipeline</td>\n",
       "    </tr>\n",
       "    <tr>\n",
       "      <th>1</th>\n",
       "      <td>STC</td>\n",
       "      <td>STC_SC2_RHU_DRM</td>\n",
       "      <td>2023-01-01</td>\n",
       "      <td>2023-02-11</td>\n",
       "      <td>DRM</td>\n",
       "      <td>pipeline</td>\n",
       "    </tr>\n",
       "    <tr>\n",
       "      <th>2</th>\n",
       "      <td>STC</td>\n",
       "      <td>STC_L1_RHU_AI Lead</td>\n",
       "      <td>2023-01-07</td>\n",
       "      <td>2023-01-19</td>\n",
       "      <td>AI Lead</td>\n",
       "      <td>pipeline</td>\n",
       "    </tr>\n",
       "    <tr>\n",
       "      <th>3</th>\n",
       "      <td>STC</td>\n",
       "      <td>STC_L1_RHU_DG Lead</td>\n",
       "      <td>2023-01-07</td>\n",
       "      <td>2023-01-19</td>\n",
       "      <td>DG Lead</td>\n",
       "      <td>pipeline</td>\n",
       "    </tr>\n",
       "    <tr>\n",
       "      <th>4</th>\n",
       "      <td>STC</td>\n",
       "      <td>STC_L1_RHU_DM Lead</td>\n",
       "      <td>2023-01-07</td>\n",
       "      <td>2023-01-19</td>\n",
       "      <td>DM Lead</td>\n",
       "      <td>pipeline</td>\n",
       "    </tr>\n",
       "    <tr>\n",
       "      <th>5</th>\n",
       "      <td>STC</td>\n",
       "      <td>STC_C1_RHU_DM</td>\n",
       "      <td>2023-01-19</td>\n",
       "      <td>2023-02-08</td>\n",
       "      <td>DM</td>\n",
       "      <td>pipeline</td>\n",
       "    </tr>\n",
       "    <tr>\n",
       "      <th>6</th>\n",
       "      <td>STC</td>\n",
       "      <td>STC_C1_AMM_DM</td>\n",
       "      <td>2023-01-19</td>\n",
       "      <td>2023-02-08</td>\n",
       "      <td>DM</td>\n",
       "      <td>pipeline</td>\n",
       "    </tr>\n",
       "    <tr>\n",
       "      <th>7</th>\n",
       "      <td>STC</td>\n",
       "      <td>STC_C1_RHU_Coordinator</td>\n",
       "      <td>2023-01-19</td>\n",
       "      <td>2023-02-11</td>\n",
       "      <td>Coordinator</td>\n",
       "      <td>pipeline</td>\n",
       "    </tr>\n",
       "    <tr>\n",
       "      <th>8</th>\n",
       "      <td>TAKA</td>\n",
       "      <td>TAKA_P1_RHU_BDM</td>\n",
       "      <td>2023-03-15</td>\n",
       "      <td>2023-10-22</td>\n",
       "      <td>BDM</td>\n",
       "      <td>pipeline</td>\n",
       "    </tr>\n",
       "    <tr>\n",
       "      <th>9</th>\n",
       "      <td>TAKA</td>\n",
       "      <td>TAKA_SC2_RHU_DRM</td>\n",
       "      <td>2023-03-15</td>\n",
       "      <td>2023-10-22</td>\n",
       "      <td>DRM</td>\n",
       "      <td>pipeline</td>\n",
       "    </tr>\n",
       "    <tr>\n",
       "      <th>10</th>\n",
       "      <td>TAKA</td>\n",
       "      <td>TAKA_L1_RHU_AI Lead</td>\n",
       "      <td>2023-03-21</td>\n",
       "      <td>2023-04-02</td>\n",
       "      <td>AI Lead</td>\n",
       "      <td>pipeline</td>\n",
       "    </tr>\n",
       "    <tr>\n",
       "      <th>11</th>\n",
       "      <td>TAKA</td>\n",
       "      <td>TAKA_L1_RHU_DG Lead</td>\n",
       "      <td>2023-03-21</td>\n",
       "      <td>2023-04-02</td>\n",
       "      <td>DG Lead</td>\n",
       "      <td>pipeline</td>\n",
       "    </tr>\n",
       "    <tr>\n",
       "      <th>12</th>\n",
       "      <td>TAKA</td>\n",
       "      <td>TAKA_L1_RHU_DM Lead</td>\n",
       "      <td>2023-03-21</td>\n",
       "      <td>2023-04-02</td>\n",
       "      <td>DM Lead</td>\n",
       "      <td>pipeline</td>\n",
       "    </tr>\n",
       "    <tr>\n",
       "      <th>13</th>\n",
       "      <td>TAKA</td>\n",
       "      <td>TAKA_C1_RHU_AI</td>\n",
       "      <td>2023-04-02</td>\n",
       "      <td>2023-10-19</td>\n",
       "      <td>AI</td>\n",
       "      <td>pipeline</td>\n",
       "    </tr>\n",
       "    <tr>\n",
       "      <th>14</th>\n",
       "      <td>TAKA</td>\n",
       "      <td>TAKA_C1_AMM_AI</td>\n",
       "      <td>2023-04-02</td>\n",
       "      <td>2023-10-19</td>\n",
       "      <td>AI</td>\n",
       "      <td>pipeline</td>\n",
       "    </tr>\n",
       "    <tr>\n",
       "      <th>15</th>\n",
       "      <td>TAKA</td>\n",
       "      <td>TAKA_C1_RHU_Coordinator</td>\n",
       "      <td>2023-04-02</td>\n",
       "      <td>2023-10-22</td>\n",
       "      <td>Coordinator</td>\n",
       "      <td>pipeline</td>\n",
       "    </tr>\n",
       "  </tbody>\n",
       "</table>\n",
       "</div>"
      ],
      "text/plain": [
       "   Project                     Task      Start        End         Role  \\\n",
       "0      STC           STC_P1_RHU_BDM 2023-01-01 2023-02-11          BDM   \n",
       "1      STC          STC_SC2_RHU_DRM 2023-01-01 2023-02-11          DRM   \n",
       "2      STC       STC_L1_RHU_AI Lead 2023-01-07 2023-01-19      AI Lead   \n",
       "3      STC       STC_L1_RHU_DG Lead 2023-01-07 2023-01-19      DG Lead   \n",
       "4      STC       STC_L1_RHU_DM Lead 2023-01-07 2023-01-19      DM Lead   \n",
       "5      STC            STC_C1_RHU_DM 2023-01-19 2023-02-08           DM   \n",
       "6      STC            STC_C1_AMM_DM 2023-01-19 2023-02-08           DM   \n",
       "7      STC   STC_C1_RHU_Coordinator 2023-01-19 2023-02-11  Coordinator   \n",
       "8     TAKA          TAKA_P1_RHU_BDM 2023-03-15 2023-10-22          BDM   \n",
       "9     TAKA         TAKA_SC2_RHU_DRM 2023-03-15 2023-10-22          DRM   \n",
       "10    TAKA      TAKA_L1_RHU_AI Lead 2023-03-21 2023-04-02      AI Lead   \n",
       "11    TAKA      TAKA_L1_RHU_DG Lead 2023-03-21 2023-04-02      DG Lead   \n",
       "12    TAKA      TAKA_L1_RHU_DM Lead 2023-03-21 2023-04-02      DM Lead   \n",
       "13    TAKA           TAKA_C1_RHU_AI 2023-04-02 2023-10-19           AI   \n",
       "14    TAKA           TAKA_C1_AMM_AI 2023-04-02 2023-10-19           AI   \n",
       "15    TAKA  TAKA_C1_RHU_Coordinator 2023-04-02 2023-10-22  Coordinator   \n",
       "\n",
       "        Type  \n",
       "0   pipeline  \n",
       "1   pipeline  \n",
       "2   pipeline  \n",
       "3   pipeline  \n",
       "4   pipeline  \n",
       "5   pipeline  \n",
       "6   pipeline  \n",
       "7   pipeline  \n",
       "8   pipeline  \n",
       "9   pipeline  \n",
       "10  pipeline  \n",
       "11  pipeline  \n",
       "12  pipeline  \n",
       "13  pipeline  \n",
       "14  pipeline  \n",
       "15  pipeline  "
      ]
     },
     "execution_count": 32,
     "metadata": {},
     "output_type": "execute_result"
    }
   ],
   "source": [
    "\"\"\"Convert to Pandas to plot a gant chart\"\"\"\n",
    "\n",
    "list_tasks=[]\n",
    "list_start=[]\n",
    "list_end=[]\n",
    "list_skillset=[]\n",
    "list_type=[]\n",
    "list_projects=[]\n",
    "for (p,t) in pipeline_tasks.keys():\n",
    "    print(p)\n",
    "    list_projects.append(p)\n",
    "    list_tasks.append(t)\n",
    "    list_start.append(utils.str_to_date(pipeline_tasks[(p,t)]['start_date']))\n",
    "    list_end.append(utils.str_to_date(pipeline_tasks[(p,t)]['end_date']))\n",
    "    list_skillset.append(pipeline_tasks[(p,t)]['skillset'])\n",
    "    list_type.append(pipeline_tasks[(p,t)].get('type',None)) \n",
    "pd.DataFrame({\"Project\":list_projects,\"Task\":list_tasks , \"Start\":list_start,\"End\":list_end,\"Role\":list_skillset,\"Type\":list_type})\n",
    "\n"
   ]
  },
  {
   "cell_type": "code",
   "execution_count": null,
   "id": "eb4902a3",
   "metadata": {},
   "outputs": [],
   "source": []
  }
 ],
 "metadata": {
  "kernelspec": {
   "display_name": "Python 3.10.5 ('mo')",
   "language": "python",
   "name": "python3"
  },
  "language_info": {
   "codemirror_mode": {
    "name": "ipython",
    "version": 3
   },
   "file_extension": ".py",
   "mimetype": "text/x-python",
   "name": "python",
   "nbconvert_exporter": "python",
   "pygments_lexer": "ipython3",
   "version": "3.10.5"
  },
  "vscode": {
   "interpreter": {
    "hash": "947daf0431bb87ca8bb675fb7e6d22d7371c54ed17c7aa34b93b48f515ac9831"
   }
  }
 },
 "nbformat": 4,
 "nbformat_minor": 5
}
