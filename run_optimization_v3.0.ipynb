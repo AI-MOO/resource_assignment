{
 "cells": [
  {
   "cell_type": "code",
   "execution_count": 1,
   "id": "a4c2aa46",
   "metadata": {},
   "outputs": [],
   "source": [
    "import os\n",
    "from pyomo.environ import *\n",
    "from pyomo.opt import SolverFactory\n",
    "import pandas as pd \n",
    "\n",
    "import warnings\n",
    "warnings.filterwarnings('ignore')\n",
    "from datetime import datetime\n",
    "import matplotlib.pyplot as plt\n",
    "\n",
    "import sys \n",
    "from pathlib import Path\n",
    "import plotly.express as px\n",
    "\n",
    "module_path = \"\"\n",
    "# file=os.path.join(module_path,\"utils.py\")\n",
    "sys.path.append(module_path)\n",
    "import utils as utils\n",
    "\n",
    "import parse_effort_sizing as parse_effort\n",
    "import parse_ongoing_resources as parse_ong\n",
    "import resources_KPIs as res_kpis\n",
    "\n",
    "# import sys\n",
    "# stdout_ = sys.stdout\n",
    "# var = ExClass()\n",
    "# sys.stdout = var\n"
   ]
  },
  {
   "cell_type": "code",
   "execution_count": 2,
   "id": "012792ba",
   "metadata": {},
   "outputs": [],
   "source": [
    "# pipeline_tasks= {\n",
    "#     ('Project1','Task1_1') : \n",
    "#         {'start_date':'1 JAN 2022','end_date':'31 JAN 2022',\n",
    "#          'skillset':'AI_architect','uf':0.5} ,\n",
    "    \n",
    "#     ('Project1','Task2_1') : \n",
    "#         {'start_date':'1 FEB 2022','end_date':'28 FEB 2022',\n",
    "#          'skillset':'BI','uf':1},\n",
    "    \n",
    "#     ('Project2','Task1_2') : \n",
    "#         {'start_date':'1 MAR 2022','end_date':'30 MAR 2022',\n",
    "#          'skillset':'DS','uf':0.5} ,  # --- > For Kareem\n",
    "    \n",
    "#     ('Project2','Task2_2') : \n",
    "#         {'start_date':'1 MAR 2022','end_date':'31 MAR 2022',\n",
    "#          'skillset':'DS','uf':1} ,\n",
    "    \n",
    "#     ('Project2','Task3_2') : \n",
    "#         {'start_date':'1 MAR 2022','end_date':'30 MAR 2022',\n",
    "#          'skillset':'DS','uf':0.5} ,\n",
    "#     ('Project3','Task1_3') : \n",
    "#         {'start_date':'5 MAR 2023','end_date':'7 MAR 2023',\n",
    "#          'skillset':'BI','uf':1}  ,\n",
    "    \n",
    "#      ('Project3','Task2_3') : \n",
    "#         {'start_date':'1 JAN 2022','end_date':'5 JAN 2022',\n",
    "#          'skillset':'DS','uf':0.5} , # --- > For Kareem\n",
    "\n",
    "# }\n",
    "\n",
    "\n",
    "# RESOURCES= {\n",
    "#     'Amr' : \n",
    "#         {'skillset':'AI_architect','seniority': 'LEAD 2C','slots':1,\n",
    "#         'current_load':{\n",
    "#             'ong_1':{'project':'SWCC','start_date':'1 JAN 2022','end_date':'30 JUN 2022' ,'uf':0.5} ,\n",
    "#             'ong_2':{'project':'MEWA','start_date':'1 JAN 2022','end_date':'31 MAR 2022' ,'uf':0.5}\n",
    "#         }},\n",
    "    \n",
    "#     'Reem' : \n",
    "#         {'skillset':['BI','VIS'],\"avail_start\":'1 FEB 2022',\"avail_end\": '28 FEB 2022','slots':1,\n",
    "#         'current_load':{\n",
    "#             'ong_3':{'project':'SWCC','start_date':'1 JAN 2022','end_date':'30 JUN 2022' ,'uf':1} ,\n",
    "#         }},\n",
    "    \n",
    "#     'Kareem' : \n",
    "#         {'skillset':'DS',\"avail_start\":'2 FEB 2022',\"avail_end\": '30 MAR 2023','slots':1,\n",
    "#         'current_load':{\n",
    "#             'ong_4':{'project':'SWCC','start_date':'1 JAN 2022','end_date':'30 JUN 2022' ,'uf':1} ,\n",
    "#         }},\n",
    "    \n",
    "#     'Mohamed' : \n",
    "#         {'skillset':'BI',\"avail_start\":'1 MAR 2022',\"avail_end\": '30 MAR 2022','slots':1,\n",
    "#         'current_load':{\n",
    "#             'ong_5':{'project':'SWCC','start_date':'1 JAN 2022','end_date':'30 JUN 2022' ,'uf':1} ,\n",
    "#         }},\n",
    "    \n",
    "#     'other1' :\n",
    "#         {'skillset':'Devops',\"avail_start\":'1 JAN 2022',\"avail_end\": '31 JAN 2022','slots':1,\n",
    "#         'current_load':{\n",
    "#             'ong_6':{'project':'SWCC','start_date':'1 JAN 2022','end_date':'30 JUN 2022' ,'uf':1} ,\n",
    "#         }}\n",
    " \n",
    "# }"
   ]
  },
  {
   "cell_type": "code",
   "execution_count": 3,
   "id": "0704762c",
   "metadata": {},
   "outputs": [
    {
     "name": "stdout",
     "output_type": "stream",
     "text": [
      "{('STC', 'P1_RHU_BDM'): {'start_date': '01 Jan 2023', 'end_date': '11 Feb 2023', 'skillset': 'BDM'}, ('STC', 'SC2_RHU_DRM'): {'start_date': '01 Jan 2023', 'end_date': '11 Feb 2023', 'skillset': 'DRM'}, ('STC', 'L1_RHU_AI Lead'): {'start_date': '07 Jan 2023', 'end_date': '19 Jan 2023', 'skillset': 'AI Lead'}, ('STC', 'L1_RHU_DG Lead'): {'start_date': '07 Jan 2023', 'end_date': '19 Jan 2023', 'skillset': 'DG Lead'}, ('STC', 'L1_RHU_DM Lead'): {'start_date': '07 Jan 2023', 'end_date': '19 Jan 2023', 'skillset': 'DM Lead'}, ('STC', 'C1_RHU_DM'): {'start_date': '19 Jan 2023', 'end_date': '08 Feb 2023', 'skillset': 'DM'}, ('STC', 'C1_AMM_DM'): {'start_date': '19 Jan 2023', 'end_date': '08 Feb 2023', 'skillset': 'DM'}, ('STC', 'C1_RHU_Coordinator'): {'start_date': '19 Jan 2023', 'end_date': '11 Feb 2023', 'skillset': 'Coordinator'}}\n"
     ]
    }
   ],
   "source": [
    "project_name=\"STC\"\n",
    "project_start_date=\"1 JAN 2023\"\n",
    "path=\"data/STC_effort_sizing.xlsx\"\n",
    "pipeline_tasks=parse_effort.main(project_name,project_start_date,path)\n",
    "\n",
    "RESOURCES=parse_ong.main(\"data\")\n",
    "print(pipeline_tasks)"
   ]
  },
  {
   "cell_type": "code",
   "execution_count": 4,
   "id": "7d574825",
   "metadata": {},
   "outputs": [
    {
     "name": "stdout",
     "output_type": "stream",
     "text": [
      "{'skillset': ['AI', 'DQ', 'DM', 'Coordinator'], 'seniority': 'L2', 'slots': 3, 'hire_date': Timestamp('2021-01-01 00:00:00'), 'num_ongoing_projects': 1, 'current_load': {'ong_9': {'project': 'SWCC', 'start_date': '01 Jan 2022', 'end_date': '01 Jan 2024', 'uf': 1}}}\n"
     ]
    }
   ],
   "source": [
    "print(RESOURCES['Ibrahim Kareem'])"
   ]
  },
  {
   "cell_type": "code",
   "execution_count": 5,
   "id": "a113b3f3",
   "metadata": {},
   "outputs": [
    {
     "name": "stdout",
     "output_type": "stream",
     "text": [
      "You have 13 Resources\n",
      "Currently there are 1 on bench \n",
      "The people on bench are ['Mohamed unassigned']\n",
      "The overall utilization till year end is  88.33333333333333\n"
     ]
    }
   ],
   "source": [
    "num_resources,bench_count,bench_list,resource_utilization_dict=res_kpis.main(RESOURCES)\n",
    "overall_current_utilization=sum(resource_utilization_dict.values()) / len(resource_utilization_dict.keys())\n",
    "print(f\"You have {num_resources} Resources\")\n",
    "print(f\"Currently there are {bench_count} on bench \")\n",
    "print(f\"The people on bench are {bench_list}\")\n",
    "# print(\"The resources utilization are \",resource_utilization_dict)\n",
    "print(\"The overall utilization till year end is \",overall_current_utilization)"
   ]
  },
  {
   "cell_type": "code",
   "execution_count": 6,
   "id": "cbb7fa10",
   "metadata": {},
   "outputs": [
    {
     "data": {
      "application/vnd.plotly.v1+json": {
       "config": {
        "plotlyServerURL": "https://plot.ly"
       },
       "data": [
        {
         "alignmentgroup": "True",
         "base": [
          "2023-01-01T00:00:00"
         ],
         "hovertemplate": "Role=BDM<br>Start=%{base}<br>End=%{x}<br>Task=%{y}<extra></extra>",
         "legendgroup": "BDM",
         "marker": {
          "color": "#636efa",
          "pattern": {
           "shape": ""
          }
         },
         "name": "BDM",
         "offsetgroup": "BDM",
         "orientation": "h",
         "showlegend": true,
         "textposition": "auto",
         "type": "bar",
         "x": [
          3542400000
         ],
         "xaxis": "x",
         "y": [
          "P1_RHU_BDM"
         ],
         "yaxis": "y"
        },
        {
         "alignmentgroup": "True",
         "base": [
          "2023-01-01T00:00:00"
         ],
         "hovertemplate": "Role=DRM<br>Start=%{base}<br>End=%{x}<br>Task=%{y}<extra></extra>",
         "legendgroup": "DRM",
         "marker": {
          "color": "#EF553B",
          "pattern": {
           "shape": ""
          }
         },
         "name": "DRM",
         "offsetgroup": "DRM",
         "orientation": "h",
         "showlegend": true,
         "textposition": "auto",
         "type": "bar",
         "x": [
          3542400000
         ],
         "xaxis": "x",
         "y": [
          "SC2_RHU_DRM"
         ],
         "yaxis": "y"
        },
        {
         "alignmentgroup": "True",
         "base": [
          "2023-01-07T00:00:00"
         ],
         "hovertemplate": "Role=AI Lead<br>Start=%{base}<br>End=%{x}<br>Task=%{y}<extra></extra>",
         "legendgroup": "AI Lead",
         "marker": {
          "color": "#00cc96",
          "pattern": {
           "shape": ""
          }
         },
         "name": "AI Lead",
         "offsetgroup": "AI Lead",
         "orientation": "h",
         "showlegend": true,
         "textposition": "auto",
         "type": "bar",
         "x": [
          1036800000
         ],
         "xaxis": "x",
         "y": [
          "L1_RHU_AI Lead"
         ],
         "yaxis": "y"
        },
        {
         "alignmentgroup": "True",
         "base": [
          "2023-01-07T00:00:00"
         ],
         "hovertemplate": "Role=DG Lead<br>Start=%{base}<br>End=%{x}<br>Task=%{y}<extra></extra>",
         "legendgroup": "DG Lead",
         "marker": {
          "color": "#ab63fa",
          "pattern": {
           "shape": ""
          }
         },
         "name": "DG Lead",
         "offsetgroup": "DG Lead",
         "orientation": "h",
         "showlegend": true,
         "textposition": "auto",
         "type": "bar",
         "x": [
          1036800000
         ],
         "xaxis": "x",
         "y": [
          "L1_RHU_DG Lead"
         ],
         "yaxis": "y"
        },
        {
         "alignmentgroup": "True",
         "base": [
          "2023-01-07T00:00:00"
         ],
         "hovertemplate": "Role=DM Lead<br>Start=%{base}<br>End=%{x}<br>Task=%{y}<extra></extra>",
         "legendgroup": "DM Lead",
         "marker": {
          "color": "#FFA15A",
          "pattern": {
           "shape": ""
          }
         },
         "name": "DM Lead",
         "offsetgroup": "DM Lead",
         "orientation": "h",
         "showlegend": true,
         "textposition": "auto",
         "type": "bar",
         "x": [
          1036800000
         ],
         "xaxis": "x",
         "y": [
          "L1_RHU_DM Lead"
         ],
         "yaxis": "y"
        },
        {
         "alignmentgroup": "True",
         "base": [
          "2023-01-19T00:00:00",
          "2023-01-19T00:00:00"
         ],
         "hovertemplate": "Role=DM<br>Start=%{base}<br>End=%{x}<br>Task=%{y}<extra></extra>",
         "legendgroup": "DM",
         "marker": {
          "color": "#19d3f3",
          "pattern": {
           "shape": ""
          }
         },
         "name": "DM",
         "offsetgroup": "DM",
         "orientation": "h",
         "showlegend": true,
         "textposition": "auto",
         "type": "bar",
         "x": [
          1728000000,
          1728000000
         ],
         "xaxis": "x",
         "y": [
          "C1_RHU_DM",
          "C1_AMM_DM"
         ],
         "yaxis": "y"
        },
        {
         "alignmentgroup": "True",
         "base": [
          "2023-01-19T00:00:00"
         ],
         "hovertemplate": "Role=Coordinator<br>Start=%{base}<br>End=%{x}<br>Task=%{y}<extra></extra>",
         "legendgroup": "Coordinator",
         "marker": {
          "color": "#FF6692",
          "pattern": {
           "shape": ""
          }
         },
         "name": "Coordinator",
         "offsetgroup": "Coordinator",
         "orientation": "h",
         "showlegend": true,
         "textposition": "auto",
         "type": "bar",
         "x": [
          1987200000
         ],
         "xaxis": "x",
         "y": [
          "C1_RHU_Coordinator"
         ],
         "yaxis": "y"
        }
       ],
       "layout": {
        "barmode": "overlay",
        "legend": {
         "title": {
          "text": "Role"
         },
         "tracegroupgap": 0
        },
        "margin": {
         "t": 60
        },
        "template": {
         "data": {
          "bar": [
           {
            "error_x": {
             "color": "#2a3f5f"
            },
            "error_y": {
             "color": "#2a3f5f"
            },
            "marker": {
             "line": {
              "color": "#E5ECF6",
              "width": 0.5
             },
             "pattern": {
              "fillmode": "overlay",
              "size": 10,
              "solidity": 0.2
             }
            },
            "type": "bar"
           }
          ],
          "barpolar": [
           {
            "marker": {
             "line": {
              "color": "#E5ECF6",
              "width": 0.5
             },
             "pattern": {
              "fillmode": "overlay",
              "size": 10,
              "solidity": 0.2
             }
            },
            "type": "barpolar"
           }
          ],
          "carpet": [
           {
            "aaxis": {
             "endlinecolor": "#2a3f5f",
             "gridcolor": "white",
             "linecolor": "white",
             "minorgridcolor": "white",
             "startlinecolor": "#2a3f5f"
            },
            "baxis": {
             "endlinecolor": "#2a3f5f",
             "gridcolor": "white",
             "linecolor": "white",
             "minorgridcolor": "white",
             "startlinecolor": "#2a3f5f"
            },
            "type": "carpet"
           }
          ],
          "choropleth": [
           {
            "colorbar": {
             "outlinewidth": 0,
             "ticks": ""
            },
            "type": "choropleth"
           }
          ],
          "contour": [
           {
            "colorbar": {
             "outlinewidth": 0,
             "ticks": ""
            },
            "colorscale": [
             [
              0,
              "#0d0887"
             ],
             [
              0.1111111111111111,
              "#46039f"
             ],
             [
              0.2222222222222222,
              "#7201a8"
             ],
             [
              0.3333333333333333,
              "#9c179e"
             ],
             [
              0.4444444444444444,
              "#bd3786"
             ],
             [
              0.5555555555555556,
              "#d8576b"
             ],
             [
              0.6666666666666666,
              "#ed7953"
             ],
             [
              0.7777777777777778,
              "#fb9f3a"
             ],
             [
              0.8888888888888888,
              "#fdca26"
             ],
             [
              1,
              "#f0f921"
             ]
            ],
            "type": "contour"
           }
          ],
          "contourcarpet": [
           {
            "colorbar": {
             "outlinewidth": 0,
             "ticks": ""
            },
            "type": "contourcarpet"
           }
          ],
          "heatmap": [
           {
            "colorbar": {
             "outlinewidth": 0,
             "ticks": ""
            },
            "colorscale": [
             [
              0,
              "#0d0887"
             ],
             [
              0.1111111111111111,
              "#46039f"
             ],
             [
              0.2222222222222222,
              "#7201a8"
             ],
             [
              0.3333333333333333,
              "#9c179e"
             ],
             [
              0.4444444444444444,
              "#bd3786"
             ],
             [
              0.5555555555555556,
              "#d8576b"
             ],
             [
              0.6666666666666666,
              "#ed7953"
             ],
             [
              0.7777777777777778,
              "#fb9f3a"
             ],
             [
              0.8888888888888888,
              "#fdca26"
             ],
             [
              1,
              "#f0f921"
             ]
            ],
            "type": "heatmap"
           }
          ],
          "heatmapgl": [
           {
            "colorbar": {
             "outlinewidth": 0,
             "ticks": ""
            },
            "colorscale": [
             [
              0,
              "#0d0887"
             ],
             [
              0.1111111111111111,
              "#46039f"
             ],
             [
              0.2222222222222222,
              "#7201a8"
             ],
             [
              0.3333333333333333,
              "#9c179e"
             ],
             [
              0.4444444444444444,
              "#bd3786"
             ],
             [
              0.5555555555555556,
              "#d8576b"
             ],
             [
              0.6666666666666666,
              "#ed7953"
             ],
             [
              0.7777777777777778,
              "#fb9f3a"
             ],
             [
              0.8888888888888888,
              "#fdca26"
             ],
             [
              1,
              "#f0f921"
             ]
            ],
            "type": "heatmapgl"
           }
          ],
          "histogram": [
           {
            "marker": {
             "pattern": {
              "fillmode": "overlay",
              "size": 10,
              "solidity": 0.2
             }
            },
            "type": "histogram"
           }
          ],
          "histogram2d": [
           {
            "colorbar": {
             "outlinewidth": 0,
             "ticks": ""
            },
            "colorscale": [
             [
              0,
              "#0d0887"
             ],
             [
              0.1111111111111111,
              "#46039f"
             ],
             [
              0.2222222222222222,
              "#7201a8"
             ],
             [
              0.3333333333333333,
              "#9c179e"
             ],
             [
              0.4444444444444444,
              "#bd3786"
             ],
             [
              0.5555555555555556,
              "#d8576b"
             ],
             [
              0.6666666666666666,
              "#ed7953"
             ],
             [
              0.7777777777777778,
              "#fb9f3a"
             ],
             [
              0.8888888888888888,
              "#fdca26"
             ],
             [
              1,
              "#f0f921"
             ]
            ],
            "type": "histogram2d"
           }
          ],
          "histogram2dcontour": [
           {
            "colorbar": {
             "outlinewidth": 0,
             "ticks": ""
            },
            "colorscale": [
             [
              0,
              "#0d0887"
             ],
             [
              0.1111111111111111,
              "#46039f"
             ],
             [
              0.2222222222222222,
              "#7201a8"
             ],
             [
              0.3333333333333333,
              "#9c179e"
             ],
             [
              0.4444444444444444,
              "#bd3786"
             ],
             [
              0.5555555555555556,
              "#d8576b"
             ],
             [
              0.6666666666666666,
              "#ed7953"
             ],
             [
              0.7777777777777778,
              "#fb9f3a"
             ],
             [
              0.8888888888888888,
              "#fdca26"
             ],
             [
              1,
              "#f0f921"
             ]
            ],
            "type": "histogram2dcontour"
           }
          ],
          "mesh3d": [
           {
            "colorbar": {
             "outlinewidth": 0,
             "ticks": ""
            },
            "type": "mesh3d"
           }
          ],
          "parcoords": [
           {
            "line": {
             "colorbar": {
              "outlinewidth": 0,
              "ticks": ""
             }
            },
            "type": "parcoords"
           }
          ],
          "pie": [
           {
            "automargin": true,
            "type": "pie"
           }
          ],
          "scatter": [
           {
            "fillpattern": {
             "fillmode": "overlay",
             "size": 10,
             "solidity": 0.2
            },
            "type": "scatter"
           }
          ],
          "scatter3d": [
           {
            "line": {
             "colorbar": {
              "outlinewidth": 0,
              "ticks": ""
             }
            },
            "marker": {
             "colorbar": {
              "outlinewidth": 0,
              "ticks": ""
             }
            },
            "type": "scatter3d"
           }
          ],
          "scattercarpet": [
           {
            "marker": {
             "colorbar": {
              "outlinewidth": 0,
              "ticks": ""
             }
            },
            "type": "scattercarpet"
           }
          ],
          "scattergeo": [
           {
            "marker": {
             "colorbar": {
              "outlinewidth": 0,
              "ticks": ""
             }
            },
            "type": "scattergeo"
           }
          ],
          "scattergl": [
           {
            "marker": {
             "colorbar": {
              "outlinewidth": 0,
              "ticks": ""
             }
            },
            "type": "scattergl"
           }
          ],
          "scattermapbox": [
           {
            "marker": {
             "colorbar": {
              "outlinewidth": 0,
              "ticks": ""
             }
            },
            "type": "scattermapbox"
           }
          ],
          "scatterpolar": [
           {
            "marker": {
             "colorbar": {
              "outlinewidth": 0,
              "ticks": ""
             }
            },
            "type": "scatterpolar"
           }
          ],
          "scatterpolargl": [
           {
            "marker": {
             "colorbar": {
              "outlinewidth": 0,
              "ticks": ""
             }
            },
            "type": "scatterpolargl"
           }
          ],
          "scatterternary": [
           {
            "marker": {
             "colorbar": {
              "outlinewidth": 0,
              "ticks": ""
             }
            },
            "type": "scatterternary"
           }
          ],
          "surface": [
           {
            "colorbar": {
             "outlinewidth": 0,
             "ticks": ""
            },
            "colorscale": [
             [
              0,
              "#0d0887"
             ],
             [
              0.1111111111111111,
              "#46039f"
             ],
             [
              0.2222222222222222,
              "#7201a8"
             ],
             [
              0.3333333333333333,
              "#9c179e"
             ],
             [
              0.4444444444444444,
              "#bd3786"
             ],
             [
              0.5555555555555556,
              "#d8576b"
             ],
             [
              0.6666666666666666,
              "#ed7953"
             ],
             [
              0.7777777777777778,
              "#fb9f3a"
             ],
             [
              0.8888888888888888,
              "#fdca26"
             ],
             [
              1,
              "#f0f921"
             ]
            ],
            "type": "surface"
           }
          ],
          "table": [
           {
            "cells": {
             "fill": {
              "color": "#EBF0F8"
             },
             "line": {
              "color": "white"
             }
            },
            "header": {
             "fill": {
              "color": "#C8D4E3"
             },
             "line": {
              "color": "white"
             }
            },
            "type": "table"
           }
          ]
         },
         "layout": {
          "annotationdefaults": {
           "arrowcolor": "#2a3f5f",
           "arrowhead": 0,
           "arrowwidth": 1
          },
          "autotypenumbers": "strict",
          "coloraxis": {
           "colorbar": {
            "outlinewidth": 0,
            "ticks": ""
           }
          },
          "colorscale": {
           "diverging": [
            [
             0,
             "#8e0152"
            ],
            [
             0.1,
             "#c51b7d"
            ],
            [
             0.2,
             "#de77ae"
            ],
            [
             0.3,
             "#f1b6da"
            ],
            [
             0.4,
             "#fde0ef"
            ],
            [
             0.5,
             "#f7f7f7"
            ],
            [
             0.6,
             "#e6f5d0"
            ],
            [
             0.7,
             "#b8e186"
            ],
            [
             0.8,
             "#7fbc41"
            ],
            [
             0.9,
             "#4d9221"
            ],
            [
             1,
             "#276419"
            ]
           ],
           "sequential": [
            [
             0,
             "#0d0887"
            ],
            [
             0.1111111111111111,
             "#46039f"
            ],
            [
             0.2222222222222222,
             "#7201a8"
            ],
            [
             0.3333333333333333,
             "#9c179e"
            ],
            [
             0.4444444444444444,
             "#bd3786"
            ],
            [
             0.5555555555555556,
             "#d8576b"
            ],
            [
             0.6666666666666666,
             "#ed7953"
            ],
            [
             0.7777777777777778,
             "#fb9f3a"
            ],
            [
             0.8888888888888888,
             "#fdca26"
            ],
            [
             1,
             "#f0f921"
            ]
           ],
           "sequentialminus": [
            [
             0,
             "#0d0887"
            ],
            [
             0.1111111111111111,
             "#46039f"
            ],
            [
             0.2222222222222222,
             "#7201a8"
            ],
            [
             0.3333333333333333,
             "#9c179e"
            ],
            [
             0.4444444444444444,
             "#bd3786"
            ],
            [
             0.5555555555555556,
             "#d8576b"
            ],
            [
             0.6666666666666666,
             "#ed7953"
            ],
            [
             0.7777777777777778,
             "#fb9f3a"
            ],
            [
             0.8888888888888888,
             "#fdca26"
            ],
            [
             1,
             "#f0f921"
            ]
           ]
          },
          "colorway": [
           "#636efa",
           "#EF553B",
           "#00cc96",
           "#ab63fa",
           "#FFA15A",
           "#19d3f3",
           "#FF6692",
           "#B6E880",
           "#FF97FF",
           "#FECB52"
          ],
          "font": {
           "color": "#2a3f5f"
          },
          "geo": {
           "bgcolor": "white",
           "lakecolor": "white",
           "landcolor": "#E5ECF6",
           "showlakes": true,
           "showland": true,
           "subunitcolor": "white"
          },
          "hoverlabel": {
           "align": "left"
          },
          "hovermode": "closest",
          "mapbox": {
           "style": "light"
          },
          "paper_bgcolor": "white",
          "plot_bgcolor": "#E5ECF6",
          "polar": {
           "angularaxis": {
            "gridcolor": "white",
            "linecolor": "white",
            "ticks": ""
           },
           "bgcolor": "#E5ECF6",
           "radialaxis": {
            "gridcolor": "white",
            "linecolor": "white",
            "ticks": ""
           }
          },
          "scene": {
           "xaxis": {
            "backgroundcolor": "#E5ECF6",
            "gridcolor": "white",
            "gridwidth": 2,
            "linecolor": "white",
            "showbackground": true,
            "ticks": "",
            "zerolinecolor": "white"
           },
           "yaxis": {
            "backgroundcolor": "#E5ECF6",
            "gridcolor": "white",
            "gridwidth": 2,
            "linecolor": "white",
            "showbackground": true,
            "ticks": "",
            "zerolinecolor": "white"
           },
           "zaxis": {
            "backgroundcolor": "#E5ECF6",
            "gridcolor": "white",
            "gridwidth": 2,
            "linecolor": "white",
            "showbackground": true,
            "ticks": "",
            "zerolinecolor": "white"
           }
          },
          "shapedefaults": {
           "line": {
            "color": "#2a3f5f"
           }
          },
          "ternary": {
           "aaxis": {
            "gridcolor": "white",
            "linecolor": "white",
            "ticks": ""
           },
           "baxis": {
            "gridcolor": "white",
            "linecolor": "white",
            "ticks": ""
           },
           "bgcolor": "#E5ECF6",
           "caxis": {
            "gridcolor": "white",
            "linecolor": "white",
            "ticks": ""
           }
          },
          "title": {
           "x": 0.05
          },
          "xaxis": {
           "automargin": true,
           "gridcolor": "white",
           "linecolor": "white",
           "ticks": "",
           "title": {
            "standoff": 15
           },
           "zerolinecolor": "white",
           "zerolinewidth": 2
          },
          "yaxis": {
           "automargin": true,
           "gridcolor": "white",
           "linecolor": "white",
           "ticks": "",
           "title": {
            "standoff": 15
           },
           "zerolinecolor": "white",
           "zerolinewidth": 2
          }
         }
        },
        "xaxis": {
         "anchor": "y",
         "domain": [
          0,
          1
         ],
         "type": "date"
        },
        "yaxis": {
         "anchor": "x",
         "autorange": "reversed",
         "domain": [
          0,
          1
         ],
         "title": {
          "text": "Task"
         }
        }
       }
      }
     },
     "metadata": {},
     "output_type": "display_data"
    }
   ],
   "source": [
    "pd_1=utils.convert_to_pd(pipeline_tasks)\n",
    "utils.plot_gantt_chart(pd_1)"
   ]
  },
  {
   "cell_type": "code",
   "execution_count": 7,
   "id": "cf9d6e4b",
   "metadata": {},
   "outputs": [],
   "source": [
    "ongoing_tasks=utils.resource_tasks(RESOURCES)\n",
    "pipeline_tasks=utils.add_pipeline_type(pipeline_tasks)\n",
    "TASKS=utils.merge_ongoing_pipeline(pipeline_tasks,ongoing_tasks)\n",
    "\n",
    "all_tasks_overlap_tuples=utils.get_over_lap_tasks(TASKS)\n",
    "all_task_overlap=utils.task_overlap_combination(all_tasks_overlap_tuples)"
   ]
  },
  {
   "cell_type": "code",
   "execution_count": 8,
   "id": "1dbbc7cc",
   "metadata": {},
   "outputs": [],
   "source": [
    "pipline_constraints,resource_constraints=utils.constraints_uf(all_task_overlap,TASKS)"
   ]
  },
  {
   "cell_type": "code",
   "execution_count": 9,
   "id": "fc00dca5",
   "metadata": {},
   "outputs": [],
   "source": [
    "new_resource_constraint=utils.reformulate_resource_constraints(resource_constraints,TASKS)"
   ]
  },
  {
   "cell_type": "code",
   "execution_count": 10,
   "id": "c82f5863",
   "metadata": {},
   "outputs": [
    {
     "data": {
      "text/plain": [
       "dict_keys(['Mohamed Hatab', 'Gayda Mtuhar', 'Ibrahim Kareem', 'Amr Ramadan', 'Akram'])"
      ]
     },
     "execution_count": 10,
     "metadata": {},
     "output_type": "execute_result"
    }
   ],
   "source": [
    "new_resource_constraint.keys()"
   ]
  },
  {
   "cell_type": "code",
   "execution_count": 11,
   "id": "4ccdf07c",
   "metadata": {},
   "outputs": [
    {
     "name": "stdout",
     "output_type": "stream",
     "text": [
      "{'STC': ['P1_RHU_BDM', 'SC2_RHU_DRM', 'L1_RHU_AI Lead', 'L1_RHU_DG Lead', 'L1_RHU_DM Lead', 'C1_RHU_DM', 'C1_AMM_DM', 'C1_RHU_Coordinator']}\n",
      "\n",
      "\n",
      "{'P1_RHU_BDM': ['STC'], 'SC2_RHU_DRM': ['STC'], 'L1_RHU_AI Lead': ['STC'], 'L1_RHU_DG Lead': ['STC'], 'L1_RHU_DM Lead': ['STC'], 'C1_RHU_DM': ['STC'], 'C1_AMM_DM': ['STC'], 'C1_RHU_Coordinator': ['STC']}\n"
     ]
    }
   ],
   "source": [
    "pipeline_project_tasks={}\n",
    "for p,t in pipeline_tasks.keys():\n",
    "    list_1=pipeline_project_tasks.get(p,[])\n",
    "    list_1.append(t)\n",
    "    pipeline_project_tasks[p]=list_1\n",
    "print(pipeline_project_tasks)\n",
    "print(\"\\n\")\n",
    "\n",
    "pipeline_task_projects={}\n",
    "for p,t in pipeline_tasks.keys():\n",
    "    list_1=pipeline_project_tasks.get(t,[])\n",
    "    list_1.append(p)\n",
    "    pipeline_task_projects[t]=list_1\n",
    "print(pipeline_task_projects)"
   ]
  },
  {
   "cell_type": "code",
   "execution_count": 12,
   "id": "3178cc94",
   "metadata": {},
   "outputs": [
    {
     "name": "stdout",
     "output_type": "stream",
     "text": [
      "\n",
      "\n",
      "WARNING: DEPRECATED: The 'value_list' attribute is deprecated.  Use\n",
      "    .ordered_data() to retrieve the values from a finite set in a\n",
      "    deterministic order.  (deprecated in 5.7) (called from\n",
      "    c:\\jupyter\\Anaconda3\\envs\\mo\\lib\\site-\n",
      "    packages\\IPython\\core\\interactiveshell.py:3398)\n",
      "[('STC', 'P1_RHU_BDM', 'Saleh Samaneh'), ('STC', 'P1_RHU_BDM', 'Mohamed Hatab'), ('STC', 'P1_RHU_BDM', 'Mohamed Qasim'), ('STC', 'P1_RHU_BDM', 'Amr Mansour'), ('STC', 'P1_RHU_BDM', 'Gayda Mtuhar'), ('STC', 'P1_RHU_BDM', 'Ahmad Cheble'), ('STC', 'P1_RHU_BDM', 'Mohamed Abo Saad'), ('STC', 'P1_RHU_BDM', 'Ibrahim Kareem'), ('STC', 'P1_RHU_BDM', 'Hawraa'), ('STC', 'P1_RHU_BDM', 'Waleed Abaas'), ('STC', 'P1_RHU_BDM', 'Amr Ramadan'), ('STC', 'P1_RHU_BDM', 'Akram'), ('STC', 'P1_RHU_BDM', 'Mohamed unassigned'), ('STC', 'SC2_RHU_DRM', 'Saleh Samaneh'), ('STC', 'SC2_RHU_DRM', 'Mohamed Hatab'), ('STC', 'SC2_RHU_DRM', 'Mohamed Qasim'), ('STC', 'SC2_RHU_DRM', 'Amr Mansour'), ('STC', 'SC2_RHU_DRM', 'Gayda Mtuhar'), ('STC', 'SC2_RHU_DRM', 'Ahmad Cheble'), ('STC', 'SC2_RHU_DRM', 'Mohamed Abo Saad'), ('STC', 'SC2_RHU_DRM', 'Ibrahim Kareem'), ('STC', 'SC2_RHU_DRM', 'Hawraa'), ('STC', 'SC2_RHU_DRM', 'Waleed Abaas'), ('STC', 'SC2_RHU_DRM', 'Amr Ramadan'), ('STC', 'SC2_RHU_DRM', 'Akram'), ('STC', 'SC2_RHU_DRM', 'Mohamed unassigned'), ('STC', 'L1_RHU_AI Lead', 'Saleh Samaneh'), ('STC', 'L1_RHU_AI Lead', 'Mohamed Hatab'), ('STC', 'L1_RHU_AI Lead', 'Mohamed Qasim'), ('STC', 'L1_RHU_AI Lead', 'Amr Mansour'), ('STC', 'L1_RHU_AI Lead', 'Gayda Mtuhar'), ('STC', 'L1_RHU_AI Lead', 'Ahmad Cheble'), ('STC', 'L1_RHU_AI Lead', 'Mohamed Abo Saad'), ('STC', 'L1_RHU_AI Lead', 'Ibrahim Kareem'), ('STC', 'L1_RHU_AI Lead', 'Hawraa'), ('STC', 'L1_RHU_AI Lead', 'Waleed Abaas'), ('STC', 'L1_RHU_AI Lead', 'Amr Ramadan'), ('STC', 'L1_RHU_AI Lead', 'Akram'), ('STC', 'L1_RHU_AI Lead', 'Mohamed unassigned'), ('STC', 'L1_RHU_DG Lead', 'Saleh Samaneh'), ('STC', 'L1_RHU_DG Lead', 'Mohamed Hatab'), ('STC', 'L1_RHU_DG Lead', 'Mohamed Qasim'), ('STC', 'L1_RHU_DG Lead', 'Amr Mansour'), ('STC', 'L1_RHU_DG Lead', 'Gayda Mtuhar'), ('STC', 'L1_RHU_DG Lead', 'Ahmad Cheble'), ('STC', 'L1_RHU_DG Lead', 'Mohamed Abo Saad'), ('STC', 'L1_RHU_DG Lead', 'Ibrahim Kareem'), ('STC', 'L1_RHU_DG Lead', 'Hawraa'), ('STC', 'L1_RHU_DG Lead', 'Waleed Abaas'), ('STC', 'L1_RHU_DG Lead', 'Amr Ramadan'), ('STC', 'L1_RHU_DG Lead', 'Akram'), ('STC', 'L1_RHU_DG Lead', 'Mohamed unassigned'), ('STC', 'L1_RHU_DM Lead', 'Saleh Samaneh'), ('STC', 'L1_RHU_DM Lead', 'Mohamed Hatab'), ('STC', 'L1_RHU_DM Lead', 'Mohamed Qasim'), ('STC', 'L1_RHU_DM Lead', 'Amr Mansour'), ('STC', 'L1_RHU_DM Lead', 'Gayda Mtuhar'), ('STC', 'L1_RHU_DM Lead', 'Ahmad Cheble'), ('STC', 'L1_RHU_DM Lead', 'Mohamed Abo Saad'), ('STC', 'L1_RHU_DM Lead', 'Ibrahim Kareem'), ('STC', 'L1_RHU_DM Lead', 'Hawraa'), ('STC', 'L1_RHU_DM Lead', 'Waleed Abaas'), ('STC', 'L1_RHU_DM Lead', 'Amr Ramadan'), ('STC', 'L1_RHU_DM Lead', 'Akram'), ('STC', 'L1_RHU_DM Lead', 'Mohamed unassigned'), ('STC', 'C1_RHU_DM', 'Saleh Samaneh'), ('STC', 'C1_RHU_DM', 'Mohamed Hatab'), ('STC', 'C1_RHU_DM', 'Mohamed Qasim'), ('STC', 'C1_RHU_DM', 'Amr Mansour'), ('STC', 'C1_RHU_DM', 'Gayda Mtuhar'), ('STC', 'C1_RHU_DM', 'Ahmad Cheble'), ('STC', 'C1_RHU_DM', 'Mohamed Abo Saad'), ('STC', 'C1_RHU_DM', 'Ibrahim Kareem'), ('STC', 'C1_RHU_DM', 'Hawraa'), ('STC', 'C1_RHU_DM', 'Waleed Abaas'), ('STC', 'C1_RHU_DM', 'Amr Ramadan'), ('STC', 'C1_RHU_DM', 'Akram'), ('STC', 'C1_RHU_DM', 'Mohamed unassigned'), ('STC', 'C1_AMM_DM', 'Saleh Samaneh'), ('STC', 'C1_AMM_DM', 'Mohamed Hatab'), ('STC', 'C1_AMM_DM', 'Mohamed Qasim'), ('STC', 'C1_AMM_DM', 'Amr Mansour'), ('STC', 'C1_AMM_DM', 'Gayda Mtuhar'), ('STC', 'C1_AMM_DM', 'Ahmad Cheble'), ('STC', 'C1_AMM_DM', 'Mohamed Abo Saad'), ('STC', 'C1_AMM_DM', 'Ibrahim Kareem'), ('STC', 'C1_AMM_DM', 'Hawraa'), ('STC', 'C1_AMM_DM', 'Waleed Abaas'), ('STC', 'C1_AMM_DM', 'Amr Ramadan'), ('STC', 'C1_AMM_DM', 'Akram'), ('STC', 'C1_AMM_DM', 'Mohamed unassigned'), ('STC', 'C1_RHU_Coordinator', 'Saleh Samaneh'), ('STC', 'C1_RHU_Coordinator', 'Mohamed Hatab'), ('STC', 'C1_RHU_Coordinator', 'Mohamed Qasim'), ('STC', 'C1_RHU_Coordinator', 'Amr Mansour'), ('STC', 'C1_RHU_Coordinator', 'Gayda Mtuhar'), ('STC', 'C1_RHU_Coordinator', 'Ahmad Cheble'), ('STC', 'C1_RHU_Coordinator', 'Mohamed Abo Saad'), ('STC', 'C1_RHU_Coordinator', 'Ibrahim Kareem'), ('STC', 'C1_RHU_Coordinator', 'Hawraa'), ('STC', 'C1_RHU_Coordinator', 'Waleed Abaas'), ('STC', 'C1_RHU_Coordinator', 'Amr Ramadan'), ('STC', 'C1_RHU_Coordinator', 'Akram'), ('STC', 'C1_RHU_Coordinator', 'Mohamed unassigned')]\n"
     ]
    }
   ],
   "source": [
    "model = ConcreteModel()\n",
    "model.pipeline_tasks = Set(initialize = pipeline_tasks.keys(), dimen=2)\n",
    "model.pipeline_taskids_only=Set(initialize=list(map(lambda x : x[1],pipeline_tasks.keys())),dimen=1)\n",
    "\n",
    "model.pipeline_projects = Set(initialize = list(set([j for (j,m) in model.pipeline_tasks])))\n",
    "\n",
    "model.RESOURCES =  Set(initialize = RESOURCES.keys(), dimen=1)\n",
    "\n",
    "model.Resource_assignment=Set(initialize=model.pipeline_tasks * model.RESOURCES, dimen=3)\n",
    "\n",
    "# model.Resource_assignment_proper=     Set(\n",
    "#         initialize=model.pipeline_tasks * model.RESOURCES, dimen=3 ,\n",
    "#        filter = lambda model,p,t,r : TASKS[(p,t)]['skillset'] in RESOURCES[r]['skillset']\n",
    "#                 )\n",
    "print(\"\\n\")\n",
    "print(model.Resource_assignment.value_list)"
   ]
  },
  {
   "cell_type": "code",
   "execution_count": 13,
   "id": "6cc357c4",
   "metadata": {},
   "outputs": [],
   "source": [
    "model.prt_improper_var=Var(model.Resource_assignment,within=Binary, initialize=0)\n",
    "\n",
    "model.ra_var=Var(model.RESOURCES,within=NonNegativeReals, initialize=0)\n",
    "\n",
    "\n",
    "model.ta_var=Var(model.pipeline_taskids_only,within=Binary, initialize=0)"
   ]
  },
  {
   "cell_type": "code",
   "execution_count": 14,
   "id": "a7cbb548",
   "metadata": {},
   "outputs": [
    {
     "data": {
      "text/plain": [
       "{'STC': ['P1_RHU_BDM',\n",
       "  'SC2_RHU_DRM',\n",
       "  'L1_RHU_AI Lead',\n",
       "  'L1_RHU_DG Lead',\n",
       "  'L1_RHU_DM Lead',\n",
       "  'C1_RHU_DM',\n",
       "  'C1_AMM_DM',\n",
       "  'C1_RHU_Coordinator']}"
      ]
     },
     "execution_count": 14,
     "metadata": {},
     "output_type": "execute_result"
    }
   ],
   "source": [
    "pipeline_project_tasks"
   ]
  },
  {
   "cell_type": "code",
   "execution_count": 15,
   "id": "e91e4b77",
   "metadata": {},
   "outputs": [],
   "source": [
    "#CONSTRAINT FOR MAPPING TWO vars together (resources & Resource assignment)\n",
    "\n",
    "model.cons = ConstraintList()\n",
    "for resource in model.RESOURCES :\n",
    "#     print(resource)\n",
    "    model.cons.add(\n",
    "    sum(model.prt_improper_var[p,t,resource] for p in model.pipeline_projects for t in pipeline_project_tasks[p]  ) ==\n",
    "    model.ra_var[resource] \n",
    "    )\n",
    "\n",
    "for task in model.pipeline_taskids_only:\n",
    "    model.cons.add(\n",
    "    sum(model.prt_improper_var[p,task,r] for p in pipeline_task_projects[task] for r in model.RESOURCES  ) ==\n",
    "    model.ta_var[task] \n",
    "    )"
   ]
  },
  {
   "cell_type": "code",
   "execution_count": 16,
   "id": "3dd99083",
   "metadata": {},
   "outputs": [],
   "source": [
    "#Any given task should have one or zero assignment\n",
    "for t in model.pipeline_taskids_only:  \n",
    "        model.cons.add(\n",
    "                1 >= sum(  model.prt_improper_var[p,t,r] \n",
    "                         for r in model.RESOURCES \n",
    "                         for p in pipeline_task_projects[t])\n",
    "            )"
   ]
  },
  {
   "cell_type": "code",
   "execution_count": 17,
   "id": "ad248853",
   "metadata": {},
   "outputs": [
    {
     "data": {
      "text/plain": [
       "{'Mohamed Hatab': [[('STC', 'P1_RHU_BDM'), ('HRSD', 'HRSD_2')],\n",
       "  [('STC', 'SC2_RHU_DRM'), ('HRSD', 'HRSD_2')],\n",
       "  [('STC', 'L1_RHU_AI Lead'), ('HRSD', 'HRSD_2')],\n",
       "  [('STC', 'L1_RHU_DG Lead'), ('HRSD', 'HRSD_2')],\n",
       "  [('STC', 'L1_RHU_DM Lead'), ('HRSD', 'HRSD_2')],\n",
       "  [('STC', 'C1_RHU_DM'), ('HRSD', 'HRSD_2')],\n",
       "  [('STC', 'C1_AMM_DM'), ('HRSD', 'HRSD_2')],\n",
       "  [('STC', 'C1_RHU_Coordinator'), ('HRSD', 'HRSD_2')],\n",
       "  [('STC', 'P1_RHU_BDM'), ('STC', 'SC2_RHU_DRM'), ('HRSD', 'HRSD_2')],\n",
       "  [('STC', 'P1_RHU_BDM'), ('STC', 'L1_RHU_AI Lead'), ('HRSD', 'HRSD_2')],\n",
       "  [('STC', 'P1_RHU_BDM'), ('STC', 'L1_RHU_DG Lead'), ('HRSD', 'HRSD_2')],\n",
       "  [('STC', 'P1_RHU_BDM'), ('STC', 'L1_RHU_DM Lead'), ('HRSD', 'HRSD_2')],\n",
       "  [('STC', 'P1_RHU_BDM'), ('STC', 'C1_RHU_DM'), ('HRSD', 'HRSD_2')],\n",
       "  [('STC', 'P1_RHU_BDM'), ('STC', 'C1_AMM_DM'), ('HRSD', 'HRSD_2')],\n",
       "  [('STC', 'P1_RHU_BDM'), ('STC', 'C1_RHU_Coordinator'), ('HRSD', 'HRSD_2')],\n",
       "  [('STC', 'SC2_RHU_DRM'), ('STC', 'L1_RHU_AI Lead'), ('HRSD', 'HRSD_2')],\n",
       "  [('STC', 'SC2_RHU_DRM'), ('STC', 'L1_RHU_DG Lead'), ('HRSD', 'HRSD_2')],\n",
       "  [('STC', 'SC2_RHU_DRM'), ('STC', 'L1_RHU_DM Lead'), ('HRSD', 'HRSD_2')],\n",
       "  [('STC', 'SC2_RHU_DRM'), ('STC', 'C1_RHU_DM'), ('HRSD', 'HRSD_2')],\n",
       "  [('STC', 'SC2_RHU_DRM'), ('STC', 'C1_AMM_DM'), ('HRSD', 'HRSD_2')],\n",
       "  [('STC', 'SC2_RHU_DRM'), ('STC', 'C1_RHU_Coordinator'), ('HRSD', 'HRSD_2')],\n",
       "  [('STC', 'L1_RHU_AI Lead'), ('STC', 'L1_RHU_DG Lead'), ('HRSD', 'HRSD_2')],\n",
       "  [('STC', 'L1_RHU_AI Lead'), ('STC', 'L1_RHU_DM Lead'), ('HRSD', 'HRSD_2')],\n",
       "  [('STC', 'L1_RHU_DG Lead'), ('STC', 'L1_RHU_DM Lead'), ('HRSD', 'HRSD_2')],\n",
       "  [('STC', 'C1_RHU_DM'), ('STC', 'C1_AMM_DM'), ('HRSD', 'HRSD_2')],\n",
       "  [('STC', 'C1_RHU_DM'), ('STC', 'C1_RHU_Coordinator'), ('HRSD', 'HRSD_2')],\n",
       "  [('STC', 'C1_AMM_DM'), ('STC', 'C1_RHU_Coordinator'), ('HRSD', 'HRSD_2')],\n",
       "  [('STC', 'P1_RHU_BDM'),\n",
       "   ('STC', 'SC2_RHU_DRM'),\n",
       "   ('STC', 'L1_RHU_AI Lead'),\n",
       "   ('HRSD', 'HRSD_2')],\n",
       "  [('STC', 'P1_RHU_BDM'),\n",
       "   ('STC', 'SC2_RHU_DRM'),\n",
       "   ('STC', 'L1_RHU_DG Lead'),\n",
       "   ('HRSD', 'HRSD_2')],\n",
       "  [('STC', 'P1_RHU_BDM'),\n",
       "   ('STC', 'SC2_RHU_DRM'),\n",
       "   ('STC', 'L1_RHU_DM Lead'),\n",
       "   ('HRSD', 'HRSD_2')],\n",
       "  [('STC', 'P1_RHU_BDM'),\n",
       "   ('STC', 'SC2_RHU_DRM'),\n",
       "   ('STC', 'C1_RHU_DM'),\n",
       "   ('HRSD', 'HRSD_2')],\n",
       "  [('STC', 'P1_RHU_BDM'),\n",
       "   ('STC', 'SC2_RHU_DRM'),\n",
       "   ('STC', 'C1_AMM_DM'),\n",
       "   ('HRSD', 'HRSD_2')],\n",
       "  [('STC', 'P1_RHU_BDM'),\n",
       "   ('STC', 'SC2_RHU_DRM'),\n",
       "   ('STC', 'C1_RHU_Coordinator'),\n",
       "   ('HRSD', 'HRSD_2')],\n",
       "  [('STC', 'P1_RHU_BDM'),\n",
       "   ('STC', 'L1_RHU_AI Lead'),\n",
       "   ('STC', 'L1_RHU_DG Lead'),\n",
       "   ('HRSD', 'HRSD_2')],\n",
       "  [('STC', 'P1_RHU_BDM'),\n",
       "   ('STC', 'L1_RHU_AI Lead'),\n",
       "   ('STC', 'L1_RHU_DM Lead'),\n",
       "   ('HRSD', 'HRSD_2')],\n",
       "  [('STC', 'P1_RHU_BDM'),\n",
       "   ('STC', 'L1_RHU_DG Lead'),\n",
       "   ('STC', 'L1_RHU_DM Lead'),\n",
       "   ('HRSD', 'HRSD_2')],\n",
       "  [('STC', 'P1_RHU_BDM'),\n",
       "   ('STC', 'C1_RHU_DM'),\n",
       "   ('STC', 'C1_AMM_DM'),\n",
       "   ('HRSD', 'HRSD_2')],\n",
       "  [('STC', 'P1_RHU_BDM'),\n",
       "   ('STC', 'C1_RHU_DM'),\n",
       "   ('STC', 'C1_RHU_Coordinator'),\n",
       "   ('HRSD', 'HRSD_2')],\n",
       "  [('STC', 'P1_RHU_BDM'),\n",
       "   ('STC', 'C1_AMM_DM'),\n",
       "   ('STC', 'C1_RHU_Coordinator'),\n",
       "   ('HRSD', 'HRSD_2')],\n",
       "  [('STC', 'SC2_RHU_DRM'),\n",
       "   ('STC', 'L1_RHU_AI Lead'),\n",
       "   ('STC', 'L1_RHU_DG Lead'),\n",
       "   ('HRSD', 'HRSD_2')],\n",
       "  [('STC', 'SC2_RHU_DRM'),\n",
       "   ('STC', 'L1_RHU_AI Lead'),\n",
       "   ('STC', 'L1_RHU_DM Lead'),\n",
       "   ('HRSD', 'HRSD_2')],\n",
       "  [('STC', 'SC2_RHU_DRM'),\n",
       "   ('STC', 'L1_RHU_DG Lead'),\n",
       "   ('STC', 'L1_RHU_DM Lead'),\n",
       "   ('HRSD', 'HRSD_2')],\n",
       "  [('STC', 'SC2_RHU_DRM'),\n",
       "   ('STC', 'C1_RHU_DM'),\n",
       "   ('STC', 'C1_AMM_DM'),\n",
       "   ('HRSD', 'HRSD_2')],\n",
       "  [('STC', 'SC2_RHU_DRM'),\n",
       "   ('STC', 'C1_RHU_DM'),\n",
       "   ('STC', 'C1_RHU_Coordinator'),\n",
       "   ('HRSD', 'HRSD_2')],\n",
       "  [('STC', 'SC2_RHU_DRM'),\n",
       "   ('STC', 'C1_AMM_DM'),\n",
       "   ('STC', 'C1_RHU_Coordinator'),\n",
       "   ('HRSD', 'HRSD_2')],\n",
       "  [('STC', 'L1_RHU_AI Lead'),\n",
       "   ('STC', 'L1_RHU_DG Lead'),\n",
       "   ('STC', 'L1_RHU_DM Lead'),\n",
       "   ('HRSD', 'HRSD_2')],\n",
       "  [('STC', 'C1_RHU_DM'),\n",
       "   ('STC', 'C1_AMM_DM'),\n",
       "   ('STC', 'C1_RHU_Coordinator'),\n",
       "   ('HRSD', 'HRSD_2')],\n",
       "  [('STC', 'P1_RHU_BDM'),\n",
       "   ('STC', 'SC2_RHU_DRM'),\n",
       "   ('STC', 'L1_RHU_AI Lead'),\n",
       "   ('STC', 'L1_RHU_DG Lead'),\n",
       "   ('HRSD', 'HRSD_2')],\n",
       "  [('STC', 'P1_RHU_BDM'),\n",
       "   ('STC', 'SC2_RHU_DRM'),\n",
       "   ('STC', 'L1_RHU_AI Lead'),\n",
       "   ('STC', 'L1_RHU_DM Lead'),\n",
       "   ('HRSD', 'HRSD_2')],\n",
       "  [('STC', 'P1_RHU_BDM'),\n",
       "   ('STC', 'SC2_RHU_DRM'),\n",
       "   ('STC', 'L1_RHU_DG Lead'),\n",
       "   ('STC', 'L1_RHU_DM Lead'),\n",
       "   ('HRSD', 'HRSD_2')],\n",
       "  [('STC', 'P1_RHU_BDM'),\n",
       "   ('STC', 'SC2_RHU_DRM'),\n",
       "   ('STC', 'C1_RHU_DM'),\n",
       "   ('STC', 'C1_AMM_DM'),\n",
       "   ('HRSD', 'HRSD_2')],\n",
       "  [('STC', 'P1_RHU_BDM'),\n",
       "   ('STC', 'SC2_RHU_DRM'),\n",
       "   ('STC', 'C1_RHU_DM'),\n",
       "   ('STC', 'C1_RHU_Coordinator'),\n",
       "   ('HRSD', 'HRSD_2')],\n",
       "  [('STC', 'P1_RHU_BDM'),\n",
       "   ('STC', 'SC2_RHU_DRM'),\n",
       "   ('STC', 'C1_AMM_DM'),\n",
       "   ('STC', 'C1_RHU_Coordinator'),\n",
       "   ('HRSD', 'HRSD_2')],\n",
       "  [('STC', 'P1_RHU_BDM'),\n",
       "   ('STC', 'L1_RHU_AI Lead'),\n",
       "   ('STC', 'L1_RHU_DG Lead'),\n",
       "   ('STC', 'L1_RHU_DM Lead'),\n",
       "   ('HRSD', 'HRSD_2')],\n",
       "  [('STC', 'P1_RHU_BDM'),\n",
       "   ('STC', 'C1_RHU_DM'),\n",
       "   ('STC', 'C1_AMM_DM'),\n",
       "   ('STC', 'C1_RHU_Coordinator'),\n",
       "   ('HRSD', 'HRSD_2')],\n",
       "  [('STC', 'SC2_RHU_DRM'),\n",
       "   ('STC', 'L1_RHU_AI Lead'),\n",
       "   ('STC', 'L1_RHU_DG Lead'),\n",
       "   ('STC', 'L1_RHU_DM Lead'),\n",
       "   ('HRSD', 'HRSD_2')],\n",
       "  [('STC', 'SC2_RHU_DRM'),\n",
       "   ('STC', 'C1_RHU_DM'),\n",
       "   ('STC', 'C1_AMM_DM'),\n",
       "   ('STC', 'C1_RHU_Coordinator'),\n",
       "   ('HRSD', 'HRSD_2')],\n",
       "  [('STC', 'P1_RHU_BDM'),\n",
       "   ('STC', 'SC2_RHU_DRM'),\n",
       "   ('STC', 'L1_RHU_AI Lead'),\n",
       "   ('STC', 'L1_RHU_DG Lead'),\n",
       "   ('STC', 'L1_RHU_DM Lead'),\n",
       "   ('HRSD', 'HRSD_2')],\n",
       "  [('STC', 'P1_RHU_BDM'),\n",
       "   ('STC', 'SC2_RHU_DRM'),\n",
       "   ('STC', 'C1_RHU_DM'),\n",
       "   ('STC', 'C1_AMM_DM'),\n",
       "   ('STC', 'C1_RHU_Coordinator'),\n",
       "   ('HRSD', 'HRSD_2')]],\n",
       " 'Gayda Mtuhar': [[('STC', 'P1_RHU_BDM'), ('SWCC', 'SWCC_6')],\n",
       "  [('STC', 'SC2_RHU_DRM'), ('SWCC', 'SWCC_6')],\n",
       "  [('STC', 'L1_RHU_AI Lead'), ('SWCC', 'SWCC_6')],\n",
       "  [('STC', 'L1_RHU_DG Lead'), ('SWCC', 'SWCC_6')],\n",
       "  [('STC', 'L1_RHU_DM Lead'), ('SWCC', 'SWCC_6')],\n",
       "  [('STC', 'C1_RHU_DM'), ('SWCC', 'SWCC_6')],\n",
       "  [('STC', 'C1_AMM_DM'), ('SWCC', 'SWCC_6')],\n",
       "  [('STC', 'C1_RHU_Coordinator'), ('SWCC', 'SWCC_6')],\n",
       "  [('STC', 'P1_RHU_BDM'), ('STC', 'SC2_RHU_DRM'), ('SWCC', 'SWCC_6')],\n",
       "  [('STC', 'P1_RHU_BDM'), ('STC', 'L1_RHU_AI Lead'), ('SWCC', 'SWCC_6')],\n",
       "  [('STC', 'P1_RHU_BDM'), ('STC', 'L1_RHU_DG Lead'), ('SWCC', 'SWCC_6')],\n",
       "  [('STC', 'P1_RHU_BDM'), ('STC', 'L1_RHU_DM Lead'), ('SWCC', 'SWCC_6')],\n",
       "  [('STC', 'P1_RHU_BDM'), ('STC', 'C1_RHU_DM'), ('SWCC', 'SWCC_6')],\n",
       "  [('STC', 'P1_RHU_BDM'), ('STC', 'C1_AMM_DM'), ('SWCC', 'SWCC_6')],\n",
       "  [('STC', 'P1_RHU_BDM'), ('STC', 'C1_RHU_Coordinator'), ('SWCC', 'SWCC_6')],\n",
       "  [('STC', 'SC2_RHU_DRM'), ('STC', 'L1_RHU_AI Lead'), ('SWCC', 'SWCC_6')],\n",
       "  [('STC', 'SC2_RHU_DRM'), ('STC', 'L1_RHU_DG Lead'), ('SWCC', 'SWCC_6')],\n",
       "  [('STC', 'SC2_RHU_DRM'), ('STC', 'L1_RHU_DM Lead'), ('SWCC', 'SWCC_6')],\n",
       "  [('STC', 'SC2_RHU_DRM'), ('STC', 'C1_RHU_DM'), ('SWCC', 'SWCC_6')],\n",
       "  [('STC', 'SC2_RHU_DRM'), ('STC', 'C1_AMM_DM'), ('SWCC', 'SWCC_6')],\n",
       "  [('STC', 'SC2_RHU_DRM'), ('STC', 'C1_RHU_Coordinator'), ('SWCC', 'SWCC_6')],\n",
       "  [('STC', 'L1_RHU_AI Lead'), ('STC', 'L1_RHU_DG Lead'), ('SWCC', 'SWCC_6')],\n",
       "  [('STC', 'L1_RHU_AI Lead'), ('STC', 'L1_RHU_DM Lead'), ('SWCC', 'SWCC_6')],\n",
       "  [('STC', 'L1_RHU_DG Lead'), ('STC', 'L1_RHU_DM Lead'), ('SWCC', 'SWCC_6')],\n",
       "  [('STC', 'C1_RHU_DM'), ('STC', 'C1_AMM_DM'), ('SWCC', 'SWCC_6')],\n",
       "  [('STC', 'C1_RHU_DM'), ('STC', 'C1_RHU_Coordinator'), ('SWCC', 'SWCC_6')],\n",
       "  [('STC', 'C1_AMM_DM'), ('STC', 'C1_RHU_Coordinator'), ('SWCC', 'SWCC_6')],\n",
       "  [('STC', 'P1_RHU_BDM'),\n",
       "   ('STC', 'SC2_RHU_DRM'),\n",
       "   ('STC', 'L1_RHU_AI Lead'),\n",
       "   ('SWCC', 'SWCC_6')],\n",
       "  [('STC', 'P1_RHU_BDM'),\n",
       "   ('STC', 'SC2_RHU_DRM'),\n",
       "   ('STC', 'L1_RHU_DG Lead'),\n",
       "   ('SWCC', 'SWCC_6')],\n",
       "  [('STC', 'P1_RHU_BDM'),\n",
       "   ('STC', 'SC2_RHU_DRM'),\n",
       "   ('STC', 'L1_RHU_DM Lead'),\n",
       "   ('SWCC', 'SWCC_6')],\n",
       "  [('STC', 'P1_RHU_BDM'),\n",
       "   ('STC', 'SC2_RHU_DRM'),\n",
       "   ('STC', 'C1_RHU_DM'),\n",
       "   ('SWCC', 'SWCC_6')],\n",
       "  [('STC', 'P1_RHU_BDM'),\n",
       "   ('STC', 'SC2_RHU_DRM'),\n",
       "   ('STC', 'C1_AMM_DM'),\n",
       "   ('SWCC', 'SWCC_6')],\n",
       "  [('STC', 'P1_RHU_BDM'),\n",
       "   ('STC', 'SC2_RHU_DRM'),\n",
       "   ('STC', 'C1_RHU_Coordinator'),\n",
       "   ('SWCC', 'SWCC_6')],\n",
       "  [('STC', 'P1_RHU_BDM'),\n",
       "   ('STC', 'L1_RHU_AI Lead'),\n",
       "   ('STC', 'L1_RHU_DG Lead'),\n",
       "   ('SWCC', 'SWCC_6')],\n",
       "  [('STC', 'P1_RHU_BDM'),\n",
       "   ('STC', 'L1_RHU_AI Lead'),\n",
       "   ('STC', 'L1_RHU_DM Lead'),\n",
       "   ('SWCC', 'SWCC_6')],\n",
       "  [('STC', 'P1_RHU_BDM'),\n",
       "   ('STC', 'L1_RHU_DG Lead'),\n",
       "   ('STC', 'L1_RHU_DM Lead'),\n",
       "   ('SWCC', 'SWCC_6')],\n",
       "  [('STC', 'P1_RHU_BDM'),\n",
       "   ('STC', 'C1_RHU_DM'),\n",
       "   ('STC', 'C1_AMM_DM'),\n",
       "   ('SWCC', 'SWCC_6')],\n",
       "  [('STC', 'P1_RHU_BDM'),\n",
       "   ('STC', 'C1_RHU_DM'),\n",
       "   ('STC', 'C1_RHU_Coordinator'),\n",
       "   ('SWCC', 'SWCC_6')],\n",
       "  [('STC', 'P1_RHU_BDM'),\n",
       "   ('STC', 'C1_AMM_DM'),\n",
       "   ('STC', 'C1_RHU_Coordinator'),\n",
       "   ('SWCC', 'SWCC_6')],\n",
       "  [('STC', 'SC2_RHU_DRM'),\n",
       "   ('STC', 'L1_RHU_AI Lead'),\n",
       "   ('STC', 'L1_RHU_DG Lead'),\n",
       "   ('SWCC', 'SWCC_6')],\n",
       "  [('STC', 'SC2_RHU_DRM'),\n",
       "   ('STC', 'L1_RHU_AI Lead'),\n",
       "   ('STC', 'L1_RHU_DM Lead'),\n",
       "   ('SWCC', 'SWCC_6')],\n",
       "  [('STC', 'SC2_RHU_DRM'),\n",
       "   ('STC', 'L1_RHU_DG Lead'),\n",
       "   ('STC', 'L1_RHU_DM Lead'),\n",
       "   ('SWCC', 'SWCC_6')],\n",
       "  [('STC', 'SC2_RHU_DRM'),\n",
       "   ('STC', 'C1_RHU_DM'),\n",
       "   ('STC', 'C1_AMM_DM'),\n",
       "   ('SWCC', 'SWCC_6')],\n",
       "  [('STC', 'SC2_RHU_DRM'),\n",
       "   ('STC', 'C1_RHU_DM'),\n",
       "   ('STC', 'C1_RHU_Coordinator'),\n",
       "   ('SWCC', 'SWCC_6')],\n",
       "  [('STC', 'SC2_RHU_DRM'),\n",
       "   ('STC', 'C1_AMM_DM'),\n",
       "   ('STC', 'C1_RHU_Coordinator'),\n",
       "   ('SWCC', 'SWCC_6')],\n",
       "  [('STC', 'L1_RHU_AI Lead'),\n",
       "   ('STC', 'L1_RHU_DG Lead'),\n",
       "   ('STC', 'L1_RHU_DM Lead'),\n",
       "   ('SWCC', 'SWCC_6')],\n",
       "  [('STC', 'C1_RHU_DM'),\n",
       "   ('STC', 'C1_AMM_DM'),\n",
       "   ('STC', 'C1_RHU_Coordinator'),\n",
       "   ('SWCC', 'SWCC_6')],\n",
       "  [('STC', 'P1_RHU_BDM'),\n",
       "   ('STC', 'SC2_RHU_DRM'),\n",
       "   ('STC', 'L1_RHU_AI Lead'),\n",
       "   ('STC', 'L1_RHU_DG Lead'),\n",
       "   ('SWCC', 'SWCC_6')],\n",
       "  [('STC', 'P1_RHU_BDM'),\n",
       "   ('STC', 'SC2_RHU_DRM'),\n",
       "   ('STC', 'L1_RHU_AI Lead'),\n",
       "   ('STC', 'L1_RHU_DM Lead'),\n",
       "   ('SWCC', 'SWCC_6')],\n",
       "  [('STC', 'P1_RHU_BDM'),\n",
       "   ('STC', 'SC2_RHU_DRM'),\n",
       "   ('STC', 'L1_RHU_DG Lead'),\n",
       "   ('STC', 'L1_RHU_DM Lead'),\n",
       "   ('SWCC', 'SWCC_6')],\n",
       "  [('STC', 'P1_RHU_BDM'),\n",
       "   ('STC', 'SC2_RHU_DRM'),\n",
       "   ('STC', 'C1_RHU_DM'),\n",
       "   ('STC', 'C1_AMM_DM'),\n",
       "   ('SWCC', 'SWCC_6')],\n",
       "  [('STC', 'P1_RHU_BDM'),\n",
       "   ('STC', 'SC2_RHU_DRM'),\n",
       "   ('STC', 'C1_RHU_DM'),\n",
       "   ('STC', 'C1_RHU_Coordinator'),\n",
       "   ('SWCC', 'SWCC_6')],\n",
       "  [('STC', 'P1_RHU_BDM'),\n",
       "   ('STC', 'SC2_RHU_DRM'),\n",
       "   ('STC', 'C1_AMM_DM'),\n",
       "   ('STC', 'C1_RHU_Coordinator'),\n",
       "   ('SWCC', 'SWCC_6')],\n",
       "  [('STC', 'P1_RHU_BDM'),\n",
       "   ('STC', 'L1_RHU_AI Lead'),\n",
       "   ('STC', 'L1_RHU_DG Lead'),\n",
       "   ('STC', 'L1_RHU_DM Lead'),\n",
       "   ('SWCC', 'SWCC_6')],\n",
       "  [('STC', 'P1_RHU_BDM'),\n",
       "   ('STC', 'C1_RHU_DM'),\n",
       "   ('STC', 'C1_AMM_DM'),\n",
       "   ('STC', 'C1_RHU_Coordinator'),\n",
       "   ('SWCC', 'SWCC_6')],\n",
       "  [('STC', 'SC2_RHU_DRM'),\n",
       "   ('STC', 'L1_RHU_AI Lead'),\n",
       "   ('STC', 'L1_RHU_DG Lead'),\n",
       "   ('STC', 'L1_RHU_DM Lead'),\n",
       "   ('SWCC', 'SWCC_6')],\n",
       "  [('STC', 'SC2_RHU_DRM'),\n",
       "   ('STC', 'C1_RHU_DM'),\n",
       "   ('STC', 'C1_AMM_DM'),\n",
       "   ('STC', 'C1_RHU_Coordinator'),\n",
       "   ('SWCC', 'SWCC_6')],\n",
       "  [('STC', 'P1_RHU_BDM'),\n",
       "   ('STC', 'SC2_RHU_DRM'),\n",
       "   ('STC', 'L1_RHU_AI Lead'),\n",
       "   ('STC', 'L1_RHU_DG Lead'),\n",
       "   ('STC', 'L1_RHU_DM Lead'),\n",
       "   ('SWCC', 'SWCC_6')],\n",
       "  [('STC', 'P1_RHU_BDM'),\n",
       "   ('STC', 'SC2_RHU_DRM'),\n",
       "   ('STC', 'C1_RHU_DM'),\n",
       "   ('STC', 'C1_AMM_DM'),\n",
       "   ('STC', 'C1_RHU_Coordinator'),\n",
       "   ('SWCC', 'SWCC_6')]],\n",
       " 'Ibrahim Kareem': [[('STC', 'P1_RHU_BDM'), ('SWCC', 'SWCC_9')],\n",
       "  [('STC', 'SC2_RHU_DRM'), ('SWCC', 'SWCC_9')],\n",
       "  [('STC', 'L1_RHU_AI Lead'), ('SWCC', 'SWCC_9')],\n",
       "  [('STC', 'L1_RHU_DG Lead'), ('SWCC', 'SWCC_9')],\n",
       "  [('STC', 'L1_RHU_DM Lead'), ('SWCC', 'SWCC_9')],\n",
       "  [('STC', 'C1_RHU_DM'), ('SWCC', 'SWCC_9')],\n",
       "  [('STC', 'C1_AMM_DM'), ('SWCC', 'SWCC_9')],\n",
       "  [('STC', 'C1_RHU_Coordinator'), ('SWCC', 'SWCC_9')],\n",
       "  [('STC', 'P1_RHU_BDM'), ('STC', 'SC2_RHU_DRM'), ('SWCC', 'SWCC_9')],\n",
       "  [('STC', 'P1_RHU_BDM'), ('STC', 'L1_RHU_AI Lead'), ('SWCC', 'SWCC_9')],\n",
       "  [('STC', 'P1_RHU_BDM'), ('STC', 'L1_RHU_DG Lead'), ('SWCC', 'SWCC_9')],\n",
       "  [('STC', 'P1_RHU_BDM'), ('STC', 'L1_RHU_DM Lead'), ('SWCC', 'SWCC_9')],\n",
       "  [('STC', 'P1_RHU_BDM'), ('STC', 'C1_RHU_DM'), ('SWCC', 'SWCC_9')],\n",
       "  [('STC', 'P1_RHU_BDM'), ('STC', 'C1_AMM_DM'), ('SWCC', 'SWCC_9')],\n",
       "  [('STC', 'P1_RHU_BDM'), ('STC', 'C1_RHU_Coordinator'), ('SWCC', 'SWCC_9')],\n",
       "  [('STC', 'SC2_RHU_DRM'), ('STC', 'L1_RHU_AI Lead'), ('SWCC', 'SWCC_9')],\n",
       "  [('STC', 'SC2_RHU_DRM'), ('STC', 'L1_RHU_DG Lead'), ('SWCC', 'SWCC_9')],\n",
       "  [('STC', 'SC2_RHU_DRM'), ('STC', 'L1_RHU_DM Lead'), ('SWCC', 'SWCC_9')],\n",
       "  [('STC', 'SC2_RHU_DRM'), ('STC', 'C1_RHU_DM'), ('SWCC', 'SWCC_9')],\n",
       "  [('STC', 'SC2_RHU_DRM'), ('STC', 'C1_AMM_DM'), ('SWCC', 'SWCC_9')],\n",
       "  [('STC', 'SC2_RHU_DRM'), ('STC', 'C1_RHU_Coordinator'), ('SWCC', 'SWCC_9')],\n",
       "  [('STC', 'L1_RHU_AI Lead'), ('STC', 'L1_RHU_DG Lead'), ('SWCC', 'SWCC_9')],\n",
       "  [('STC', 'L1_RHU_AI Lead'), ('STC', 'L1_RHU_DM Lead'), ('SWCC', 'SWCC_9')],\n",
       "  [('STC', 'L1_RHU_DG Lead'), ('STC', 'L1_RHU_DM Lead'), ('SWCC', 'SWCC_9')],\n",
       "  [('STC', 'C1_RHU_DM'), ('STC', 'C1_AMM_DM'), ('SWCC', 'SWCC_9')],\n",
       "  [('STC', 'C1_RHU_DM'), ('STC', 'C1_RHU_Coordinator'), ('SWCC', 'SWCC_9')],\n",
       "  [('STC', 'C1_AMM_DM'), ('STC', 'C1_RHU_Coordinator'), ('SWCC', 'SWCC_9')],\n",
       "  [('STC', 'P1_RHU_BDM'),\n",
       "   ('STC', 'SC2_RHU_DRM'),\n",
       "   ('STC', 'L1_RHU_AI Lead'),\n",
       "   ('SWCC', 'SWCC_9')],\n",
       "  [('STC', 'P1_RHU_BDM'),\n",
       "   ('STC', 'SC2_RHU_DRM'),\n",
       "   ('STC', 'L1_RHU_DG Lead'),\n",
       "   ('SWCC', 'SWCC_9')],\n",
       "  [('STC', 'P1_RHU_BDM'),\n",
       "   ('STC', 'SC2_RHU_DRM'),\n",
       "   ('STC', 'L1_RHU_DM Lead'),\n",
       "   ('SWCC', 'SWCC_9')],\n",
       "  [('STC', 'P1_RHU_BDM'),\n",
       "   ('STC', 'SC2_RHU_DRM'),\n",
       "   ('STC', 'C1_RHU_DM'),\n",
       "   ('SWCC', 'SWCC_9')],\n",
       "  [('STC', 'P1_RHU_BDM'),\n",
       "   ('STC', 'SC2_RHU_DRM'),\n",
       "   ('STC', 'C1_AMM_DM'),\n",
       "   ('SWCC', 'SWCC_9')],\n",
       "  [('STC', 'P1_RHU_BDM'),\n",
       "   ('STC', 'SC2_RHU_DRM'),\n",
       "   ('STC', 'C1_RHU_Coordinator'),\n",
       "   ('SWCC', 'SWCC_9')],\n",
       "  [('STC', 'P1_RHU_BDM'),\n",
       "   ('STC', 'L1_RHU_AI Lead'),\n",
       "   ('STC', 'L1_RHU_DG Lead'),\n",
       "   ('SWCC', 'SWCC_9')],\n",
       "  [('STC', 'P1_RHU_BDM'),\n",
       "   ('STC', 'L1_RHU_AI Lead'),\n",
       "   ('STC', 'L1_RHU_DM Lead'),\n",
       "   ('SWCC', 'SWCC_9')],\n",
       "  [('STC', 'P1_RHU_BDM'),\n",
       "   ('STC', 'L1_RHU_DG Lead'),\n",
       "   ('STC', 'L1_RHU_DM Lead'),\n",
       "   ('SWCC', 'SWCC_9')],\n",
       "  [('STC', 'P1_RHU_BDM'),\n",
       "   ('STC', 'C1_RHU_DM'),\n",
       "   ('STC', 'C1_AMM_DM'),\n",
       "   ('SWCC', 'SWCC_9')],\n",
       "  [('STC', 'P1_RHU_BDM'),\n",
       "   ('STC', 'C1_RHU_DM'),\n",
       "   ('STC', 'C1_RHU_Coordinator'),\n",
       "   ('SWCC', 'SWCC_9')],\n",
       "  [('STC', 'P1_RHU_BDM'),\n",
       "   ('STC', 'C1_AMM_DM'),\n",
       "   ('STC', 'C1_RHU_Coordinator'),\n",
       "   ('SWCC', 'SWCC_9')],\n",
       "  [('STC', 'SC2_RHU_DRM'),\n",
       "   ('STC', 'L1_RHU_AI Lead'),\n",
       "   ('STC', 'L1_RHU_DG Lead'),\n",
       "   ('SWCC', 'SWCC_9')],\n",
       "  [('STC', 'SC2_RHU_DRM'),\n",
       "   ('STC', 'L1_RHU_AI Lead'),\n",
       "   ('STC', 'L1_RHU_DM Lead'),\n",
       "   ('SWCC', 'SWCC_9')],\n",
       "  [('STC', 'SC2_RHU_DRM'),\n",
       "   ('STC', 'L1_RHU_DG Lead'),\n",
       "   ('STC', 'L1_RHU_DM Lead'),\n",
       "   ('SWCC', 'SWCC_9')],\n",
       "  [('STC', 'SC2_RHU_DRM'),\n",
       "   ('STC', 'C1_RHU_DM'),\n",
       "   ('STC', 'C1_AMM_DM'),\n",
       "   ('SWCC', 'SWCC_9')],\n",
       "  [('STC', 'SC2_RHU_DRM'),\n",
       "   ('STC', 'C1_RHU_DM'),\n",
       "   ('STC', 'C1_RHU_Coordinator'),\n",
       "   ('SWCC', 'SWCC_9')],\n",
       "  [('STC', 'SC2_RHU_DRM'),\n",
       "   ('STC', 'C1_AMM_DM'),\n",
       "   ('STC', 'C1_RHU_Coordinator'),\n",
       "   ('SWCC', 'SWCC_9')],\n",
       "  [('STC', 'L1_RHU_AI Lead'),\n",
       "   ('STC', 'L1_RHU_DG Lead'),\n",
       "   ('STC', 'L1_RHU_DM Lead'),\n",
       "   ('SWCC', 'SWCC_9')],\n",
       "  [('STC', 'C1_RHU_DM'),\n",
       "   ('STC', 'C1_AMM_DM'),\n",
       "   ('STC', 'C1_RHU_Coordinator'),\n",
       "   ('SWCC', 'SWCC_9')],\n",
       "  [('STC', 'P1_RHU_BDM'),\n",
       "   ('STC', 'SC2_RHU_DRM'),\n",
       "   ('STC', 'L1_RHU_AI Lead'),\n",
       "   ('STC', 'L1_RHU_DG Lead'),\n",
       "   ('SWCC', 'SWCC_9')],\n",
       "  [('STC', 'P1_RHU_BDM'),\n",
       "   ('STC', 'SC2_RHU_DRM'),\n",
       "   ('STC', 'L1_RHU_AI Lead'),\n",
       "   ('STC', 'L1_RHU_DM Lead'),\n",
       "   ('SWCC', 'SWCC_9')],\n",
       "  [('STC', 'P1_RHU_BDM'),\n",
       "   ('STC', 'SC2_RHU_DRM'),\n",
       "   ('STC', 'L1_RHU_DG Lead'),\n",
       "   ('STC', 'L1_RHU_DM Lead'),\n",
       "   ('SWCC', 'SWCC_9')],\n",
       "  [('STC', 'P1_RHU_BDM'),\n",
       "   ('STC', 'SC2_RHU_DRM'),\n",
       "   ('STC', 'C1_RHU_DM'),\n",
       "   ('STC', 'C1_AMM_DM'),\n",
       "   ('SWCC', 'SWCC_9')],\n",
       "  [('STC', 'P1_RHU_BDM'),\n",
       "   ('STC', 'SC2_RHU_DRM'),\n",
       "   ('STC', 'C1_RHU_DM'),\n",
       "   ('STC', 'C1_RHU_Coordinator'),\n",
       "   ('SWCC', 'SWCC_9')],\n",
       "  [('STC', 'P1_RHU_BDM'),\n",
       "   ('STC', 'SC2_RHU_DRM'),\n",
       "   ('STC', 'C1_AMM_DM'),\n",
       "   ('STC', 'C1_RHU_Coordinator'),\n",
       "   ('SWCC', 'SWCC_9')],\n",
       "  [('STC', 'P1_RHU_BDM'),\n",
       "   ('STC', 'L1_RHU_AI Lead'),\n",
       "   ('STC', 'L1_RHU_DG Lead'),\n",
       "   ('STC', 'L1_RHU_DM Lead'),\n",
       "   ('SWCC', 'SWCC_9')],\n",
       "  [('STC', 'P1_RHU_BDM'),\n",
       "   ('STC', 'C1_RHU_DM'),\n",
       "   ('STC', 'C1_AMM_DM'),\n",
       "   ('STC', 'C1_RHU_Coordinator'),\n",
       "   ('SWCC', 'SWCC_9')],\n",
       "  [('STC', 'SC2_RHU_DRM'),\n",
       "   ('STC', 'L1_RHU_AI Lead'),\n",
       "   ('STC', 'L1_RHU_DG Lead'),\n",
       "   ('STC', 'L1_RHU_DM Lead'),\n",
       "   ('SWCC', 'SWCC_9')],\n",
       "  [('STC', 'SC2_RHU_DRM'),\n",
       "   ('STC', 'C1_RHU_DM'),\n",
       "   ('STC', 'C1_AMM_DM'),\n",
       "   ('STC', 'C1_RHU_Coordinator'),\n",
       "   ('SWCC', 'SWCC_9')],\n",
       "  [('STC', 'P1_RHU_BDM'),\n",
       "   ('STC', 'SC2_RHU_DRM'),\n",
       "   ('STC', 'L1_RHU_AI Lead'),\n",
       "   ('STC', 'L1_RHU_DG Lead'),\n",
       "   ('STC', 'L1_RHU_DM Lead'),\n",
       "   ('SWCC', 'SWCC_9')],\n",
       "  [('STC', 'P1_RHU_BDM'),\n",
       "   ('STC', 'SC2_RHU_DRM'),\n",
       "   ('STC', 'C1_RHU_DM'),\n",
       "   ('STC', 'C1_AMM_DM'),\n",
       "   ('STC', 'C1_RHU_Coordinator'),\n",
       "   ('SWCC', 'SWCC_9')]],\n",
       " 'Amr Ramadan': [[('STC', 'P1_RHU_BDM'), ('HRSD', 'HRSD_12')],\n",
       "  [('STC', 'SC2_RHU_DRM'), ('HRSD', 'HRSD_12')],\n",
       "  [('STC', 'L1_RHU_AI Lead'), ('HRSD', 'HRSD_12')],\n",
       "  [('STC', 'L1_RHU_DG Lead'), ('HRSD', 'HRSD_12')],\n",
       "  [('STC', 'L1_RHU_DM Lead'), ('HRSD', 'HRSD_12')],\n",
       "  [('STC', 'C1_RHU_DM'), ('HRSD', 'HRSD_12')],\n",
       "  [('STC', 'C1_AMM_DM'), ('HRSD', 'HRSD_12')],\n",
       "  [('STC', 'C1_RHU_Coordinator'), ('HRSD', 'HRSD_12')],\n",
       "  [('STC', 'P1_RHU_BDM'), ('STC', 'SC2_RHU_DRM'), ('HRSD', 'HRSD_12')],\n",
       "  [('STC', 'P1_RHU_BDM'), ('STC', 'L1_RHU_AI Lead'), ('HRSD', 'HRSD_12')],\n",
       "  [('STC', 'P1_RHU_BDM'), ('STC', 'L1_RHU_DG Lead'), ('HRSD', 'HRSD_12')],\n",
       "  [('STC', 'P1_RHU_BDM'), ('STC', 'L1_RHU_DM Lead'), ('HRSD', 'HRSD_12')],\n",
       "  [('STC', 'P1_RHU_BDM'), ('STC', 'C1_RHU_DM'), ('HRSD', 'HRSD_12')],\n",
       "  [('STC', 'P1_RHU_BDM'), ('STC', 'C1_AMM_DM'), ('HRSD', 'HRSD_12')],\n",
       "  [('STC', 'P1_RHU_BDM'), ('STC', 'C1_RHU_Coordinator'), ('HRSD', 'HRSD_12')],\n",
       "  [('STC', 'SC2_RHU_DRM'), ('STC', 'L1_RHU_AI Lead'), ('HRSD', 'HRSD_12')],\n",
       "  [('STC', 'SC2_RHU_DRM'), ('STC', 'L1_RHU_DG Lead'), ('HRSD', 'HRSD_12')],\n",
       "  [('STC', 'SC2_RHU_DRM'), ('STC', 'L1_RHU_DM Lead'), ('HRSD', 'HRSD_12')],\n",
       "  [('STC', 'SC2_RHU_DRM'), ('STC', 'C1_RHU_DM'), ('HRSD', 'HRSD_12')],\n",
       "  [('STC', 'SC2_RHU_DRM'), ('STC', 'C1_AMM_DM'), ('HRSD', 'HRSD_12')],\n",
       "  [('STC', 'SC2_RHU_DRM'), ('STC', 'C1_RHU_Coordinator'), ('HRSD', 'HRSD_12')],\n",
       "  [('STC', 'L1_RHU_AI Lead'), ('STC', 'L1_RHU_DG Lead'), ('HRSD', 'HRSD_12')],\n",
       "  [('STC', 'L1_RHU_AI Lead'), ('STC', 'L1_RHU_DM Lead'), ('HRSD', 'HRSD_12')],\n",
       "  [('STC', 'L1_RHU_DG Lead'), ('STC', 'L1_RHU_DM Lead'), ('HRSD', 'HRSD_12')],\n",
       "  [('STC', 'C1_RHU_DM'), ('STC', 'C1_AMM_DM'), ('HRSD', 'HRSD_12')],\n",
       "  [('STC', 'C1_RHU_DM'), ('STC', 'C1_RHU_Coordinator'), ('HRSD', 'HRSD_12')],\n",
       "  [('STC', 'C1_AMM_DM'), ('STC', 'C1_RHU_Coordinator'), ('HRSD', 'HRSD_12')],\n",
       "  [('STC', 'P1_RHU_BDM'),\n",
       "   ('STC', 'SC2_RHU_DRM'),\n",
       "   ('STC', 'L1_RHU_AI Lead'),\n",
       "   ('HRSD', 'HRSD_12')],\n",
       "  [('STC', 'P1_RHU_BDM'),\n",
       "   ('STC', 'SC2_RHU_DRM'),\n",
       "   ('STC', 'L1_RHU_DG Lead'),\n",
       "   ('HRSD', 'HRSD_12')],\n",
       "  [('STC', 'P1_RHU_BDM'),\n",
       "   ('STC', 'SC2_RHU_DRM'),\n",
       "   ('STC', 'L1_RHU_DM Lead'),\n",
       "   ('HRSD', 'HRSD_12')],\n",
       "  [('STC', 'P1_RHU_BDM'),\n",
       "   ('STC', 'SC2_RHU_DRM'),\n",
       "   ('STC', 'C1_RHU_DM'),\n",
       "   ('HRSD', 'HRSD_12')],\n",
       "  [('STC', 'P1_RHU_BDM'),\n",
       "   ('STC', 'SC2_RHU_DRM'),\n",
       "   ('STC', 'C1_AMM_DM'),\n",
       "   ('HRSD', 'HRSD_12')],\n",
       "  [('STC', 'P1_RHU_BDM'),\n",
       "   ('STC', 'SC2_RHU_DRM'),\n",
       "   ('STC', 'C1_RHU_Coordinator'),\n",
       "   ('HRSD', 'HRSD_12')],\n",
       "  [('STC', 'P1_RHU_BDM'),\n",
       "   ('STC', 'L1_RHU_AI Lead'),\n",
       "   ('STC', 'L1_RHU_DG Lead'),\n",
       "   ('HRSD', 'HRSD_12')],\n",
       "  [('STC', 'P1_RHU_BDM'),\n",
       "   ('STC', 'L1_RHU_AI Lead'),\n",
       "   ('STC', 'L1_RHU_DM Lead'),\n",
       "   ('HRSD', 'HRSD_12')],\n",
       "  [('STC', 'P1_RHU_BDM'),\n",
       "   ('STC', 'L1_RHU_DG Lead'),\n",
       "   ('STC', 'L1_RHU_DM Lead'),\n",
       "   ('HRSD', 'HRSD_12')],\n",
       "  [('STC', 'P1_RHU_BDM'),\n",
       "   ('STC', 'C1_RHU_DM'),\n",
       "   ('STC', 'C1_AMM_DM'),\n",
       "   ('HRSD', 'HRSD_12')],\n",
       "  [('STC', 'P1_RHU_BDM'),\n",
       "   ('STC', 'C1_RHU_DM'),\n",
       "   ('STC', 'C1_RHU_Coordinator'),\n",
       "   ('HRSD', 'HRSD_12')],\n",
       "  [('STC', 'P1_RHU_BDM'),\n",
       "   ('STC', 'C1_AMM_DM'),\n",
       "   ('STC', 'C1_RHU_Coordinator'),\n",
       "   ('HRSD', 'HRSD_12')],\n",
       "  [('STC', 'SC2_RHU_DRM'),\n",
       "   ('STC', 'L1_RHU_AI Lead'),\n",
       "   ('STC', 'L1_RHU_DG Lead'),\n",
       "   ('HRSD', 'HRSD_12')],\n",
       "  [('STC', 'SC2_RHU_DRM'),\n",
       "   ('STC', 'L1_RHU_AI Lead'),\n",
       "   ('STC', 'L1_RHU_DM Lead'),\n",
       "   ('HRSD', 'HRSD_12')],\n",
       "  [('STC', 'SC2_RHU_DRM'),\n",
       "   ('STC', 'L1_RHU_DG Lead'),\n",
       "   ('STC', 'L1_RHU_DM Lead'),\n",
       "   ('HRSD', 'HRSD_12')],\n",
       "  [('STC', 'SC2_RHU_DRM'),\n",
       "   ('STC', 'C1_RHU_DM'),\n",
       "   ('STC', 'C1_AMM_DM'),\n",
       "   ('HRSD', 'HRSD_12')],\n",
       "  [('STC', 'SC2_RHU_DRM'),\n",
       "   ('STC', 'C1_RHU_DM'),\n",
       "   ('STC', 'C1_RHU_Coordinator'),\n",
       "   ('HRSD', 'HRSD_12')],\n",
       "  [('STC', 'SC2_RHU_DRM'),\n",
       "   ('STC', 'C1_AMM_DM'),\n",
       "   ('STC', 'C1_RHU_Coordinator'),\n",
       "   ('HRSD', 'HRSD_12')],\n",
       "  [('STC', 'L1_RHU_AI Lead'),\n",
       "   ('STC', 'L1_RHU_DG Lead'),\n",
       "   ('STC', 'L1_RHU_DM Lead'),\n",
       "   ('HRSD', 'HRSD_12')],\n",
       "  [('STC', 'C1_RHU_DM'),\n",
       "   ('STC', 'C1_AMM_DM'),\n",
       "   ('STC', 'C1_RHU_Coordinator'),\n",
       "   ('HRSD', 'HRSD_12')],\n",
       "  [('STC', 'P1_RHU_BDM'),\n",
       "   ('STC', 'SC2_RHU_DRM'),\n",
       "   ('STC', 'L1_RHU_AI Lead'),\n",
       "   ('STC', 'L1_RHU_DG Lead'),\n",
       "   ('HRSD', 'HRSD_12')],\n",
       "  [('STC', 'P1_RHU_BDM'),\n",
       "   ('STC', 'SC2_RHU_DRM'),\n",
       "   ('STC', 'L1_RHU_AI Lead'),\n",
       "   ('STC', 'L1_RHU_DM Lead'),\n",
       "   ('HRSD', 'HRSD_12')],\n",
       "  [('STC', 'P1_RHU_BDM'),\n",
       "   ('STC', 'SC2_RHU_DRM'),\n",
       "   ('STC', 'L1_RHU_DG Lead'),\n",
       "   ('STC', 'L1_RHU_DM Lead'),\n",
       "   ('HRSD', 'HRSD_12')],\n",
       "  [('STC', 'P1_RHU_BDM'),\n",
       "   ('STC', 'SC2_RHU_DRM'),\n",
       "   ('STC', 'C1_RHU_DM'),\n",
       "   ('STC', 'C1_AMM_DM'),\n",
       "   ('HRSD', 'HRSD_12')],\n",
       "  [('STC', 'P1_RHU_BDM'),\n",
       "   ('STC', 'SC2_RHU_DRM'),\n",
       "   ('STC', 'C1_RHU_DM'),\n",
       "   ('STC', 'C1_RHU_Coordinator'),\n",
       "   ('HRSD', 'HRSD_12')],\n",
       "  [('STC', 'P1_RHU_BDM'),\n",
       "   ('STC', 'SC2_RHU_DRM'),\n",
       "   ('STC', 'C1_AMM_DM'),\n",
       "   ('STC', 'C1_RHU_Coordinator'),\n",
       "   ('HRSD', 'HRSD_12')],\n",
       "  [('STC', 'P1_RHU_BDM'),\n",
       "   ('STC', 'L1_RHU_AI Lead'),\n",
       "   ('STC', 'L1_RHU_DG Lead'),\n",
       "   ('STC', 'L1_RHU_DM Lead'),\n",
       "   ('HRSD', 'HRSD_12')],\n",
       "  [('STC', 'P1_RHU_BDM'),\n",
       "   ('STC', 'C1_RHU_DM'),\n",
       "   ('STC', 'C1_AMM_DM'),\n",
       "   ('STC', 'C1_RHU_Coordinator'),\n",
       "   ('HRSD', 'HRSD_12')],\n",
       "  [('STC', 'SC2_RHU_DRM'),\n",
       "   ('STC', 'L1_RHU_AI Lead'),\n",
       "   ('STC', 'L1_RHU_DG Lead'),\n",
       "   ('STC', 'L1_RHU_DM Lead'),\n",
       "   ('HRSD', 'HRSD_12')],\n",
       "  [('STC', 'SC2_RHU_DRM'),\n",
       "   ('STC', 'C1_RHU_DM'),\n",
       "   ('STC', 'C1_AMM_DM'),\n",
       "   ('STC', 'C1_RHU_Coordinator'),\n",
       "   ('HRSD', 'HRSD_12')],\n",
       "  [('STC', 'P1_RHU_BDM'),\n",
       "   ('STC', 'SC2_RHU_DRM'),\n",
       "   ('STC', 'L1_RHU_AI Lead'),\n",
       "   ('STC', 'L1_RHU_DG Lead'),\n",
       "   ('STC', 'L1_RHU_DM Lead'),\n",
       "   ('HRSD', 'HRSD_12')],\n",
       "  [('STC', 'P1_RHU_BDM'),\n",
       "   ('STC', 'SC2_RHU_DRM'),\n",
       "   ('STC', 'C1_RHU_DM'),\n",
       "   ('STC', 'C1_AMM_DM'),\n",
       "   ('STC', 'C1_RHU_Coordinator'),\n",
       "   ('HRSD', 'HRSD_12')]],\n",
       " 'Akram': [[('STC', 'P1_RHU_BDM'), ('HRSD', 'HRSD_13')],\n",
       "  [('STC', 'SC2_RHU_DRM'), ('HRSD', 'HRSD_13')],\n",
       "  [('STC', 'L1_RHU_AI Lead'), ('HRSD', 'HRSD_13')],\n",
       "  [('STC', 'L1_RHU_DG Lead'), ('HRSD', 'HRSD_13')],\n",
       "  [('STC', 'L1_RHU_DM Lead'), ('HRSD', 'HRSD_13')],\n",
       "  [('STC', 'C1_RHU_DM'), ('HRSD', 'HRSD_13')],\n",
       "  [('STC', 'C1_AMM_DM'), ('HRSD', 'HRSD_13')],\n",
       "  [('STC', 'C1_RHU_Coordinator'), ('HRSD', 'HRSD_13')],\n",
       "  [('STC', 'P1_RHU_BDM'), ('STC', 'SC2_RHU_DRM'), ('HRSD', 'HRSD_13')],\n",
       "  [('STC', 'P1_RHU_BDM'), ('STC', 'L1_RHU_AI Lead'), ('HRSD', 'HRSD_13')],\n",
       "  [('STC', 'P1_RHU_BDM'), ('STC', 'L1_RHU_DG Lead'), ('HRSD', 'HRSD_13')],\n",
       "  [('STC', 'P1_RHU_BDM'), ('STC', 'L1_RHU_DM Lead'), ('HRSD', 'HRSD_13')],\n",
       "  [('STC', 'P1_RHU_BDM'), ('STC', 'C1_RHU_DM'), ('HRSD', 'HRSD_13')],\n",
       "  [('STC', 'P1_RHU_BDM'), ('STC', 'C1_AMM_DM'), ('HRSD', 'HRSD_13')],\n",
       "  [('STC', 'P1_RHU_BDM'), ('STC', 'C1_RHU_Coordinator'), ('HRSD', 'HRSD_13')],\n",
       "  [('STC', 'SC2_RHU_DRM'), ('STC', 'L1_RHU_AI Lead'), ('HRSD', 'HRSD_13')],\n",
       "  [('STC', 'SC2_RHU_DRM'), ('STC', 'L1_RHU_DG Lead'), ('HRSD', 'HRSD_13')],\n",
       "  [('STC', 'SC2_RHU_DRM'), ('STC', 'L1_RHU_DM Lead'), ('HRSD', 'HRSD_13')],\n",
       "  [('STC', 'SC2_RHU_DRM'), ('STC', 'C1_RHU_DM'), ('HRSD', 'HRSD_13')],\n",
       "  [('STC', 'SC2_RHU_DRM'), ('STC', 'C1_AMM_DM'), ('HRSD', 'HRSD_13')],\n",
       "  [('STC', 'SC2_RHU_DRM'), ('STC', 'C1_RHU_Coordinator'), ('HRSD', 'HRSD_13')],\n",
       "  [('STC', 'L1_RHU_AI Lead'), ('STC', 'L1_RHU_DG Lead'), ('HRSD', 'HRSD_13')],\n",
       "  [('STC', 'L1_RHU_AI Lead'), ('STC', 'L1_RHU_DM Lead'), ('HRSD', 'HRSD_13')],\n",
       "  [('STC', 'L1_RHU_DG Lead'), ('STC', 'L1_RHU_DM Lead'), ('HRSD', 'HRSD_13')],\n",
       "  [('STC', 'C1_RHU_DM'), ('STC', 'C1_AMM_DM'), ('HRSD', 'HRSD_13')],\n",
       "  [('STC', 'C1_RHU_DM'), ('STC', 'C1_RHU_Coordinator'), ('HRSD', 'HRSD_13')],\n",
       "  [('STC', 'C1_AMM_DM'), ('STC', 'C1_RHU_Coordinator'), ('HRSD', 'HRSD_13')],\n",
       "  [('STC', 'P1_RHU_BDM'),\n",
       "   ('STC', 'SC2_RHU_DRM'),\n",
       "   ('STC', 'L1_RHU_AI Lead'),\n",
       "   ('HRSD', 'HRSD_13')],\n",
       "  [('STC', 'P1_RHU_BDM'),\n",
       "   ('STC', 'SC2_RHU_DRM'),\n",
       "   ('STC', 'L1_RHU_DG Lead'),\n",
       "   ('HRSD', 'HRSD_13')],\n",
       "  [('STC', 'P1_RHU_BDM'),\n",
       "   ('STC', 'SC2_RHU_DRM'),\n",
       "   ('STC', 'L1_RHU_DM Lead'),\n",
       "   ('HRSD', 'HRSD_13')],\n",
       "  [('STC', 'P1_RHU_BDM'),\n",
       "   ('STC', 'SC2_RHU_DRM'),\n",
       "   ('STC', 'C1_RHU_DM'),\n",
       "   ('HRSD', 'HRSD_13')],\n",
       "  [('STC', 'P1_RHU_BDM'),\n",
       "   ('STC', 'SC2_RHU_DRM'),\n",
       "   ('STC', 'C1_AMM_DM'),\n",
       "   ('HRSD', 'HRSD_13')],\n",
       "  [('STC', 'P1_RHU_BDM'),\n",
       "   ('STC', 'SC2_RHU_DRM'),\n",
       "   ('STC', 'C1_RHU_Coordinator'),\n",
       "   ('HRSD', 'HRSD_13')],\n",
       "  [('STC', 'P1_RHU_BDM'),\n",
       "   ('STC', 'L1_RHU_AI Lead'),\n",
       "   ('STC', 'L1_RHU_DG Lead'),\n",
       "   ('HRSD', 'HRSD_13')],\n",
       "  [('STC', 'P1_RHU_BDM'),\n",
       "   ('STC', 'L1_RHU_AI Lead'),\n",
       "   ('STC', 'L1_RHU_DM Lead'),\n",
       "   ('HRSD', 'HRSD_13')],\n",
       "  [('STC', 'P1_RHU_BDM'),\n",
       "   ('STC', 'L1_RHU_DG Lead'),\n",
       "   ('STC', 'L1_RHU_DM Lead'),\n",
       "   ('HRSD', 'HRSD_13')],\n",
       "  [('STC', 'P1_RHU_BDM'),\n",
       "   ('STC', 'C1_RHU_DM'),\n",
       "   ('STC', 'C1_AMM_DM'),\n",
       "   ('HRSD', 'HRSD_13')],\n",
       "  [('STC', 'P1_RHU_BDM'),\n",
       "   ('STC', 'C1_RHU_DM'),\n",
       "   ('STC', 'C1_RHU_Coordinator'),\n",
       "   ('HRSD', 'HRSD_13')],\n",
       "  [('STC', 'P1_RHU_BDM'),\n",
       "   ('STC', 'C1_AMM_DM'),\n",
       "   ('STC', 'C1_RHU_Coordinator'),\n",
       "   ('HRSD', 'HRSD_13')],\n",
       "  [('STC', 'SC2_RHU_DRM'),\n",
       "   ('STC', 'L1_RHU_AI Lead'),\n",
       "   ('STC', 'L1_RHU_DG Lead'),\n",
       "   ('HRSD', 'HRSD_13')],\n",
       "  [('STC', 'SC2_RHU_DRM'),\n",
       "   ('STC', 'L1_RHU_AI Lead'),\n",
       "   ('STC', 'L1_RHU_DM Lead'),\n",
       "   ('HRSD', 'HRSD_13')],\n",
       "  [('STC', 'SC2_RHU_DRM'),\n",
       "   ('STC', 'L1_RHU_DG Lead'),\n",
       "   ('STC', 'L1_RHU_DM Lead'),\n",
       "   ('HRSD', 'HRSD_13')],\n",
       "  [('STC', 'SC2_RHU_DRM'),\n",
       "   ('STC', 'C1_RHU_DM'),\n",
       "   ('STC', 'C1_AMM_DM'),\n",
       "   ('HRSD', 'HRSD_13')],\n",
       "  [('STC', 'SC2_RHU_DRM'),\n",
       "   ('STC', 'C1_RHU_DM'),\n",
       "   ('STC', 'C1_RHU_Coordinator'),\n",
       "   ('HRSD', 'HRSD_13')],\n",
       "  [('STC', 'SC2_RHU_DRM'),\n",
       "   ('STC', 'C1_AMM_DM'),\n",
       "   ('STC', 'C1_RHU_Coordinator'),\n",
       "   ('HRSD', 'HRSD_13')],\n",
       "  [('STC', 'L1_RHU_AI Lead'),\n",
       "   ('STC', 'L1_RHU_DG Lead'),\n",
       "   ('STC', 'L1_RHU_DM Lead'),\n",
       "   ('HRSD', 'HRSD_13')],\n",
       "  [('STC', 'C1_RHU_DM'),\n",
       "   ('STC', 'C1_AMM_DM'),\n",
       "   ('STC', 'C1_RHU_Coordinator'),\n",
       "   ('HRSD', 'HRSD_13')],\n",
       "  [('STC', 'P1_RHU_BDM'),\n",
       "   ('STC', 'SC2_RHU_DRM'),\n",
       "   ('STC', 'L1_RHU_AI Lead'),\n",
       "   ('STC', 'L1_RHU_DG Lead'),\n",
       "   ('HRSD', 'HRSD_13')],\n",
       "  [('STC', 'P1_RHU_BDM'),\n",
       "   ('STC', 'SC2_RHU_DRM'),\n",
       "   ('STC', 'L1_RHU_AI Lead'),\n",
       "   ('STC', 'L1_RHU_DM Lead'),\n",
       "   ('HRSD', 'HRSD_13')],\n",
       "  [('STC', 'P1_RHU_BDM'),\n",
       "   ('STC', 'SC2_RHU_DRM'),\n",
       "   ('STC', 'L1_RHU_DG Lead'),\n",
       "   ('STC', 'L1_RHU_DM Lead'),\n",
       "   ('HRSD', 'HRSD_13')],\n",
       "  [('STC', 'P1_RHU_BDM'),\n",
       "   ('STC', 'SC2_RHU_DRM'),\n",
       "   ('STC', 'C1_RHU_DM'),\n",
       "   ('STC', 'C1_AMM_DM'),\n",
       "   ('HRSD', 'HRSD_13')],\n",
       "  [('STC', 'P1_RHU_BDM'),\n",
       "   ('STC', 'SC2_RHU_DRM'),\n",
       "   ('STC', 'C1_RHU_DM'),\n",
       "   ('STC', 'C1_RHU_Coordinator'),\n",
       "   ('HRSD', 'HRSD_13')],\n",
       "  [('STC', 'P1_RHU_BDM'),\n",
       "   ('STC', 'SC2_RHU_DRM'),\n",
       "   ('STC', 'C1_AMM_DM'),\n",
       "   ('STC', 'C1_RHU_Coordinator'),\n",
       "   ('HRSD', 'HRSD_13')],\n",
       "  [('STC', 'P1_RHU_BDM'),\n",
       "   ('STC', 'L1_RHU_AI Lead'),\n",
       "   ('STC', 'L1_RHU_DG Lead'),\n",
       "   ('STC', 'L1_RHU_DM Lead'),\n",
       "   ('HRSD', 'HRSD_13')],\n",
       "  [('STC', 'P1_RHU_BDM'),\n",
       "   ('STC', 'C1_RHU_DM'),\n",
       "   ('STC', 'C1_AMM_DM'),\n",
       "   ('STC', 'C1_RHU_Coordinator'),\n",
       "   ('HRSD', 'HRSD_13')],\n",
       "  [('STC', 'SC2_RHU_DRM'),\n",
       "   ('STC', 'L1_RHU_AI Lead'),\n",
       "   ('STC', 'L1_RHU_DG Lead'),\n",
       "   ('STC', 'L1_RHU_DM Lead'),\n",
       "   ('HRSD', 'HRSD_13')],\n",
       "  [('STC', 'SC2_RHU_DRM'),\n",
       "   ('STC', 'C1_RHU_DM'),\n",
       "   ('STC', 'C1_AMM_DM'),\n",
       "   ('STC', 'C1_RHU_Coordinator'),\n",
       "   ('HRSD', 'HRSD_13')],\n",
       "  [('STC', 'P1_RHU_BDM'),\n",
       "   ('STC', 'SC2_RHU_DRM'),\n",
       "   ('STC', 'L1_RHU_AI Lead'),\n",
       "   ('STC', 'L1_RHU_DG Lead'),\n",
       "   ('STC', 'L1_RHU_DM Lead'),\n",
       "   ('HRSD', 'HRSD_13')],\n",
       "  [('STC', 'P1_RHU_BDM'),\n",
       "   ('STC', 'SC2_RHU_DRM'),\n",
       "   ('STC', 'C1_RHU_DM'),\n",
       "   ('STC', 'C1_AMM_DM'),\n",
       "   ('STC', 'C1_RHU_Coordinator'),\n",
       "   ('HRSD', 'HRSD_13')]]}"
      ]
     },
     "execution_count": 17,
     "metadata": {},
     "output_type": "execute_result"
    }
   ],
   "source": [
    "resource_constraints"
   ]
  },
  {
   "cell_type": "code",
   "execution_count": 18,
   "id": "a21acec9",
   "metadata": {},
   "outputs": [],
   "source": [
    "#The role required skillset must be in the resources skillset \n",
    "for p in model.pipeline_projects:\n",
    "    for t in pipeline_project_tasks[p]:\n",
    "        for r in model.RESOURCES :                         \n",
    "            if  TASKS[(p,t)]['skillset'] not in RESOURCES[r]['skillset']:\n",
    "                model.cons.add(\n",
    "                        0== model.prt_improper_var[p,t,r]\n",
    "                        )"
   ]
  },
  {
   "cell_type": "code",
   "execution_count": 19,
   "id": "025f540e",
   "metadata": {},
   "outputs": [
    {
     "data": {
      "text/plain": [
       "['DQ Lead', 'DM Lead', 'BDM']"
      ]
     },
     "execution_count": 19,
     "metadata": {},
     "output_type": "execute_result"
    }
   ],
   "source": [
    "RESOURCES['Saleh Samaneh']['skillset']"
   ]
  },
  {
   "cell_type": "code",
   "execution_count": 20,
   "id": "57106f11",
   "metadata": {},
   "outputs": [
    {
     "data": {
      "text/plain": [
       "[[('STC', 'P1_RHU_BDM'), ('STC', 'SC2_RHU_DRM')],\n",
       " [('STC', 'P1_RHU_BDM'), ('STC', 'L1_RHU_AI Lead')],\n",
       " [('STC', 'P1_RHU_BDM'), ('STC', 'L1_RHU_DG Lead')],\n",
       " [('STC', 'P1_RHU_BDM'), ('STC', 'L1_RHU_DM Lead')],\n",
       " [('STC', 'P1_RHU_BDM'), ('STC', 'C1_RHU_DM')],\n",
       " [('STC', 'P1_RHU_BDM'), ('STC', 'C1_AMM_DM')],\n",
       " [('STC', 'P1_RHU_BDM'), ('STC', 'C1_RHU_Coordinator')],\n",
       " [('STC', 'SC2_RHU_DRM'), ('STC', 'L1_RHU_AI Lead')],\n",
       " [('STC', 'SC2_RHU_DRM'), ('STC', 'L1_RHU_DG Lead')],\n",
       " [('STC', 'SC2_RHU_DRM'), ('STC', 'L1_RHU_DM Lead')],\n",
       " [('STC', 'SC2_RHU_DRM'), ('STC', 'C1_RHU_DM')],\n",
       " [('STC', 'SC2_RHU_DRM'), ('STC', 'C1_AMM_DM')],\n",
       " [('STC', 'SC2_RHU_DRM'), ('STC', 'C1_RHU_Coordinator')],\n",
       " [('STC', 'L1_RHU_AI Lead'), ('STC', 'L1_RHU_DG Lead')],\n",
       " [('STC', 'L1_RHU_AI Lead'), ('STC', 'L1_RHU_DM Lead')],\n",
       " [('STC', 'L1_RHU_DG Lead'), ('STC', 'L1_RHU_DM Lead')],\n",
       " [('STC', 'C1_RHU_DM'), ('STC', 'C1_AMM_DM')],\n",
       " [('STC', 'C1_RHU_DM'), ('STC', 'C1_RHU_Coordinator')],\n",
       " [('STC', 'C1_AMM_DM'), ('STC', 'C1_RHU_Coordinator')],\n",
       " [('STC', 'P1_RHU_BDM'), ('STC', 'SC2_RHU_DRM'), ('STC', 'L1_RHU_AI Lead')],\n",
       " [('STC', 'P1_RHU_BDM'), ('STC', 'SC2_RHU_DRM'), ('STC', 'L1_RHU_DG Lead')],\n",
       " [('STC', 'P1_RHU_BDM'), ('STC', 'SC2_RHU_DRM'), ('STC', 'L1_RHU_DM Lead')],\n",
       " [('STC', 'P1_RHU_BDM'), ('STC', 'SC2_RHU_DRM'), ('STC', 'C1_RHU_DM')],\n",
       " [('STC', 'P1_RHU_BDM'), ('STC', 'SC2_RHU_DRM'), ('STC', 'C1_AMM_DM')],\n",
       " [('STC', 'P1_RHU_BDM'),\n",
       "  ('STC', 'SC2_RHU_DRM'),\n",
       "  ('STC', 'C1_RHU_Coordinator')],\n",
       " [('STC', 'P1_RHU_BDM'), ('STC', 'L1_RHU_AI Lead'), ('STC', 'L1_RHU_DG Lead')],\n",
       " [('STC', 'P1_RHU_BDM'), ('STC', 'L1_RHU_AI Lead'), ('STC', 'L1_RHU_DM Lead')],\n",
       " [('STC', 'P1_RHU_BDM'), ('STC', 'L1_RHU_DG Lead'), ('STC', 'L1_RHU_DM Lead')],\n",
       " [('STC', 'P1_RHU_BDM'), ('STC', 'C1_RHU_DM'), ('STC', 'C1_AMM_DM')],\n",
       " [('STC', 'P1_RHU_BDM'), ('STC', 'C1_RHU_DM'), ('STC', 'C1_RHU_Coordinator')],\n",
       " [('STC', 'P1_RHU_BDM'), ('STC', 'C1_AMM_DM'), ('STC', 'C1_RHU_Coordinator')],\n",
       " [('STC', 'SC2_RHU_DRM'),\n",
       "  ('STC', 'L1_RHU_AI Lead'),\n",
       "  ('STC', 'L1_RHU_DG Lead')],\n",
       " [('STC', 'SC2_RHU_DRM'),\n",
       "  ('STC', 'L1_RHU_AI Lead'),\n",
       "  ('STC', 'L1_RHU_DM Lead')],\n",
       " [('STC', 'SC2_RHU_DRM'),\n",
       "  ('STC', 'L1_RHU_DG Lead'),\n",
       "  ('STC', 'L1_RHU_DM Lead')],\n",
       " [('STC', 'SC2_RHU_DRM'), ('STC', 'C1_RHU_DM'), ('STC', 'C1_AMM_DM')],\n",
       " [('STC', 'SC2_RHU_DRM'), ('STC', 'C1_RHU_DM'), ('STC', 'C1_RHU_Coordinator')],\n",
       " [('STC', 'SC2_RHU_DRM'), ('STC', 'C1_AMM_DM'), ('STC', 'C1_RHU_Coordinator')],\n",
       " [('STC', 'L1_RHU_AI Lead'),\n",
       "  ('STC', 'L1_RHU_DG Lead'),\n",
       "  ('STC', 'L1_RHU_DM Lead')],\n",
       " [('STC', 'C1_RHU_DM'), ('STC', 'C1_AMM_DM'), ('STC', 'C1_RHU_Coordinator')],\n",
       " [('STC', 'P1_RHU_BDM'),\n",
       "  ('STC', 'SC2_RHU_DRM'),\n",
       "  ('STC', 'L1_RHU_AI Lead'),\n",
       "  ('STC', 'L1_RHU_DG Lead')],\n",
       " [('STC', 'P1_RHU_BDM'),\n",
       "  ('STC', 'SC2_RHU_DRM'),\n",
       "  ('STC', 'L1_RHU_AI Lead'),\n",
       "  ('STC', 'L1_RHU_DM Lead')],\n",
       " [('STC', 'P1_RHU_BDM'),\n",
       "  ('STC', 'SC2_RHU_DRM'),\n",
       "  ('STC', 'L1_RHU_DG Lead'),\n",
       "  ('STC', 'L1_RHU_DM Lead')],\n",
       " [('STC', 'P1_RHU_BDM'),\n",
       "  ('STC', 'SC2_RHU_DRM'),\n",
       "  ('STC', 'C1_RHU_DM'),\n",
       "  ('STC', 'C1_AMM_DM')],\n",
       " [('STC', 'P1_RHU_BDM'),\n",
       "  ('STC', 'SC2_RHU_DRM'),\n",
       "  ('STC', 'C1_RHU_DM'),\n",
       "  ('STC', 'C1_RHU_Coordinator')],\n",
       " [('STC', 'P1_RHU_BDM'),\n",
       "  ('STC', 'SC2_RHU_DRM'),\n",
       "  ('STC', 'C1_AMM_DM'),\n",
       "  ('STC', 'C1_RHU_Coordinator')],\n",
       " [('STC', 'P1_RHU_BDM'),\n",
       "  ('STC', 'L1_RHU_AI Lead'),\n",
       "  ('STC', 'L1_RHU_DG Lead'),\n",
       "  ('STC', 'L1_RHU_DM Lead')],\n",
       " [('STC', 'P1_RHU_BDM'),\n",
       "  ('STC', 'C1_RHU_DM'),\n",
       "  ('STC', 'C1_AMM_DM'),\n",
       "  ('STC', 'C1_RHU_Coordinator')],\n",
       " [('STC', 'SC2_RHU_DRM'),\n",
       "  ('STC', 'L1_RHU_AI Lead'),\n",
       "  ('STC', 'L1_RHU_DG Lead'),\n",
       "  ('STC', 'L1_RHU_DM Lead')],\n",
       " [('STC', 'SC2_RHU_DRM'),\n",
       "  ('STC', 'C1_RHU_DM'),\n",
       "  ('STC', 'C1_AMM_DM'),\n",
       "  ('STC', 'C1_RHU_Coordinator')],\n",
       " [('STC', 'P1_RHU_BDM'),\n",
       "  ('STC', 'SC2_RHU_DRM'),\n",
       "  ('STC', 'L1_RHU_AI Lead'),\n",
       "  ('STC', 'L1_RHU_DG Lead'),\n",
       "  ('STC', 'L1_RHU_DM Lead')],\n",
       " [('STC', 'P1_RHU_BDM'),\n",
       "  ('STC', 'SC2_RHU_DRM'),\n",
       "  ('STC', 'C1_RHU_DM'),\n",
       "  ('STC', 'C1_AMM_DM'),\n",
       "  ('STC', 'C1_RHU_Coordinator')]]"
      ]
     },
     "execution_count": 20,
     "metadata": {},
     "output_type": "execute_result"
    }
   ],
   "source": [
    "pipline_constraints"
   ]
  },
  {
   "cell_type": "code",
   "execution_count": 21,
   "id": "ebe3a817",
   "metadata": {},
   "outputs": [
    {
     "data": {
      "text/plain": [
       "[('STC', 'P1_RHU_BDM'), ('STC', 'SC2_RHU_DRM')]"
      ]
     },
     "execution_count": 21,
     "metadata": {},
     "output_type": "execute_result"
    }
   ],
   "source": [
    "pipline_constraints[0]"
   ]
  },
  {
   "cell_type": "code",
   "execution_count": 22,
   "id": "0d278631",
   "metadata": {},
   "outputs": [
    {
     "data": {
      "text/plain": [
       "'BDM'"
      ]
     },
     "execution_count": 22,
     "metadata": {},
     "output_type": "execute_result"
    }
   ],
   "source": [
    "TASKS[pipline_constraints[0][0]]['skillset']"
   ]
  },
  {
   "cell_type": "code",
   "execution_count": 23,
   "id": "368f8d6a",
   "metadata": {},
   "outputs": [],
   "source": [
    "#For any overlap tasks the sum of utiliztion factor should be less than or equal \n",
    "for r in model.RESOURCES:\n",
    "        \n",
    "\n",
    "    # pipleine constraints (can apply to any resource of the specific skillset)       \n",
    "    for pipline_constraint in pipline_constraints :        \n",
    "        #if RESOURCES[r]['skillset']==TASKS[pipline_constraint[0]]['skillset'] :   \n",
    "        # if TASKS[pipline_constraint[0]]['skillset'] in RESOURCES[r]['skillset']  :         \n",
    "            \n",
    "        \n",
    "        model.cons.add(\n",
    "                RESOURCES[r]['slots'] >= sum( TASKS[proj_task].get('uf',1) * model.prt_improper_var[proj_task[0],proj_task[1],r] \n",
    "                    for proj_task in pipline_constraint )\n",
    "        )\n",
    "            \n",
    "            \n",
    "    # resource constraints (specific to this resource)  \n",
    "        \n",
    "    for resource_constraint in new_resource_constraint.get(r,[]) : \n",
    "        \n",
    "        model.cons.add(        \n",
    "             RESOURCES[r]['slots'] >= sum( TASKS[proj_task].get('uf',1) * model.prt_improper_var[proj_task[0],proj_task[1],r] \n",
    "                     for proj_task in resource_constraint['pipeline'])\n",
    "            \n",
    "                  + sum(TASKS[proj_task].get('uf',1) for proj_task in resource_constraint['ongoing'])\n",
    "                    )\n"
   ]
  },
  {
   "cell_type": "code",
   "execution_count": 24,
   "id": "556bc8e0",
   "metadata": {},
   "outputs": [],
   "source": [
    "expr=6 * sum(model.ra_var[r] for r in model.RESOURCES) + 4 * sum(model.ta_var[t] for t in model.pipeline_taskids_only)\n",
    "model.objective=Objective(expr=expr,sense=maximize)"
   ]
  },
  {
   "cell_type": "code",
   "execution_count": 25,
   "id": "0c51c59f",
   "metadata": {},
   "outputs": [],
   "source": [
    "os.environ['NEOS_EMAIL'] = 'amr.mansour@devoteam.com'\n",
    "opt = SolverFactory('cbc')  # Select solver\n",
    "solver_manager = SolverManagerFactory('neos')  # Solve in neos server\n",
    "results = solver_manager.solve(model, opt=opt)"
   ]
  },
  {
   "cell_type": "code",
   "execution_count": 26,
   "id": "7947f1bf",
   "metadata": {
    "scrolled": true
   },
   "outputs": [
    {
     "name": "stdout",
     "output_type": "stream",
     "text": [
      "{'STC': {'P1_RHU_BDM': ['Saleh Samaneh'], 'SC2_RHU_DRM': [], 'L1_RHU_AI Lead': ['Amr Mansour'], 'L1_RHU_DG Lead': [], 'L1_RHU_DM Lead': ['Saleh Samaneh'], 'C1_RHU_DM': ['Mohamed unassigned'], 'C1_AMM_DM': ['Mohamed unassigned'], 'C1_RHU_Coordinator': ['Ibrahim Kareem']}}\n"
     ]
    }
   ],
   "source": [
    "def get_resource_assignment(resource_assignment):\n",
    "    resource_table = {\n",
    "        p: {t: [] for t in pipeline_project_tasks[p]} \n",
    "        for p in model.pipeline_projects}\n",
    "    \n",
    "    \n",
    "    for p in model.pipeline_projects:\n",
    "        for t in pipeline_project_tasks[p]:\n",
    "            for r in model.RESOURCES :\n",
    "                    if model.prt_improper_var[p, t, r].value == 1:\n",
    "                        resource_table[p][t].append(r)\n",
    "    return resource_table\n",
    "\n",
    "ra_dict=get_resource_assignment(model.prt_improper_var)\n",
    "print(ra_dict)"
   ]
  },
  {
   "cell_type": "code",
   "execution_count": 27,
   "id": "d335ea3b",
   "metadata": {},
   "outputs": [
    {
     "data": {
      "text/plain": [
       "[]"
      ]
     },
     "execution_count": 27,
     "metadata": {},
     "output_type": "execute_result"
    }
   ],
   "source": [
    "ra_dict['STC']['SC2_RHU_DRM']"
   ]
  },
  {
   "cell_type": "code",
   "execution_count": 28,
   "id": "be9e8d17",
   "metadata": {},
   "outputs": [
    {
     "data": {
      "text/plain": [
       "{'STC': {'P1_RHU_BDM': ['Saleh Samaneh'],\n",
       "  'SC2_RHU_DRM': [],\n",
       "  'L1_RHU_AI Lead': ['Amr Mansour'],\n",
       "  'L1_RHU_DG Lead': [],\n",
       "  'L1_RHU_DM Lead': ['Saleh Samaneh'],\n",
       "  'C1_RHU_DM': ['Mohamed unassigned'],\n",
       "  'C1_AMM_DM': ['Mohamed unassigned'],\n",
       "  'C1_RHU_Coordinator': ['Ibrahim Kareem']}}"
      ]
     },
     "execution_count": 28,
     "metadata": {},
     "output_type": "execute_result"
    }
   ],
   "source": [
    "ra_dict"
   ]
  },
  {
   "cell_type": "code",
   "execution_count": 29,
   "id": "79338b89",
   "metadata": {},
   "outputs": [],
   "source": [
    "pd_2=utils.convert_to_pd(pipeline_tasks)\n",
    "\n",
    "\n",
    "# utils.plot_gantt_chart(pd_1)"
   ]
  },
  {
   "cell_type": "code",
   "execution_count": 30,
   "id": "ddfd7001",
   "metadata": {},
   "outputs": [
    {
     "data": {
      "text/html": [
       "<div>\n",
       "<style scoped>\n",
       "    .dataframe tbody tr th:only-of-type {\n",
       "        vertical-align: middle;\n",
       "    }\n",
       "\n",
       "    .dataframe tbody tr th {\n",
       "        vertical-align: top;\n",
       "    }\n",
       "\n",
       "    .dataframe thead th {\n",
       "        text-align: right;\n",
       "    }\n",
       "</style>\n",
       "<table border=\"1\" class=\"dataframe\">\n",
       "  <thead>\n",
       "    <tr style=\"text-align: right;\">\n",
       "      <th></th>\n",
       "      <th>Project</th>\n",
       "      <th>Task</th>\n",
       "      <th>Start</th>\n",
       "      <th>End</th>\n",
       "      <th>Role</th>\n",
       "      <th>Type</th>\n",
       "    </tr>\n",
       "  </thead>\n",
       "  <tbody>\n",
       "    <tr>\n",
       "      <th>0</th>\n",
       "      <td>STC</td>\n",
       "      <td>P1_RHU_BDM</td>\n",
       "      <td>2023-01-01</td>\n",
       "      <td>2023-02-11</td>\n",
       "      <td>BDM</td>\n",
       "      <td>pipeline</td>\n",
       "    </tr>\n",
       "    <tr>\n",
       "      <th>1</th>\n",
       "      <td>STC</td>\n",
       "      <td>SC2_RHU_DRM</td>\n",
       "      <td>2023-01-01</td>\n",
       "      <td>2023-02-11</td>\n",
       "      <td>DRM</td>\n",
       "      <td>pipeline</td>\n",
       "    </tr>\n",
       "    <tr>\n",
       "      <th>2</th>\n",
       "      <td>STC</td>\n",
       "      <td>L1_RHU_AI Lead</td>\n",
       "      <td>2023-01-07</td>\n",
       "      <td>2023-01-19</td>\n",
       "      <td>AI Lead</td>\n",
       "      <td>pipeline</td>\n",
       "    </tr>\n",
       "    <tr>\n",
       "      <th>3</th>\n",
       "      <td>STC</td>\n",
       "      <td>L1_RHU_DG Lead</td>\n",
       "      <td>2023-01-07</td>\n",
       "      <td>2023-01-19</td>\n",
       "      <td>DG Lead</td>\n",
       "      <td>pipeline</td>\n",
       "    </tr>\n",
       "    <tr>\n",
       "      <th>4</th>\n",
       "      <td>STC</td>\n",
       "      <td>L1_RHU_DM Lead</td>\n",
       "      <td>2023-01-07</td>\n",
       "      <td>2023-01-19</td>\n",
       "      <td>DM Lead</td>\n",
       "      <td>pipeline</td>\n",
       "    </tr>\n",
       "    <tr>\n",
       "      <th>5</th>\n",
       "      <td>STC</td>\n",
       "      <td>C1_RHU_DM</td>\n",
       "      <td>2023-01-19</td>\n",
       "      <td>2023-02-08</td>\n",
       "      <td>DM</td>\n",
       "      <td>pipeline</td>\n",
       "    </tr>\n",
       "    <tr>\n",
       "      <th>6</th>\n",
       "      <td>STC</td>\n",
       "      <td>C1_AMM_DM</td>\n",
       "      <td>2023-01-19</td>\n",
       "      <td>2023-02-08</td>\n",
       "      <td>DM</td>\n",
       "      <td>pipeline</td>\n",
       "    </tr>\n",
       "    <tr>\n",
       "      <th>7</th>\n",
       "      <td>STC</td>\n",
       "      <td>C1_RHU_Coordinator</td>\n",
       "      <td>2023-01-19</td>\n",
       "      <td>2023-02-11</td>\n",
       "      <td>Coordinator</td>\n",
       "      <td>pipeline</td>\n",
       "    </tr>\n",
       "  </tbody>\n",
       "</table>\n",
       "</div>"
      ],
      "text/plain": [
       "  Project                Task      Start        End         Role      Type\n",
       "0     STC          P1_RHU_BDM 2023-01-01 2023-02-11          BDM  pipeline\n",
       "1     STC         SC2_RHU_DRM 2023-01-01 2023-02-11          DRM  pipeline\n",
       "2     STC      L1_RHU_AI Lead 2023-01-07 2023-01-19      AI Lead  pipeline\n",
       "3     STC      L1_RHU_DG Lead 2023-01-07 2023-01-19      DG Lead  pipeline\n",
       "4     STC      L1_RHU_DM Lead 2023-01-07 2023-01-19      DM Lead  pipeline\n",
       "5     STC           C1_RHU_DM 2023-01-19 2023-02-08           DM  pipeline\n",
       "6     STC           C1_AMM_DM 2023-01-19 2023-02-08           DM  pipeline\n",
       "7     STC  C1_RHU_Coordinator 2023-01-19 2023-02-11  Coordinator  pipeline"
      ]
     },
     "execution_count": 30,
     "metadata": {},
     "output_type": "execute_result"
    }
   ],
   "source": [
    "pd_2"
   ]
  },
  {
   "cell_type": "code",
   "execution_count": 34,
   "id": "2401552d",
   "metadata": {},
   "outputs": [],
   "source": [
    "def assignment_fullfilment(project,task):\n",
    "    dict_1=ra_dict[project]\n",
    "    try :\n",
    "        assignment=dict_1[task][0]\n",
    "    except: \n",
    "        assignment=\"To be Hired\"\n",
    "    return assignment\n",
    "    \n",
    "    \n",
    "pd_2['assignment_status']=pd_2[[\"Project\",\"Task\"]].apply(lambda x:assignment_fullfilment(*x),axis=1)"
   ]
  },
  {
   "cell_type": "code",
   "execution_count": 35,
   "id": "507de954",
   "metadata": {},
   "outputs": [
    {
     "data": {
      "text/html": [
       "<div>\n",
       "<style scoped>\n",
       "    .dataframe tbody tr th:only-of-type {\n",
       "        vertical-align: middle;\n",
       "    }\n",
       "\n",
       "    .dataframe tbody tr th {\n",
       "        vertical-align: top;\n",
       "    }\n",
       "\n",
       "    .dataframe thead th {\n",
       "        text-align: right;\n",
       "    }\n",
       "</style>\n",
       "<table border=\"1\" class=\"dataframe\">\n",
       "  <thead>\n",
       "    <tr style=\"text-align: right;\">\n",
       "      <th></th>\n",
       "      <th>Project</th>\n",
       "      <th>Task</th>\n",
       "      <th>Start</th>\n",
       "      <th>End</th>\n",
       "      <th>Role</th>\n",
       "      <th>Type</th>\n",
       "      <th>assignment_status</th>\n",
       "    </tr>\n",
       "  </thead>\n",
       "  <tbody>\n",
       "    <tr>\n",
       "      <th>0</th>\n",
       "      <td>STC</td>\n",
       "      <td>P1_RHU_BDM</td>\n",
       "      <td>2023-01-01</td>\n",
       "      <td>2023-02-11</td>\n",
       "      <td>BDM</td>\n",
       "      <td>pipeline</td>\n",
       "      <td>Saleh Samaneh</td>\n",
       "    </tr>\n",
       "    <tr>\n",
       "      <th>1</th>\n",
       "      <td>STC</td>\n",
       "      <td>SC2_RHU_DRM</td>\n",
       "      <td>2023-01-01</td>\n",
       "      <td>2023-02-11</td>\n",
       "      <td>DRM</td>\n",
       "      <td>pipeline</td>\n",
       "      <td>To be Hired</td>\n",
       "    </tr>\n",
       "    <tr>\n",
       "      <th>2</th>\n",
       "      <td>STC</td>\n",
       "      <td>L1_RHU_AI Lead</td>\n",
       "      <td>2023-01-07</td>\n",
       "      <td>2023-01-19</td>\n",
       "      <td>AI Lead</td>\n",
       "      <td>pipeline</td>\n",
       "      <td>Amr Mansour</td>\n",
       "    </tr>\n",
       "    <tr>\n",
       "      <th>3</th>\n",
       "      <td>STC</td>\n",
       "      <td>L1_RHU_DG Lead</td>\n",
       "      <td>2023-01-07</td>\n",
       "      <td>2023-01-19</td>\n",
       "      <td>DG Lead</td>\n",
       "      <td>pipeline</td>\n",
       "      <td>To be Hired</td>\n",
       "    </tr>\n",
       "    <tr>\n",
       "      <th>4</th>\n",
       "      <td>STC</td>\n",
       "      <td>L1_RHU_DM Lead</td>\n",
       "      <td>2023-01-07</td>\n",
       "      <td>2023-01-19</td>\n",
       "      <td>DM Lead</td>\n",
       "      <td>pipeline</td>\n",
       "      <td>Saleh Samaneh</td>\n",
       "    </tr>\n",
       "    <tr>\n",
       "      <th>5</th>\n",
       "      <td>STC</td>\n",
       "      <td>C1_RHU_DM</td>\n",
       "      <td>2023-01-19</td>\n",
       "      <td>2023-02-08</td>\n",
       "      <td>DM</td>\n",
       "      <td>pipeline</td>\n",
       "      <td>Mohamed unassigned</td>\n",
       "    </tr>\n",
       "    <tr>\n",
       "      <th>6</th>\n",
       "      <td>STC</td>\n",
       "      <td>C1_AMM_DM</td>\n",
       "      <td>2023-01-19</td>\n",
       "      <td>2023-02-08</td>\n",
       "      <td>DM</td>\n",
       "      <td>pipeline</td>\n",
       "      <td>Mohamed unassigned</td>\n",
       "    </tr>\n",
       "    <tr>\n",
       "      <th>7</th>\n",
       "      <td>STC</td>\n",
       "      <td>C1_RHU_Coordinator</td>\n",
       "      <td>2023-01-19</td>\n",
       "      <td>2023-02-11</td>\n",
       "      <td>Coordinator</td>\n",
       "      <td>pipeline</td>\n",
       "      <td>Ibrahim Kareem</td>\n",
       "    </tr>\n",
       "  </tbody>\n",
       "</table>\n",
       "</div>"
      ],
      "text/plain": [
       "  Project                Task      Start        End         Role      Type  \\\n",
       "0     STC          P1_RHU_BDM 2023-01-01 2023-02-11          BDM  pipeline   \n",
       "1     STC         SC2_RHU_DRM 2023-01-01 2023-02-11          DRM  pipeline   \n",
       "2     STC      L1_RHU_AI Lead 2023-01-07 2023-01-19      AI Lead  pipeline   \n",
       "3     STC      L1_RHU_DG Lead 2023-01-07 2023-01-19      DG Lead  pipeline   \n",
       "4     STC      L1_RHU_DM Lead 2023-01-07 2023-01-19      DM Lead  pipeline   \n",
       "5     STC           C1_RHU_DM 2023-01-19 2023-02-08           DM  pipeline   \n",
       "6     STC           C1_AMM_DM 2023-01-19 2023-02-08           DM  pipeline   \n",
       "7     STC  C1_RHU_Coordinator 2023-01-19 2023-02-11  Coordinator  pipeline   \n",
       "\n",
       "    assignment_status  \n",
       "0       Saleh Samaneh  \n",
       "1         To be Hired  \n",
       "2         Amr Mansour  \n",
       "3         To be Hired  \n",
       "4       Saleh Samaneh  \n",
       "5  Mohamed unassigned  \n",
       "6  Mohamed unassigned  \n",
       "7      Ibrahim Kareem  "
      ]
     },
     "execution_count": 35,
     "metadata": {},
     "output_type": "execute_result"
    }
   ],
   "source": [
    "pd_2"
   ]
  },
  {
   "cell_type": "code",
   "execution_count": 36,
   "id": "1dbd182f",
   "metadata": {},
   "outputs": [
    {
     "data": {
      "application/vnd.plotly.v1+json": {
       "config": {
        "plotlyServerURL": "https://plot.ly"
       },
       "data": [
        {
         "alignmentgroup": "True",
         "base": [
          "2023-01-01T00:00:00",
          "2023-01-07T00:00:00"
         ],
         "hovertemplate": "assignment_status=Saleh Samaneh<br>Start=%{base}<br>End=%{x}<br>Task=%{y}<extra></extra>",
         "legendgroup": "Saleh Samaneh",
         "marker": {
          "color": "#636efa",
          "pattern": {
           "shape": ""
          }
         },
         "name": "Saleh Samaneh",
         "offsetgroup": "Saleh Samaneh",
         "orientation": "h",
         "showlegend": true,
         "textposition": "auto",
         "type": "bar",
         "x": [
          3542400000,
          1036800000
         ],
         "xaxis": "x",
         "y": [
          "P1_RHU_BDM",
          "L1_RHU_DM Lead"
         ],
         "yaxis": "y"
        },
        {
         "alignmentgroup": "True",
         "base": [
          "2023-01-01T00:00:00",
          "2023-01-07T00:00:00"
         ],
         "hovertemplate": "assignment_status=To be Hired<br>Start=%{base}<br>End=%{x}<br>Task=%{y}<extra></extra>",
         "legendgroup": "To be Hired",
         "marker": {
          "color": "#EF553B",
          "pattern": {
           "shape": ""
          }
         },
         "name": "To be Hired",
         "offsetgroup": "To be Hired",
         "orientation": "h",
         "showlegend": true,
         "textposition": "auto",
         "type": "bar",
         "x": [
          3542400000,
          1036800000
         ],
         "xaxis": "x",
         "y": [
          "SC2_RHU_DRM",
          "L1_RHU_DG Lead"
         ],
         "yaxis": "y"
        },
        {
         "alignmentgroup": "True",
         "base": [
          "2023-01-07T00:00:00"
         ],
         "hovertemplate": "assignment_status=Amr Mansour<br>Start=%{base}<br>End=%{x}<br>Task=%{y}<extra></extra>",
         "legendgroup": "Amr Mansour",
         "marker": {
          "color": "#00cc96",
          "pattern": {
           "shape": ""
          }
         },
         "name": "Amr Mansour",
         "offsetgroup": "Amr Mansour",
         "orientation": "h",
         "showlegend": true,
         "textposition": "auto",
         "type": "bar",
         "x": [
          1036800000
         ],
         "xaxis": "x",
         "y": [
          "L1_RHU_AI Lead"
         ],
         "yaxis": "y"
        },
        {
         "alignmentgroup": "True",
         "base": [
          "2023-01-19T00:00:00",
          "2023-01-19T00:00:00"
         ],
         "hovertemplate": "assignment_status=Mohamed unassigned<br>Start=%{base}<br>End=%{x}<br>Task=%{y}<extra></extra>",
         "legendgroup": "Mohamed unassigned",
         "marker": {
          "color": "#ab63fa",
          "pattern": {
           "shape": ""
          }
         },
         "name": "Mohamed unassigned",
         "offsetgroup": "Mohamed unassigned",
         "orientation": "h",
         "showlegend": true,
         "textposition": "auto",
         "type": "bar",
         "x": [
          1728000000,
          1728000000
         ],
         "xaxis": "x",
         "y": [
          "C1_RHU_DM",
          "C1_AMM_DM"
         ],
         "yaxis": "y"
        },
        {
         "alignmentgroup": "True",
         "base": [
          "2023-01-19T00:00:00"
         ],
         "hovertemplate": "assignment_status=Ibrahim Kareem<br>Start=%{base}<br>End=%{x}<br>Task=%{y}<extra></extra>",
         "legendgroup": "Ibrahim Kareem",
         "marker": {
          "color": "#FFA15A",
          "pattern": {
           "shape": ""
          }
         },
         "name": "Ibrahim Kareem",
         "offsetgroup": "Ibrahim Kareem",
         "orientation": "h",
         "showlegend": true,
         "textposition": "auto",
         "type": "bar",
         "x": [
          1987200000
         ],
         "xaxis": "x",
         "y": [
          "C1_RHU_Coordinator"
         ],
         "yaxis": "y"
        }
       ],
       "layout": {
        "barmode": "overlay",
        "legend": {
         "title": {
          "text": "assignment_status"
         },
         "tracegroupgap": 0
        },
        "margin": {
         "t": 60
        },
        "template": {
         "data": {
          "bar": [
           {
            "error_x": {
             "color": "#2a3f5f"
            },
            "error_y": {
             "color": "#2a3f5f"
            },
            "marker": {
             "line": {
              "color": "#E5ECF6",
              "width": 0.5
             },
             "pattern": {
              "fillmode": "overlay",
              "size": 10,
              "solidity": 0.2
             }
            },
            "type": "bar"
           }
          ],
          "barpolar": [
           {
            "marker": {
             "line": {
              "color": "#E5ECF6",
              "width": 0.5
             },
             "pattern": {
              "fillmode": "overlay",
              "size": 10,
              "solidity": 0.2
             }
            },
            "type": "barpolar"
           }
          ],
          "carpet": [
           {
            "aaxis": {
             "endlinecolor": "#2a3f5f",
             "gridcolor": "white",
             "linecolor": "white",
             "minorgridcolor": "white",
             "startlinecolor": "#2a3f5f"
            },
            "baxis": {
             "endlinecolor": "#2a3f5f",
             "gridcolor": "white",
             "linecolor": "white",
             "minorgridcolor": "white",
             "startlinecolor": "#2a3f5f"
            },
            "type": "carpet"
           }
          ],
          "choropleth": [
           {
            "colorbar": {
             "outlinewidth": 0,
             "ticks": ""
            },
            "type": "choropleth"
           }
          ],
          "contour": [
           {
            "colorbar": {
             "outlinewidth": 0,
             "ticks": ""
            },
            "colorscale": [
             [
              0,
              "#0d0887"
             ],
             [
              0.1111111111111111,
              "#46039f"
             ],
             [
              0.2222222222222222,
              "#7201a8"
             ],
             [
              0.3333333333333333,
              "#9c179e"
             ],
             [
              0.4444444444444444,
              "#bd3786"
             ],
             [
              0.5555555555555556,
              "#d8576b"
             ],
             [
              0.6666666666666666,
              "#ed7953"
             ],
             [
              0.7777777777777778,
              "#fb9f3a"
             ],
             [
              0.8888888888888888,
              "#fdca26"
             ],
             [
              1,
              "#f0f921"
             ]
            ],
            "type": "contour"
           }
          ],
          "contourcarpet": [
           {
            "colorbar": {
             "outlinewidth": 0,
             "ticks": ""
            },
            "type": "contourcarpet"
           }
          ],
          "heatmap": [
           {
            "colorbar": {
             "outlinewidth": 0,
             "ticks": ""
            },
            "colorscale": [
             [
              0,
              "#0d0887"
             ],
             [
              0.1111111111111111,
              "#46039f"
             ],
             [
              0.2222222222222222,
              "#7201a8"
             ],
             [
              0.3333333333333333,
              "#9c179e"
             ],
             [
              0.4444444444444444,
              "#bd3786"
             ],
             [
              0.5555555555555556,
              "#d8576b"
             ],
             [
              0.6666666666666666,
              "#ed7953"
             ],
             [
              0.7777777777777778,
              "#fb9f3a"
             ],
             [
              0.8888888888888888,
              "#fdca26"
             ],
             [
              1,
              "#f0f921"
             ]
            ],
            "type": "heatmap"
           }
          ],
          "heatmapgl": [
           {
            "colorbar": {
             "outlinewidth": 0,
             "ticks": ""
            },
            "colorscale": [
             [
              0,
              "#0d0887"
             ],
             [
              0.1111111111111111,
              "#46039f"
             ],
             [
              0.2222222222222222,
              "#7201a8"
             ],
             [
              0.3333333333333333,
              "#9c179e"
             ],
             [
              0.4444444444444444,
              "#bd3786"
             ],
             [
              0.5555555555555556,
              "#d8576b"
             ],
             [
              0.6666666666666666,
              "#ed7953"
             ],
             [
              0.7777777777777778,
              "#fb9f3a"
             ],
             [
              0.8888888888888888,
              "#fdca26"
             ],
             [
              1,
              "#f0f921"
             ]
            ],
            "type": "heatmapgl"
           }
          ],
          "histogram": [
           {
            "marker": {
             "pattern": {
              "fillmode": "overlay",
              "size": 10,
              "solidity": 0.2
             }
            },
            "type": "histogram"
           }
          ],
          "histogram2d": [
           {
            "colorbar": {
             "outlinewidth": 0,
             "ticks": ""
            },
            "colorscale": [
             [
              0,
              "#0d0887"
             ],
             [
              0.1111111111111111,
              "#46039f"
             ],
             [
              0.2222222222222222,
              "#7201a8"
             ],
             [
              0.3333333333333333,
              "#9c179e"
             ],
             [
              0.4444444444444444,
              "#bd3786"
             ],
             [
              0.5555555555555556,
              "#d8576b"
             ],
             [
              0.6666666666666666,
              "#ed7953"
             ],
             [
              0.7777777777777778,
              "#fb9f3a"
             ],
             [
              0.8888888888888888,
              "#fdca26"
             ],
             [
              1,
              "#f0f921"
             ]
            ],
            "type": "histogram2d"
           }
          ],
          "histogram2dcontour": [
           {
            "colorbar": {
             "outlinewidth": 0,
             "ticks": ""
            },
            "colorscale": [
             [
              0,
              "#0d0887"
             ],
             [
              0.1111111111111111,
              "#46039f"
             ],
             [
              0.2222222222222222,
              "#7201a8"
             ],
             [
              0.3333333333333333,
              "#9c179e"
             ],
             [
              0.4444444444444444,
              "#bd3786"
             ],
             [
              0.5555555555555556,
              "#d8576b"
             ],
             [
              0.6666666666666666,
              "#ed7953"
             ],
             [
              0.7777777777777778,
              "#fb9f3a"
             ],
             [
              0.8888888888888888,
              "#fdca26"
             ],
             [
              1,
              "#f0f921"
             ]
            ],
            "type": "histogram2dcontour"
           }
          ],
          "mesh3d": [
           {
            "colorbar": {
             "outlinewidth": 0,
             "ticks": ""
            },
            "type": "mesh3d"
           }
          ],
          "parcoords": [
           {
            "line": {
             "colorbar": {
              "outlinewidth": 0,
              "ticks": ""
             }
            },
            "type": "parcoords"
           }
          ],
          "pie": [
           {
            "automargin": true,
            "type": "pie"
           }
          ],
          "scatter": [
           {
            "fillpattern": {
             "fillmode": "overlay",
             "size": 10,
             "solidity": 0.2
            },
            "type": "scatter"
           }
          ],
          "scatter3d": [
           {
            "line": {
             "colorbar": {
              "outlinewidth": 0,
              "ticks": ""
             }
            },
            "marker": {
             "colorbar": {
              "outlinewidth": 0,
              "ticks": ""
             }
            },
            "type": "scatter3d"
           }
          ],
          "scattercarpet": [
           {
            "marker": {
             "colorbar": {
              "outlinewidth": 0,
              "ticks": ""
             }
            },
            "type": "scattercarpet"
           }
          ],
          "scattergeo": [
           {
            "marker": {
             "colorbar": {
              "outlinewidth": 0,
              "ticks": ""
             }
            },
            "type": "scattergeo"
           }
          ],
          "scattergl": [
           {
            "marker": {
             "colorbar": {
              "outlinewidth": 0,
              "ticks": ""
             }
            },
            "type": "scattergl"
           }
          ],
          "scattermapbox": [
           {
            "marker": {
             "colorbar": {
              "outlinewidth": 0,
              "ticks": ""
             }
            },
            "type": "scattermapbox"
           }
          ],
          "scatterpolar": [
           {
            "marker": {
             "colorbar": {
              "outlinewidth": 0,
              "ticks": ""
             }
            },
            "type": "scatterpolar"
           }
          ],
          "scatterpolargl": [
           {
            "marker": {
             "colorbar": {
              "outlinewidth": 0,
              "ticks": ""
             }
            },
            "type": "scatterpolargl"
           }
          ],
          "scatterternary": [
           {
            "marker": {
             "colorbar": {
              "outlinewidth": 0,
              "ticks": ""
             }
            },
            "type": "scatterternary"
           }
          ],
          "surface": [
           {
            "colorbar": {
             "outlinewidth": 0,
             "ticks": ""
            },
            "colorscale": [
             [
              0,
              "#0d0887"
             ],
             [
              0.1111111111111111,
              "#46039f"
             ],
             [
              0.2222222222222222,
              "#7201a8"
             ],
             [
              0.3333333333333333,
              "#9c179e"
             ],
             [
              0.4444444444444444,
              "#bd3786"
             ],
             [
              0.5555555555555556,
              "#d8576b"
             ],
             [
              0.6666666666666666,
              "#ed7953"
             ],
             [
              0.7777777777777778,
              "#fb9f3a"
             ],
             [
              0.8888888888888888,
              "#fdca26"
             ],
             [
              1,
              "#f0f921"
             ]
            ],
            "type": "surface"
           }
          ],
          "table": [
           {
            "cells": {
             "fill": {
              "color": "#EBF0F8"
             },
             "line": {
              "color": "white"
             }
            },
            "header": {
             "fill": {
              "color": "#C8D4E3"
             },
             "line": {
              "color": "white"
             }
            },
            "type": "table"
           }
          ]
         },
         "layout": {
          "annotationdefaults": {
           "arrowcolor": "#2a3f5f",
           "arrowhead": 0,
           "arrowwidth": 1
          },
          "autotypenumbers": "strict",
          "coloraxis": {
           "colorbar": {
            "outlinewidth": 0,
            "ticks": ""
           }
          },
          "colorscale": {
           "diverging": [
            [
             0,
             "#8e0152"
            ],
            [
             0.1,
             "#c51b7d"
            ],
            [
             0.2,
             "#de77ae"
            ],
            [
             0.3,
             "#f1b6da"
            ],
            [
             0.4,
             "#fde0ef"
            ],
            [
             0.5,
             "#f7f7f7"
            ],
            [
             0.6,
             "#e6f5d0"
            ],
            [
             0.7,
             "#b8e186"
            ],
            [
             0.8,
             "#7fbc41"
            ],
            [
             0.9,
             "#4d9221"
            ],
            [
             1,
             "#276419"
            ]
           ],
           "sequential": [
            [
             0,
             "#0d0887"
            ],
            [
             0.1111111111111111,
             "#46039f"
            ],
            [
             0.2222222222222222,
             "#7201a8"
            ],
            [
             0.3333333333333333,
             "#9c179e"
            ],
            [
             0.4444444444444444,
             "#bd3786"
            ],
            [
             0.5555555555555556,
             "#d8576b"
            ],
            [
             0.6666666666666666,
             "#ed7953"
            ],
            [
             0.7777777777777778,
             "#fb9f3a"
            ],
            [
             0.8888888888888888,
             "#fdca26"
            ],
            [
             1,
             "#f0f921"
            ]
           ],
           "sequentialminus": [
            [
             0,
             "#0d0887"
            ],
            [
             0.1111111111111111,
             "#46039f"
            ],
            [
             0.2222222222222222,
             "#7201a8"
            ],
            [
             0.3333333333333333,
             "#9c179e"
            ],
            [
             0.4444444444444444,
             "#bd3786"
            ],
            [
             0.5555555555555556,
             "#d8576b"
            ],
            [
             0.6666666666666666,
             "#ed7953"
            ],
            [
             0.7777777777777778,
             "#fb9f3a"
            ],
            [
             0.8888888888888888,
             "#fdca26"
            ],
            [
             1,
             "#f0f921"
            ]
           ]
          },
          "colorway": [
           "#636efa",
           "#EF553B",
           "#00cc96",
           "#ab63fa",
           "#FFA15A",
           "#19d3f3",
           "#FF6692",
           "#B6E880",
           "#FF97FF",
           "#FECB52"
          ],
          "font": {
           "color": "#2a3f5f"
          },
          "geo": {
           "bgcolor": "white",
           "lakecolor": "white",
           "landcolor": "#E5ECF6",
           "showlakes": true,
           "showland": true,
           "subunitcolor": "white"
          },
          "hoverlabel": {
           "align": "left"
          },
          "hovermode": "closest",
          "mapbox": {
           "style": "light"
          },
          "paper_bgcolor": "white",
          "plot_bgcolor": "#E5ECF6",
          "polar": {
           "angularaxis": {
            "gridcolor": "white",
            "linecolor": "white",
            "ticks": ""
           },
           "bgcolor": "#E5ECF6",
           "radialaxis": {
            "gridcolor": "white",
            "linecolor": "white",
            "ticks": ""
           }
          },
          "scene": {
           "xaxis": {
            "backgroundcolor": "#E5ECF6",
            "gridcolor": "white",
            "gridwidth": 2,
            "linecolor": "white",
            "showbackground": true,
            "ticks": "",
            "zerolinecolor": "white"
           },
           "yaxis": {
            "backgroundcolor": "#E5ECF6",
            "gridcolor": "white",
            "gridwidth": 2,
            "linecolor": "white",
            "showbackground": true,
            "ticks": "",
            "zerolinecolor": "white"
           },
           "zaxis": {
            "backgroundcolor": "#E5ECF6",
            "gridcolor": "white",
            "gridwidth": 2,
            "linecolor": "white",
            "showbackground": true,
            "ticks": "",
            "zerolinecolor": "white"
           }
          },
          "shapedefaults": {
           "line": {
            "color": "#2a3f5f"
           }
          },
          "ternary": {
           "aaxis": {
            "gridcolor": "white",
            "linecolor": "white",
            "ticks": ""
           },
           "baxis": {
            "gridcolor": "white",
            "linecolor": "white",
            "ticks": ""
           },
           "bgcolor": "#E5ECF6",
           "caxis": {
            "gridcolor": "white",
            "linecolor": "white",
            "ticks": ""
           }
          },
          "title": {
           "x": 0.05
          },
          "xaxis": {
           "automargin": true,
           "gridcolor": "white",
           "linecolor": "white",
           "ticks": "",
           "title": {
            "standoff": 15
           },
           "zerolinecolor": "white",
           "zerolinewidth": 2
          },
          "yaxis": {
           "automargin": true,
           "gridcolor": "white",
           "linecolor": "white",
           "ticks": "",
           "title": {
            "standoff": 15
           },
           "zerolinecolor": "white",
           "zerolinewidth": 2
          }
         }
        },
        "xaxis": {
         "anchor": "y",
         "domain": [
          0,
          1
         ],
         "type": "date"
        },
        "yaxis": {
         "anchor": "x",
         "autorange": "reversed",
         "domain": [
          0,
          1
         ],
         "title": {
          "text": "Task"
         }
        }
       }
      }
     },
     "metadata": {},
     "output_type": "display_data"
    }
   ],
   "source": [
    "utils.plot_assignment_gantt_chart(pd_2)"
   ]
  },
  {
   "cell_type": "code",
   "execution_count": null,
   "id": "23403196",
   "metadata": {},
   "outputs": [
    {
     "data": {
      "text/plain": [
       "{('STC', 'P1_RHU_BDM'): {'start_date': '01 Jan 2023',\n",
       "  'end_date': '11 Feb 2023',\n",
       "  'skillset': 'BDM',\n",
       "  'type': 'pipeline'},\n",
       " ('STC', 'SC2_RHU_DRM'): {'start_date': '01 Jan 2023',\n",
       "  'end_date': '11 Feb 2023',\n",
       "  'skillset': 'DRM',\n",
       "  'type': 'pipeline'},\n",
       " ('STC', 'L1_RHU_AI Lead'): {'start_date': '07 Jan 2023',\n",
       "  'end_date': '19 Jan 2023',\n",
       "  'skillset': 'AI Lead',\n",
       "  'type': 'pipeline'},\n",
       " ('STC', 'L1_RHU_DG Lead'): {'start_date': '07 Jan 2023',\n",
       "  'end_date': '19 Jan 2023',\n",
       "  'skillset': 'DG Lead',\n",
       "  'type': 'pipeline'},\n",
       " ('STC', 'L1_RHU_DM Lead'): {'start_date': '07 Jan 2023',\n",
       "  'end_date': '19 Jan 2023',\n",
       "  'skillset': 'DM Lead',\n",
       "  'type': 'pipeline'},\n",
       " ('STC', 'C1_RHU_DM'): {'start_date': '19 Jan 2023',\n",
       "  'end_date': '08 Feb 2023',\n",
       "  'skillset': 'DM',\n",
       "  'type': 'pipeline'},\n",
       " ('STC', 'C1_AMM_DM'): {'start_date': '19 Jan 2023',\n",
       "  'end_date': '08 Feb 2023',\n",
       "  'skillset': 'DM',\n",
       "  'type': 'pipeline'},\n",
       " ('STC', 'C1_RHU_Coordinator'): {'start_date': '19 Jan 2023',\n",
       "  'end_date': '11 Feb 2023',\n",
       "  'skillset': 'Coordinator',\n",
       "  'type': 'pipeline'}}"
      ]
     },
     "execution_count": 27,
     "metadata": {},
     "output_type": "execute_result"
    }
   ],
   "source": [
    "pipeline_tasks"
   ]
  },
  {
   "cell_type": "code",
   "execution_count": 48,
   "id": "3a40521d",
   "metadata": {},
   "outputs": [
    {
     "data": {
      "text/plain": [
       "{'skillset': ['DQ Lead', 'DM Lead', 'BDM'],\n",
       " 'seniority': 'P1',\n",
       " 'slots': 3,\n",
       " 'hire_date': Timestamp('2021-01-01 00:00:00'),\n",
       " 'num_ongoing_projects': 2,\n",
       " 'current_load': {'ong_0': {'project': 'MOJ',\n",
       "   'start_date': '01 Jan 2022',\n",
       "   'end_date': '31 Dec 2022',\n",
       "   'uf': 1},\n",
       "  'ong_1': {'project': 'MOE',\n",
       "   'start_date': '01 Jan 2022',\n",
       "   'end_date': '31 Dec 2022',\n",
       "   'uf': 1}}}"
      ]
     },
     "execution_count": 48,
     "metadata": {},
     "output_type": "execute_result"
    }
   ],
   "source": [
    "RESOURCES['Saleh Samaneh']"
   ]
  },
  {
   "cell_type": "code",
   "execution_count": null,
   "id": "66219983",
   "metadata": {},
   "outputs": [
    {
     "data": {
      "text/plain": [
       "{'skillset': ['DQ Lead', 'DM Lead', 'BDM'],\n",
       " 'seniority': 'P1',\n",
       " 'slots': 3,\n",
       " 'hire_date': Timestamp('2021-01-01 00:00:00'),\n",
       " 'num_ongoing_projects': 2,\n",
       " 'current_load': {'ong_0': {'project': 'MOJ',\n",
       "   'start_date': '01 Jan 2022',\n",
       "   'end_date': '31 Dec 2022',\n",
       "   'uf': 1},\n",
       "  'ong_1': {'project': 'MOE',\n",
       "   'start_date': '01 Jan 2022',\n",
       "   'end_date': '31 Dec 2022',\n",
       "   'uf': 1}}}"
      ]
     },
     "execution_count": 29,
     "metadata": {},
     "output_type": "execute_result"
    }
   ],
   "source": [
    "RESOURCES['Saleh Samaneh']"
   ]
  },
  {
   "cell_type": "code",
   "execution_count": null,
   "id": "95d1566e",
   "metadata": {},
   "outputs": [],
   "source": [
    "import copy\n",
    "RESOURCES_future=copy.deepcopy(RESOURCES)"
   ]
  },
  {
   "cell_type": "code",
   "execution_count": null,
   "id": "ff6e782b",
   "metadata": {},
   "outputs": [],
   "source": [
    "i=0\n",
    "for resource in RESOURCES_future.keys():\n",
    "    # RESOURCES_future[resource]['num_ongoing_and_future_projects']=RESOURCES_future[resource]['num_ongoing_projects']\n",
    "    # RESOURCES_future[resource]['current_and_future_load']=RESOURCES_future[resource]['current_load']\n",
    "\n",
    "    for p in model.pipeline_projects:\n",
    "            for t in pipeline_project_tasks[p]:\n",
    "                if model.prt_improper_var[p, t, resource].value == 1:\n",
    "                    i=i+1\n",
    "                    start_date=pipeline_tasks[(p,t)]['start_date']\n",
    "                    end_date=pipeline_tasks[(p,t)]['end_date']\n",
    "                    RESOURCES_future[resource]['num_ongoing_projects']=RESOURCES_future[resource]['num_ongoing_projects']+1\n",
    "                    RESOURCES_future[resource]['current_load'][f'fut_{i}']={\n",
    "                            'project': (p,t), 'start_date': start_date, 'end_date':end_date,'uf':1}                    \n",
    "\n",
    "    "
   ]
  },
  {
   "cell_type": "code",
   "execution_count": 49,
   "id": "787b971b",
   "metadata": {},
   "outputs": [
    {
     "ename": "NameError",
     "evalue": "name 'RESOURCES_future' is not defined",
     "output_type": "error",
     "traceback": [
      "\u001b[1;31m---------------------------------------------------------------------------\u001b[0m",
      "\u001b[1;31mNameError\u001b[0m                                 Traceback (most recent call last)",
      "\u001b[1;32mc:\\jupyter\\jupyter_nb\\job_scheduling\\resource_assignment\\run_optimization_v3.0.ipynb Cell 38\u001b[0m in \u001b[0;36m<cell line: 1>\u001b[1;34m()\u001b[0m\n\u001b[1;32m----> <a href='vscode-notebook-cell:/c%3A/jupyter/jupyter_nb/job_scheduling/resource_assignment/run_optimization_v3.0.ipynb#X52sZmlsZQ%3D%3D?line=0'>1</a>\u001b[0m RESOURCES_future[\u001b[39m'\u001b[39m\u001b[39mIbrahim Kareem\u001b[39m\u001b[39m'\u001b[39m]\n",
      "\u001b[1;31mNameError\u001b[0m: name 'RESOURCES_future' is not defined"
     ]
    }
   ],
   "source": [
    "RESOURCES_future['Ibrahim Kareem']"
   ]
  },
  {
   "cell_type": "code",
   "execution_count": null,
   "id": "d7eb29d0",
   "metadata": {},
   "outputs": [
    {
     "data": {
      "text/plain": [
       "{'skillset': ['DM', 'DQ'],\n",
       " 'seniority': 'SC2',\n",
       " 'slots': 2,\n",
       " 'hire_date': Timestamp('2021-01-01 00:00:00'),\n",
       " 'num_ongoing_projects': 2,\n",
       " 'current_load': {'ong_12': {'project': 'idle',\n",
       "   'start_date': '01 JAN 1900',\n",
       "   'end_date': '02 JAN 1900',\n",
       "   'uf': 0},\n",
       "  'fut_5': {'project': ('STC', 'C1_RHU_DM'),\n",
       "   'start_date': '19 Jan 2023',\n",
       "   'end_date': '08 Feb 2023',\n",
       "   'uf': 1},\n",
       "  'fut_6': {'project': ('STC', 'C1_AMM_DM'),\n",
       "   'start_date': '19 Jan 2023',\n",
       "   'end_date': '08 Feb 2023',\n",
       "   'uf': 1}}}"
      ]
     },
     "execution_count": 33,
     "metadata": {},
     "output_type": "execute_result"
    }
   ],
   "source": [
    "RESOURCES_future['Mohamed unassigned']"
   ]
  },
  {
   "cell_type": "code",
   "execution_count": null,
   "id": "47c7626a",
   "metadata": {},
   "outputs": [
    {
     "data": {
      "text/plain": [
       "{'skillset': ['AI Lead'],\n",
       " 'seniority': 'L1',\n",
       " 'slots': 3,\n",
       " 'hire_date': Timestamp('2021-01-01 00:00:00'),\n",
       " 'num_ongoing_projects': 3,\n",
       " 'current_load': {'ong_4': {'project': 'SWCC',\n",
       "   'start_date': '01 Sep 2022',\n",
       "   'end_date': '01 Oct 2022',\n",
       "   'uf': 1},\n",
       "  'ong_5': {'project': 'MEWA',\n",
       "   'start_date': '01 Aug 2022',\n",
       "   'end_date': '01 Aug 2022',\n",
       "   'uf': 1},\n",
       "  'fut_3': {'project': ('STC', 'L1_RHU_AI Lead'),\n",
       "   'start_date': '07 Jan 2023',\n",
       "   'end_date': '19 Jan 2023',\n",
       "   'uf': 1}}}"
      ]
     },
     "execution_count": 36,
     "metadata": {},
     "output_type": "execute_result"
    }
   ],
   "source": [
    "RESOURCES_future['Amr Mansour']"
   ]
  },
  {
   "cell_type": "code",
   "execution_count": null,
   "id": "c7f1a3f5",
   "metadata": {},
   "outputs": [],
   "source": [
    "from generic_resource_kpis import compute_utilization"
   ]
  },
  {
   "cell_type": "code",
   "execution_count": null,
   "id": "3c0b9318",
   "metadata": {},
   "outputs": [
    {
     "data": {
      "text/plain": [
       "{'Saleh Samaneh': 11,\n",
       " 'Mohamed Hatab': 100,\n",
       " 'Mohamed Qasim': 0,\n",
       " 'Amr Mansour': 3,\n",
       " 'Gayda Mtuhar': 100,\n",
       " 'Ahmad Cheble': 0,\n",
       " 'Mohamed Abo Saad': 0,\n",
       " 'Ibrahim Kareem': 100,\n",
       " 'Hawraa': 0,\n",
       " 'Waleed Abaas': 0,\n",
       " 'Amr Ramadan': 100,\n",
       " 'Akram': 100,\n",
       " 'Mohamed unassigned': 5}"
      ]
     },
     "execution_count": 35,
     "metadata": {},
     "output_type": "execute_result"
    }
   ],
   "source": [
    "compute_utilization(\"1 JAN 2023\",\"31 DEC 2023\",RESOURCES_future)"
   ]
  },
  {
   "cell_type": "code",
   "execution_count": null,
   "id": "18dfb94e",
   "metadata": {},
   "outputs": [],
   "source": []
  },
  {
   "cell_type": "code",
   "execution_count": null,
   "id": "59ad3dbe",
   "metadata": {},
   "outputs": [],
   "source": []
  },
  {
   "cell_type": "code",
   "execution_count": null,
   "id": "69c0d2bf",
   "metadata": {},
   "outputs": [],
   "source": []
  },
  {
   "cell_type": "code",
   "execution_count": null,
   "id": "c5fd6ffd",
   "metadata": {},
   "outputs": [],
   "source": []
  },
  {
   "cell_type": "markdown",
   "id": "352af5bf",
   "metadata": {},
   "source": [
    "WorkSpace"
   ]
  },
  {
   "cell_type": "code",
   "execution_count": 36,
   "id": "f400de92",
   "metadata": {},
   "outputs": [
    {
     "data": {
      "text/plain": [
       "{'skillset': ['DQ Lead', 'DM Lead', 'BDM'],\n",
       " 'seniority': 'P1',\n",
       " 'slots': 3,\n",
       " 'hire_date': Timestamp('2021-01-01 00:00:00'),\n",
       " 'num_ongoing_projects': 3,\n",
       " 'current_load': {'ong_0': {'project': 'MOJ',\n",
       "   'start_date': '01 Jan 2022',\n",
       "   'end_date': '31 Dec 2022',\n",
       "   'uf': 1},\n",
       "  'ong_1': {'project': 'MOE',\n",
       "   'start_date': '01 Jan 2022',\n",
       "   'end_date': '31 Dec 2022',\n",
       "   'uf': 1},\n",
       "  'fut_1': {'project': ('STC', 'L1_RHU_DM Lead'),\n",
       "   'start_date': '07 Jan 2022',\n",
       "   'end_date': '19 Jan 2022',\n",
       "   'uf': 1}}}"
      ]
     },
     "execution_count": 36,
     "metadata": {},
     "output_type": "execute_result"
    }
   ],
   "source": [
    "RESOURCES_future['Saleh Samaneh']"
   ]
  },
  {
   "cell_type": "code",
   "execution_count": 37,
   "id": "fbea05e3",
   "metadata": {},
   "outputs": [
    {
     "data": {
      "text/plain": [
       "{'ong_12': {'project': 'idle',\n",
       "  'start_date': '01 JAN 1900',\n",
       "  'end_date': '02 JAN 1900',\n",
       "  'uf': 0}}"
      ]
     },
     "execution_count": 37,
     "metadata": {},
     "output_type": "execute_result"
    }
   ],
   "source": [
    "all_projects_dictionary=RESOURCES_future['Mohamed unassigned']['current_load']\n",
    "all_projects_dictionary"
   ]
  },
  {
   "cell_type": "code",
   "execution_count": 38,
   "id": "f8acd80a",
   "metadata": {},
   "outputs": [
    {
     "data": {
      "text/plain": [
       "'idle'"
      ]
     },
     "execution_count": 38,
     "metadata": {},
     "output_type": "execute_result"
    }
   ],
   "source": [
    "all_projects_dictionary['ong_12']['project']"
   ]
  },
  {
   "cell_type": "code",
   "execution_count": 39,
   "id": "04f775fe",
   "metadata": {},
   "outputs": [
    {
     "data": {
      "text/plain": [
       "{'STC': {'P1_RHU_BDM': [],\n",
       "  'SC2_RHU_DRM': [],\n",
       "  'L1_RHU_AI Lead': ['Amr Mansour'],\n",
       "  'L1_RHU_DG Lead': [],\n",
       "  'L1_RHU_DM Lead': ['Saleh Samaneh'],\n",
       "  'C1_RHU_DM': ['Mohamed Qasim'],\n",
       "  'C1_AMM_DM': ['Mohamed Hatab'],\n",
       "  'C1_RHU_Coordinator': ['Ibrahim Kareem']}}"
      ]
     },
     "execution_count": 39,
     "metadata": {},
     "output_type": "execute_result"
    }
   ],
   "source": [
    "def get_resource_assignment(resource_assignment):\n",
    "    resource_table = {\n",
    "        \n",
    "        p: {t: [] for t in pipeline_project_tasks[p]} \n",
    "        for p in model.pipeline_projects}   \n",
    "    \n",
    "    \n",
    "    for r in model.RESOURCES :\n",
    "        for p in model.pipeline_projects:\n",
    "            for t in pipeline_project_tasks[p]:\n",
    "                if model.prt_improper_var[p, t, r].value == 1:\n",
    "                    resource_table[p][t].append(r)\n",
    "    return resource_table\n",
    "\n",
    "get_resource_assignment(model.prt_improper_var)"
   ]
  },
  {
   "cell_type": "code",
   "execution_count": 40,
   "id": "0465d1cd",
   "metadata": {},
   "outputs": [
    {
     "data": {
      "text/plain": [
       "{'skillset': ['DQ Lead', 'DM Lead', 'BDM'],\n",
       " 'seniority': 'P1',\n",
       " 'slots': 3,\n",
       " 'hire_date': Timestamp('2021-01-01 00:00:00'),\n",
       " 'num_ongoing_projects': 2,\n",
       " 'current_load': {'ong_0': {'project': 'MOJ',\n",
       "   'start_date': '01 Jan 2022',\n",
       "   'end_date': '31 Dec 2022',\n",
       "   'uf': 1},\n",
       "  'ong_1': {'project': 'MOE',\n",
       "   'start_date': '01 Jan 2022',\n",
       "   'end_date': '31 Dec 2022',\n",
       "   'uf': 1}}}"
      ]
     },
     "execution_count": 40,
     "metadata": {},
     "output_type": "execute_result"
    }
   ],
   "source": [
    "RESOURCES['Saleh Samaneh']"
   ]
  },
  {
   "cell_type": "code",
   "execution_count": 41,
   "id": "18ee32e9",
   "metadata": {},
   "outputs": [
    {
     "data": {
      "text/plain": [
       "{'Saleh Samaneh': {'skillset': ['DQ Lead', 'DM Lead', 'BDM'],\n",
       "  'seniority': 'P1',\n",
       "  'slots': 3,\n",
       "  'hire_date': Timestamp('2021-01-01 00:00:00'),\n",
       "  'num_ongoing_projects': 2,\n",
       "  'current_load': {'ong_0': {'project': 'MOJ',\n",
       "    'start_date': '01 Jan 2022',\n",
       "    'end_date': '31 Dec 2022',\n",
       "    'uf': 1},\n",
       "   'ong_1': {'project': 'MOE',\n",
       "    'start_date': '01 Jan 2022',\n",
       "    'end_date': '31 Dec 2022',\n",
       "    'uf': 1}}},\n",
       " 'Mohamed Hatab': {'skillset': ['DM', 'DQ'],\n",
       "  'seniority': 'P1',\n",
       "  'slots': 3,\n",
       "  'hire_date': Timestamp('2021-01-01 00:00:00'),\n",
       "  'num_ongoing_projects': 1,\n",
       "  'current_load': {'ong_2': {'project': 'HRSD',\n",
       "    'start_date': '01 Jan 2022',\n",
       "    'end_date': '01 Jan 2024',\n",
       "    'uf': 1}}},\n",
       " 'Mohamed Qasim': {'skillset': ['DM', 'DQ'],\n",
       "  'seniority': 'SC2',\n",
       "  'slots': 2,\n",
       "  'hire_date': Timestamp('2021-01-01 00:00:00'),\n",
       "  'num_ongoing_projects': 1,\n",
       "  'current_load': {'ong_3': {'project': 'MEWA',\n",
       "    'start_date': '01 Jan 2022',\n",
       "    'end_date': '31 Dec 2022',\n",
       "    'uf': 1}}},\n",
       " 'Amr Mansour': {'skillset': ['AI Lead'],\n",
       "  'seniority': 'L1',\n",
       "  'slots': 3,\n",
       "  'hire_date': Timestamp('2021-01-01 00:00:00'),\n",
       "  'num_ongoing_projects': 2,\n",
       "  'current_load': {'ong_4': {'project': 'SWCC',\n",
       "    'start_date': '01 Sep 2022',\n",
       "    'end_date': '01 Oct 2022',\n",
       "    'uf': 1},\n",
       "   'ong_5': {'project': 'MEWA',\n",
       "    'start_date': '01 Aug 2022',\n",
       "    'end_date': '01 Aug 2022',\n",
       "    'uf': 1}}},\n",
       " 'Gayda Mtuhar': {'skillset': ['AI'],\n",
       "  'seniority': 'C1',\n",
       "  'slots': 1,\n",
       "  'hire_date': Timestamp('2021-01-01 00:00:00'),\n",
       "  'num_ongoing_projects': 1,\n",
       "  'current_load': {'ong_6': {'project': 'SWCC',\n",
       "    'start_date': '01 Jan 2022',\n",
       "    'end_date': '01 Jan 2024',\n",
       "    'uf': 1}}},\n",
       " 'Ahmad Cheble': {'skillset': ['AI'],\n",
       "  'seniority': 'C1',\n",
       "  'slots': 1,\n",
       "  'hire_date': Timestamp('2021-01-01 00:00:00'),\n",
       "  'num_ongoing_projects': 1,\n",
       "  'current_load': {'ong_7': {'project': 'MEWA',\n",
       "    'start_date': '01 Jan 2022',\n",
       "    'end_date': '01 Nov 2022',\n",
       "    'uf': 1}}},\n",
       " 'Mohamed Abo Saad': {'skillset': ['AI'],\n",
       "  'seniority': 'C1',\n",
       "  'slots': 1,\n",
       "  'hire_date': Timestamp('2021-01-01 00:00:00'),\n",
       "  'num_ongoing_projects': 1,\n",
       "  'current_load': {'ong_8': {'project': 'SWCC',\n",
       "    'start_date': '01 Jul 2022',\n",
       "    'end_date': '31 Dec 2022',\n",
       "    'uf': 1}}},\n",
       " 'Ibrahim Kareem': {'skillset': ['AI', 'DQ', 'DM', 'Coordinator'],\n",
       "  'seniority': 'L2',\n",
       "  'slots': 3,\n",
       "  'hire_date': Timestamp('2021-01-01 00:00:00'),\n",
       "  'num_ongoing_projects': 1,\n",
       "  'current_load': {'ong_9': {'project': 'SWCC',\n",
       "    'start_date': '01 Jan 2022',\n",
       "    'end_date': '01 Jan 2024',\n",
       "    'uf': 1}}},\n",
       " 'Hawraa': {'skillset': ['AI'],\n",
       "  'seniority': 'C1',\n",
       "  'slots': 1,\n",
       "  'hire_date': Timestamp('2021-01-01 00:00:00'),\n",
       "  'num_ongoing_projects': 1,\n",
       "  'current_load': {'ong_10': {'project': 'SWCC',\n",
       "    'start_date': '01 Jul 2022',\n",
       "    'end_date': '31 Dec 2022',\n",
       "    'uf': 1}}},\n",
       " 'Waleed Abaas': {'skillset': ['DG'],\n",
       "  'seniority': 'L2',\n",
       "  'slots': 3,\n",
       "  'hire_date': Timestamp('2021-01-01 00:00:00'),\n",
       "  'num_ongoing_projects': 1,\n",
       "  'current_load': {'ong_11': {'project': 'MOJ',\n",
       "    'start_date': '01 Jul 2022',\n",
       "    'end_date': '31 Dec 2022',\n",
       "    'uf': 1}}},\n",
       " 'Amr Ramadan': {'skillset': ['DG', 'DQ'],\n",
       "  'seniority': 'SC2',\n",
       "  'slots': 2,\n",
       "  'hire_date': Timestamp('2021-01-01 00:00:00'),\n",
       "  'num_ongoing_projects': 1,\n",
       "  'current_load': {'ong_12': {'project': 'HRSD',\n",
       "    'start_date': '01 Jun 2022',\n",
       "    'end_date': '01 Jan 2024',\n",
       "    'uf': 1}}},\n",
       " 'Akram': {'skillset': ['DG', 'DQ'],\n",
       "  'seniority': 'L1',\n",
       "  'slots': 3,\n",
       "  'hire_date': Timestamp('2021-01-01 00:00:00'),\n",
       "  'num_ongoing_projects': 1,\n",
       "  'current_load': {'ong_13': {'project': 'HRSD',\n",
       "    'start_date': '01 Jun 2022',\n",
       "    'end_date': '01 Jan 2024',\n",
       "    'uf': 1}}},\n",
       " 'Mohamed unassigned': {'skillset': ['DM', 'DQ'],\n",
       "  'seniority': 'SC2',\n",
       "  'slots': 2,\n",
       "  'hire_date': Timestamp('2021-01-01 00:00:00'),\n",
       "  'num_ongoing_projects': 0,\n",
       "  'current_load': {'ong_12': {'project': 'idle',\n",
       "    'start_date': '01 JAN 1900',\n",
       "    'end_date': '02 JAN 1900',\n",
       "    'uf': 0}}}}"
      ]
     },
     "execution_count": 41,
     "metadata": {},
     "output_type": "execute_result"
    }
   ],
   "source": [
    "RESOURCES"
   ]
  },
  {
   "cell_type": "code",
   "execution_count": null,
   "id": "6ccdc417",
   "metadata": {},
   "outputs": [],
   "source": []
  }
 ],
 "metadata": {
  "kernelspec": {
   "display_name": "Python 3.10.5 ('mo')",
   "language": "python",
   "name": "python3"
  },
  "language_info": {
   "codemirror_mode": {
    "name": "ipython",
    "version": 3
   },
   "file_extension": ".py",
   "mimetype": "text/x-python",
   "name": "python",
   "nbconvert_exporter": "python",
   "pygments_lexer": "ipython3",
   "version": "3.10.5"
  },
  "vscode": {
   "interpreter": {
    "hash": "947daf0431bb87ca8bb675fb7e6d22d7371c54ed17c7aa34b93b48f515ac9831"
   }
  }
 },
 "nbformat": 4,
 "nbformat_minor": 5
}
